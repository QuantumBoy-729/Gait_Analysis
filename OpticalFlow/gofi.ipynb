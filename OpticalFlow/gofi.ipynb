{
 "cells": [
  {
   "cell_type": "code",
   "execution_count": 36,
   "metadata": {},
   "outputs": [],
   "source": [
    "import cv2\n",
    "import pyarma as arma\n",
    "import os\n",
    "import numpy as np"
   ]
  },
  {
   "cell_type": "markdown",
   "metadata": {},
   "source": [
    "## Temp"
   ]
  },
  {
   "cell_type": "code",
   "execution_count": 2,
   "metadata": {},
   "outputs": [],
   "source": [
    "probe_path = \"D:\\\\Dataset\\\\Silhouette_090-00\\\\00005\""
   ]
  },
  {
   "cell_type": "code",
   "execution_count": 64,
   "metadata": {},
   "outputs": [],
   "source": [
    "import pickle\n",
    "\n",
    "# write list to binary file\n",
    "def save_list(a_list, path):\n",
    "    # store list in binary file so 'wb' mode\n",
    "    with open(path, 'wb') as fp:\n",
    "        pickle.dump(a_list, fp)\n",
    "\n",
    "# Read list to memory\n",
    "def read_saved_list(path):\n",
    "    # for reading also binary mode is important\n",
    "    with open(path, 'rb') as fp:\n",
    "        n_list = pickle.load(fp)\n",
    "        return n_list\n"
   ]
  },
  {
   "cell_type": "code",
   "execution_count": 40,
   "metadata": {},
   "outputs": [],
   "source": [
    "img = cv2.imread(\"0021.png\")\n",
    "img = cv2.cvtColor(img, cv2.COLOR_BGR2GRAY)"
   ]
  },
  {
   "cell_type": "code",
   "execution_count": 41,
   "metadata": {},
   "outputs": [
    {
     "data": {
      "text/plain": [
       "(960, 1280)"
      ]
     },
     "execution_count": 41,
     "metadata": {},
     "output_type": "execute_result"
    }
   ],
   "source": [
    "img.shape"
   ]
  },
  {
   "cell_type": "code",
   "execution_count": 43,
   "metadata": {},
   "outputs": [],
   "source": [
    "simg = cv2.resize(img, (320, 240))"
   ]
  },
  {
   "cell_type": "code",
   "execution_count": 44,
   "metadata": {},
   "outputs": [
    {
     "data": {
      "text/plain": [
       "(240, 320)"
      ]
     },
     "execution_count": 44,
     "metadata": {},
     "output_type": "execute_result"
    }
   ],
   "source": [
    "simg.shape"
   ]
  },
  {
   "cell_type": "code",
   "execution_count": 45,
   "metadata": {},
   "outputs": [
    {
     "data": {
      "text/plain": [
       "-1"
      ]
     },
     "execution_count": 45,
     "metadata": {},
     "output_type": "execute_result"
    }
   ],
   "source": [
    "cv2.imshow(\"simg\", simg)\n",
    "cv2.waitKey(0)\n"
   ]
  },
  {
   "cell_type": "markdown",
   "metadata": {},
   "source": [
    "## Util Functions"
   ]
  },
  {
   "cell_type": "code",
   "execution_count": 7,
   "metadata": {},
   "outputs": [],
   "source": [
    "def getMean(tempX):\n",
    "    csum = 0\n",
    "    if len(tempX) <= 0:\n",
    "        return csum\n",
    "    for i in tempX:\n",
    "        csum += i\n",
    "    mean = csum // len(tempX)\n",
    "    return mean"
   ]
  },
  {
   "cell_type": "code",
   "execution_count": 8,
   "metadata": {},
   "outputs": [],
   "source": [
    "def findnonzero(mat):\n",
    "    temp = []\n",
    "    tempX = set()\n",
    "    tempY = set()\n",
    "    for i in range(mat.n_rows):\n",
    "        for j in range(mat.n_cols):\n",
    "            if mat[i,j] != 0:\n",
    "                tempX.add(i)\n",
    "                tempY.add(j)\n",
    "    temp.append(tempX)\n",
    "    temp.append(tempY)\n",
    "    return temp"
   ]
  },
  {
   "cell_type": "code",
   "execution_count": 9,
   "metadata": {},
   "outputs": [],
   "source": [
    "def findnonzeroM(mat):\n",
    "    temp = []\n",
    "    tempX = []\n",
    "    tempY = []\n",
    "    for i in range(mat.n_rows):\n",
    "        for j in range(mat.n_cols):\n",
    "            if mat[i,j] != 0:\n",
    "                tempX.append(i)\n",
    "                tempY.append(j)\n",
    "    temp.append(tempX)\n",
    "    temp.append(tempY)\n",
    "    return temp"
   ]
  },
  {
   "cell_type": "code",
   "execution_count": 10,
   "metadata": {},
   "outputs": [],
   "source": [
    "def getMaxValue(mat):\n",
    "    mx = 0\n",
    "    for i in mat:\n",
    "        if len(i) > mx:\n",
    "            mx = len(i)\n",
    "    return mx"
   ]
  },
  {
   "cell_type": "code",
   "execution_count": 11,
   "metadata": {},
   "outputs": [],
   "source": [
    "def cvtoarma(cv_mat_in):\n",
    "    x = cv_mat_in.tolist()\n",
    "    arma_mat = arma.mat(x)\n",
    "    return arma_mat"
   ]
  },
  {
   "cell_type": "code",
   "execution_count": 12,
   "metadata": {},
   "outputs": [],
   "source": [
    "def dealNor(mat):\n",
    "    mx = getMaxValue(mat)\n",
    "    temp = []\n",
    "    size = 0\n",
    "    for i in range(mx):\n",
    "        value = 0.0\n",
    "        for j in range(len(mat)):\n",
    "            size = len(mat[j])\n",
    "            if (i + 1) > size:\n",
    "                mat[j].append(0.0)\n",
    "            else:\n",
    "                value += float(mat[j][i])\n",
    "        temp.append(value)\n",
    "    return temp"
   ]
  },
  {
   "cell_type": "code",
   "execution_count": 13,
   "metadata": {},
   "outputs": [],
   "source": [
    "def write_list(lst, path):\n",
    "    with open(path, 'w') as fp:\n",
    "        for item in lst:\n",
    "            # write each item on a new line\n",
    "            fp.write(\"%s\\n\" % item)\n",
    "\n",
    "def read_list(path):\n",
    "    with open(path, 'r') as fp:\n",
    "        lst = fp.read().splitlines()\n",
    "        lst = list(map(float, lst))\n",
    "        return lst"
   ]
  },
  {
   "cell_type": "code",
   "execution_count": 32,
   "metadata": {},
   "outputs": [],
   "source": [
    "def calcDistance(sub_vcetors, probe_vectors):\n",
    "\tdis = 0.0\n",
    "\tusRowW = sub_vcetors[0]\n",
    "\tdis += calcCellDis(usRowW, probe_vectors[0])\n",
    "\n",
    "\tusColW = sub_vcetors[1]\n",
    "\tdis += calcCellDis(usColW, probe_vectors[1])\n",
    "\n",
    "\tvsRowW = sub_vcetors[2]\n",
    "\tdis += calcCellDis(vsRowW, probe_vectors[2])\n",
    "\n",
    "\tvsColW = sub_vcetors[3]\n",
    "\tdis += calcCellDis(vsColW, probe_vectors[3])\n",
    "\n",
    "\treturn dis\n",
    "\n",
    "\n",
    "def calcCellDis(sub, probe):\n",
    "\tusCurrentR = 0.0\n",
    "\tusSourceR = 0.0\n",
    "\tdis = 0.0\n",
    "\tfor i in range(len(sub)):\n",
    "\t\tusCurrentR = sub[i]\n",
    "\t\tif (i > len(probe) - 1):\n",
    "\t\t\tusSourceR = 0.0\n",
    "\t\telse:\n",
    "\t\t\tusSourceR = probe[i]\n",
    "\t\tdis += abs(usCurrentR - usSourceR)\n",
    "\treturn dis"
   ]
  },
  {
   "cell_type": "code",
   "execution_count": 16,
   "metadata": {},
   "outputs": [],
   "source": [
    "def write_vectors(vecs, id):\n",
    "    exists = os.path.exists('Gallery//' + str(id))\n",
    "    usRowW = vecs[0]\n",
    "    usColW = vecs[1]\n",
    "    vsRowW = vecs[2]\n",
    "    vsColW = vecs[3]\n",
    "    if not exists:\n",
    "        os.makedirs('Gallery//' + str(id))\n",
    "\n",
    "    write_list(usRowW, 'Gallery//' + str(id) + '//usRowW.txt')\n",
    "    write_list(usColW, 'Gallery//' + str(id) + '//usColW.txt')\n",
    "    write_list(vsRowW, 'Gallery//' + str(id) + '//vsRowW.txt')\n",
    "    write_list(vsColW, 'Gallery//' + str(id) + '//vsColW.txt')\n",
    "    "
   ]
  },
  {
   "cell_type": "markdown",
   "metadata": {},
   "source": [
    "## Functions for optical flow calculation"
   ]
  },
  {
   "cell_type": "code",
   "execution_count": 46,
   "metadata": {},
   "outputs": [],
   "source": [
    "def make_sequence(path):\n",
    "    sequence = []\n",
    "    for i in os.scandir(path):\n",
    "        if i.path.endswith(\".png\") and i.is_file():\n",
    "            img = cv2.imread(i.path)\n",
    "            img = cv2.cvtColor(img, cv2.COLOR_BGR2GRAY)\n",
    "            # For OSAKA\n",
    "            img = cv2.resize(img, (320, 240))\n",
    "            # REMOVE Above line for CASIA\n",
    "            arma_mat = cvtoarma(img)\n",
    "            mean = getMean(findnonzero(arma_mat)[1]) # get mean of nonzero elements\n",
    "            arma_mat = arma.shift(arma_mat, 160 - mean, 1)\n",
    "            sequence.append(arma_mat)\n",
    "    return sequence"
   ]
  },
  {
   "cell_type": "code",
   "execution_count": 15,
   "metadata": {},
   "outputs": [],
   "source": [
    "def findFlowUtil(flow):\n",
    "    usRow = []\n",
    "    usCol = []\n",
    "    vsRow = []\n",
    "    vsCol = []\n",
    "    for i in range(len(flow)):\n",
    "        mus = flow[i][0]\n",
    "        mvs = flow[i][1]\n",
    "        MUSrowAndCol = findnonzero(mus)\n",
    "        MVSrowAndCol = findnonzero(mvs)\n",
    "        MUSTOTALrowAndcol = findnonzeroM(mus)\n",
    "        MVSTOTALrowAndcol = findnonzeroM(mvs)\n",
    "\n",
    "        usRvalue = 0.0\n",
    "        usRtemp = []\n",
    "        for usi in MUSrowAndCol[0]:\n",
    "            for usii in MUSTOTALrowAndcol[0]:\n",
    "                if usi == usii and mus[usi, usii] < 0.0:\n",
    "                    usRvalue += mus[usi, usii]\n",
    "            usRtemp.append(-usRvalue)\n",
    "        usRow.append(usRtemp)\n",
    "\n",
    "        usCvalue = 0.0\n",
    "        usCtemp = []\n",
    "        for usi in MUSrowAndCol[1]:\n",
    "            for usii in MUSTOTALrowAndcol[1]:\n",
    "                if usi == usii and mus[usi, usii] < 0.0:\n",
    "                    usCvalue += mus[usi, usii]\n",
    "            usCtemp.append(-usCvalue)\n",
    "        usCol.append(usCtemp)\n",
    "\n",
    "        vsRvalue = 0.0\n",
    "        vsRtemp = []\n",
    "        for vsi in MVSrowAndCol[0]:\n",
    "            for vsii in MVSTOTALrowAndcol[0]:\n",
    "                if vsi == vsii and mus[vsi, vsii] < 0.0:\n",
    "                    vsRvalue += mus[vsi, vsii]\n",
    "            vsRtemp.append(-vsRvalue)\n",
    "        vsRow.append(vsRtemp)\n",
    "\n",
    "        vsCvalue = 0.0\n",
    "        vsCtemp = []\n",
    "        for vsi in MVSrowAndCol[1]:\n",
    "            for vsii in MVSTOTALrowAndcol[1]:\n",
    "                if vsi == vsii and mvs[vsi, vsii] < 0.0:\n",
    "                    vsCvalue += mvs[vsi, vsii]\n",
    "            vsCtemp.append(-vsCvalue)\n",
    "        vsCol.append(vsCtemp)\n",
    "    \n",
    "    usRowW = dealNor(usRow)\n",
    "    usColW = dealNor(usCol)\n",
    "    vsRowW = dealNor(vsRow)\n",
    "    vsColW = dealNor(vsCol)\n",
    "    return [usRowW, usColW, vsRowW, vsColW]\n",
    "\n",
    "    "
   ]
  },
  {
   "cell_type": "code",
   "execution_count": 17,
   "metadata": {},
   "outputs": [],
   "source": [
    "def findOpticalflow(sequence):\n",
    "    flow = []\n",
    "    out = []\n",
    "    for i in range(len(sequence) - 1):\n",
    "        f1 = sequence[i]\n",
    "        f2 = sequence[i + 1]\n",
    "\n",
    "        v1 = arma.mat(f1.n_rows, f1.n_cols)\n",
    "        v1.zeros()\n",
    "        v2 = arma.mat(f1.n_rows, f1.n_cols)\n",
    "        v2.zeros()\n",
    "        fx = arma.mat(f1.n_rows, f1.n_cols)\n",
    "        fx.zeros()\n",
    "        fy = arma.mat(f1.n_rows, f1.n_cols)\n",
    "        fy.zeros()\n",
    "        fz = arma.mat(f1.n_rows, f1.n_cols)\n",
    "        fz.zeros()\n",
    "\n",
    "        alpha2 = 625\n",
    "        imax = 20\n",
    "\n",
    "        filter1 = arma.mat(2, 2)\n",
    "        filter1[0, 0] = -1\n",
    "        filter1[0, 1] = 1\n",
    "        filter1[1, 0] = -1\n",
    "        filter1[1, 1] = 1\n",
    "        filter1 = filter1 * 0.25\n",
    "        temp1 = arma.conv2(f1, filter1, \"same\")\n",
    "        temp2 = arma.conv2(f2, filter1, \"same\")\n",
    "        fx = temp1 + temp2\n",
    "\n",
    "        filter11 = arma.mat(2, 2)\n",
    "        filter11[0, 0] = -1\n",
    "        filter11[0, 1] = -1\n",
    "        filter11[1, 0] = 1\n",
    "        filter11[1, 1] = 1\n",
    "        filter11 = filter11 * 0.25\n",
    "        temp11 = arma.conv2(f1, filter11, \"same\")\n",
    "        temp22 = arma.conv2(f2, filter11, \"same\")\n",
    "        fy = temp11 + temp22\n",
    "\n",
    "        filter111 = arma.mat(2, 2)\n",
    "        filter11[0, 0] = 1\n",
    "        filter111[0, 1] = 1\n",
    "        filter111[1, 0] = 1\n",
    "        filter111[1, 1] = 1\n",
    "        filter111 = filter111 * 0.25\n",
    "        temp111 = arma.conv2(f1, filter111, \"same\")\n",
    "        temp222 = arma.conv2(f2, filter111, \"same\")\n",
    "        fz = temp111 + temp222\n",
    "\n",
    "        for i in range(imax):\n",
    "            mat1 = fx @ v1\n",
    "            mat2 = fy @ v2\n",
    "            mat3 = mat1 + mat2\n",
    "            mat3 = mat3 + fz\n",
    "\n",
    "            mat4 = fx @ fx\n",
    "            mat5 = fy @ fy\n",
    "            mat6 = mat4 + mat5 \n",
    "            mat6 = mat6 + alpha2\n",
    "\n",
    "            delta = mat3 / mat6\n",
    "\n",
    "            v1 = v1 - fx @ delta\n",
    "            v2 = v2 - fy @ delta\n",
    "        \n",
    "        u = v1\n",
    "        v = v2\n",
    "        d = round(f1.n_rows / 50.0)\n",
    "        hs_size = f1.n_rows // d\n",
    "        ws_size = f1.n_cols // d\n",
    "        us = arma.mat(hs_size, ws_size, arma.fill.zeros)\n",
    "        vs = us\n",
    "\n",
    "        N = d**2.0\n",
    "        for i in range(hs_size - 1):\n",
    "            for j in range(ws_size - 1):\n",
    "                hk = i * d\n",
    "                hl = (i + 1) * d - 1\n",
    "                wk = j * d\n",
    "                wl = (j + 1) * d - 1\n",
    "                sum1 = arma.sum(arma.sum(u[hk:hl, wk:wl]))[0, 0]\n",
    "                sum2 = arma.sum(arma.sum(v[hk:hl, wk:wl]))[0, 0]\n",
    "                us[i, j] = sum1 / N\n",
    "                vs[i, j] = sum2 / N\n",
    "        flow.append(us)\n",
    "        flow.append(vs)\n",
    "        out.append(flow)\n",
    "        flow = [] \n",
    "    return out\n"
   ]
  },
  {
   "cell_type": "markdown",
   "metadata": {},
   "source": [
    "## Wrapper Functions"
   ]
  },
  {
   "cell_type": "code",
   "execution_count": 47,
   "metadata": {},
   "outputs": [],
   "source": [
    "def make_db(path, id):\n",
    "    seq = make_sequence(path)\n",
    "    #id = str(path).split('\\\\')[-1]\n",
    "    flow = findOpticalflow(seq)\n",
    "    vecs = findFlowUtil(flow)\n",
    "    write_vectors(vecs, id)"
   ]
  },
  {
   "cell_type": "code",
   "execution_count": 34,
   "metadata": {},
   "outputs": [],
   "source": [
    "def match_person(pseq_path, gallery_path):\n",
    "    probe_seq = make_sequence(pseq_path)\n",
    "    probe_flow = findOpticalflow(probe_seq)\n",
    "    probe_vecs = findFlowUtil(probe_flow)\n",
    "    distances = []\n",
    "    for i in os.scandir(gallery_path):\n",
    "        if i.is_dir():\n",
    "            curr_subject = []\n",
    "            curr_subject.append(read_list(gallery_path + '//' + i.name + '//usRowW.txt'))\n",
    "            curr_subject.append(read_list(gallery_path + '//' + i.name + '//usColW.txt'))\n",
    "            curr_subject.append(read_list(gallery_path + '//' + i.name + '//vsRowW.txt'))\n",
    "            curr_subject.append(read_list(gallery_path + '//' + i.name + '//vsColW.txt'))\n",
    "            dist = calcDistance(curr_subject, probe_vecs)\n",
    "            distances.append((dist, i.name))\n",
    "    return min(distances, key=lambda x: x[0])[1]\n",
    "\n"
   ]
  },
  {
   "cell_type": "markdown",
   "metadata": {},
   "source": [
    "## Testing CASIA"
   ]
  },
  {
   "cell_type": "code",
   "execution_count": 20,
   "metadata": {},
   "outputs": [],
   "source": [
    "sub1 = \"D:\\\\Dataset\\\\CASIA\\\\001\\\\nm-01\\\\090\"\n",
    "sub2 = \"D:\\\\Dataset\\\\CASIA\\\\002\\\\nm-01\\\\090\"\n",
    "sub3 = \"D:\\\\Dataset\\\\CASIA\\\\003\\\\nm-01\\\\090\"\n",
    "sub4 = \"D:\\\\Dataset\\\\CASIA\\\\004\\\\nm-01\\\\090\"\n",
    "sub5 = \"D:\\\\Dataset\\\\CASIA\\\\005\\\\nm-01\\\\090\""
   ]
  },
  {
   "cell_type": "code",
   "execution_count": 23,
   "metadata": {},
   "outputs": [],
   "source": [
    "make_db(sub1,1)"
   ]
  },
  {
   "cell_type": "code",
   "execution_count": 26,
   "metadata": {},
   "outputs": [],
   "source": [
    "make_db(sub2, 2)\n",
    "make_db(sub3, 3)\n",
    "make_db(sub4, 4)\n",
    "make_db(sub5, 5)"
   ]
  },
  {
   "cell_type": "code",
   "execution_count": 35,
   "metadata": {},
   "outputs": [
    {
     "data": {
      "text/plain": [
       "'2'"
      ]
     },
     "execution_count": 35,
     "metadata": {},
     "output_type": "execute_result"
    }
   ],
   "source": [
    "match_person(sub2, \"Gallery\")"
   ]
  },
  {
   "cell_type": "markdown",
   "metadata": {},
   "source": [
    "## Testing Osaka"
   ]
  },
  {
   "cell_type": "code",
   "execution_count": 48,
   "metadata": {},
   "outputs": [],
   "source": [
    "s1 = \"D:\\\\Dataset\\\\Silhouette_090-00\\\\00001\"\n",
    "s2 = \"D:\\\\Dataset\\\\Silhouette_090-00\\\\00002\"\n",
    "s3 = \"D:\\\\Dataset\\\\Silhouette_090-00\\\\00003\"\n",
    "s4 = \"D:\\\\Dataset\\\\Silhouette_090-00\\\\00004\"\n",
    "s5 = \"D:\\\\Dataset\\\\Silhouette_090-00\\\\00005\""
   ]
  },
  {
   "cell_type": "code",
   "execution_count": 50,
   "metadata": {},
   "outputs": [],
   "source": [
    "make_db(s1,1)"
   ]
  },
  {
   "cell_type": "code",
   "execution_count": 51,
   "metadata": {},
   "outputs": [],
   "source": [
    "make_db(s2,2)\n",
    "make_db(s3,3)\n",
    "make_db(s4,4)\n",
    "make_db(s5,5)"
   ]
  },
  {
   "cell_type": "code",
   "execution_count": 52,
   "metadata": {},
   "outputs": [
    {
     "data": {
      "text/plain": [
       "'3'"
      ]
     },
     "execution_count": 52,
     "metadata": {},
     "output_type": "execute_result"
    }
   ],
   "source": [
    "match_person(s3, \"Gallery\")"
   ]
  },
  {
   "cell_type": "code",
   "execution_count": null,
   "metadata": {},
   "outputs": [],
   "source": []
  }
 ],
 "metadata": {
  "kernelspec": {
   "display_name": "Python 3.9.0 ('gait')",
   "language": "python",
   "name": "python3"
  },
  "language_info": {
   "codemirror_mode": {
    "name": "ipython",
    "version": 3
   },
   "file_extension": ".py",
   "mimetype": "text/x-python",
   "name": "python",
   "nbconvert_exporter": "python",
   "pygments_lexer": "ipython3",
   "version": "3.9.0"
  },
  "orig_nbformat": 4,
  "vscode": {
   "interpreter": {
    "hash": "fe28410f99e387017baf34b0372bc63589bd5caef7841889e01e46b6eddbe3ca"
   }
  }
 },
 "nbformat": 4,
 "nbformat_minor": 2
}
