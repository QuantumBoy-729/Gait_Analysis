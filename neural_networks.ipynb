{
 "cells": [
  {
   "cell_type": "code",
   "execution_count": 1,
   "id": "cd7eb111",
   "metadata": {},
   "outputs": [],
   "source": [
    "import cv2\n",
    "import os\n",
    "import random\n",
    "import numpy as np\n",
    "from matplotlib import pyplot as plt"
   ]
  },
  {
   "cell_type": "code",
   "execution_count": 2,
   "id": "d0e3c465",
   "metadata": {},
   "outputs": [],
   "source": [
    "from tensorflow.keras.models import Model\n",
    "from tensorflow.keras.layers import Layer, Conv2D, Dense, MaxPooling2D, Input, Flatten\n",
    "import tensorflow as tf"
   ]
  },
  {
   "cell_type": "code",
   "execution_count": 3,
   "id": "3df3a11b",
   "metadata": {},
   "outputs": [],
   "source": [
    "gpus = tf.config.experimental.list_physical_devices('GPU')\n",
    "for gpu in gpus: \n",
    "    tf.config.experimental.set_memory_growth(gpu, True)"
   ]
  },
  {
   "cell_type": "code",
   "execution_count": 4,
   "id": "5a3fdc7d",
   "metadata": {},
   "outputs": [],
   "source": [
    "POS_PATH = os.path.join('data', 'positive')\n",
    "NEG_PATH = os.path.join('data', 'negative')\n",
    "ANC_PATH = os.path.join('data', 'anchor')"
   ]
  },
  {
   "cell_type": "code",
   "execution_count": 5,
   "id": "a3a1b585",
   "metadata": {},
   "outputs": [],
   "source": [
    "\n",
    "anc_1 = os.path.join(ANC_PATH,'01')\n",
    "anc_2 = os.path.join(ANC_PATH,'02')\n",
    "anc_3 = os.path.join(ANC_PATH,'03')\n",
    "anc_4 = os.path.join(ANC_PATH,'04')\n",
    "anc_5 = os.path.join(ANC_PATH,'05')\n",
    "anc_6 = os.path.join(ANC_PATH,'06')\n",
    "anc_7 = os.path.join(ANC_PATH,'07')\n",
    "anc_8 = os.path.join(ANC_PATH,'08')\n",
    "anc_9 = os.path.join(ANC_PATH,'09')\n",
    "anc_10 = os.path.join(ANC_PATH,'10')\n",
    "anc_11 = os.path.join(ANC_PATH,'11')\n",
    "anc_12 = os.path.join(ANC_PATH,'12')\n",
    "anc_13 = os.path.join(ANC_PATH,'13')\n",
    "anc_14 = os.path.join(ANC_PATH,'14')\n",
    "anc_15 = os.path.join(ANC_PATH,'15')\n",
    "anc_16 = os.path.join(ANC_PATH,'16')\n",
    "anc_17 = os.path.join(ANC_PATH,'17')\n",
    "anc_18 = os.path.join(ANC_PATH,'18')\n",
    "anc_19 = os.path.join(ANC_PATH,'19')"
   ]
  },
  {
   "cell_type": "code",
   "execution_count": 6,
   "id": "a3858238",
   "metadata": {},
   "outputs": [],
   "source": [
    "\n",
    "anc_1_im=tf.data.Dataset.list_files(anc_1+'\\*.jpg').take(10)\n",
    "anc_2_im=tf.data.Dataset.list_files(anc_2+'\\*.jpg').take(10)\n",
    "anc_3_im=tf.data.Dataset.list_files(anc_3+'\\*.jpg').take(10)\n",
    "anc_4_im=tf.data.Dataset.list_files(anc_4+'\\*.jpg').take(10)\n",
    "anc_5_im=tf.data.Dataset.list_files(anc_5+'\\*.jpg').take(10)\n",
    "anc_6_im=tf.data.Dataset.list_files(anc_6+'\\*.jpg').take(10)\n",
    "anc_7_im=tf.data.Dataset.list_files(anc_7+'\\*.jpg').take(10)\n",
    "anc_8_im=tf.data.Dataset.list_files(anc_8+'\\*.jpg').take(10)\n",
    "anc_9_im=tf.data.Dataset.list_files(anc_9+'\\*.jpg').take(10)\n",
    "anc_10_im=tf.data.Dataset.list_files(anc_10+'\\*.jpg').take(10)\n",
    "anc_11_im=tf.data.Dataset.list_files(anc_11+'\\*.jpg').take(10)\n",
    "anc_12_im=tf.data.Dataset.list_files(anc_12+'\\*.jpg').take(10)\n",
    "anc_13_im=tf.data.Dataset.list_files(anc_13+'\\*.jpg').take(10)\n",
    "anc_14_im=tf.data.Dataset.list_files(anc_14+'\\*.jpg').take(10)\n",
    "anc_15_im=tf.data.Dataset.list_files(anc_15+'\\*.jpg').take(10)\n",
    "anc_16_im=tf.data.Dataset.list_files(anc_16+'\\*.jpg').take(10)\n",
    "anc_17_im=tf.data.Dataset.list_files(anc_17+'\\*.jpg').take(10)\n",
    "anc_18_im=tf.data.Dataset.list_files(anc_18+'\\*.jpg').take(10)\n",
    "anc_19_im=tf.data.Dataset.list_files(anc_19+'\\*.jpg').take(10)"
   ]
  },
  {
   "cell_type": "code",
   "execution_count": 7,
   "id": "ed6a119e",
   "metadata": {},
   "outputs": [],
   "source": [
    "neg_1 = os.path.join(NEG_PATH,'01')\n",
    "neg_2 = os.path.join(NEG_PATH,'02')\n",
    "neg_3 = os.path.join(NEG_PATH,'03')\n",
    "neg_4 = os.path.join(NEG_PATH,'04')\n",
    "neg_5 = os.path.join(NEG_PATH,'05')\n",
    "neg_6 = os.path.join(NEG_PATH,'06')\n",
    "neg_7 = os.path.join(NEG_PATH,'07')\n",
    "neg_8 = os.path.join(NEG_PATH,'08')\n",
    "neg_9 = os.path.join(NEG_PATH,'09')\n",
    "neg_10 = os.path.join(NEG_PATH,'10')\n",
    "neg_11 = os.path.join(NEG_PATH,'11')\n",
    "neg_12 = os.path.join(NEG_PATH,'12')\n",
    "neg_13 = os.path.join(NEG_PATH,'13')\n",
    "neg_14 = os.path.join(NEG_PATH,'14')\n",
    "neg_15 = os.path.join(NEG_PATH,'15')\n",
    "neg_16 = os.path.join(NEG_PATH,'16')\n",
    "neg_17 = os.path.join(NEG_PATH,'17')\n",
    "neg_18 = os.path.join(NEG_PATH,'18')\n",
    "neg_19 = os.path.join(NEG_PATH,'19')"
   ]
  },
  {
   "cell_type": "code",
   "execution_count": 8,
   "id": "ad179ea7",
   "metadata": {},
   "outputs": [],
   "source": [
    "neg_1_im=tf.data.Dataset.list_files(neg_1+'\\*.jpg').take(10)\n",
    "neg_2_im=tf.data.Dataset.list_files(neg_2+'\\*.jpg').take(10)\n",
    "neg_3_im=tf.data.Dataset.list_files(neg_3+'\\*.jpg').take(10)\n",
    "neg_4_im=tf.data.Dataset.list_files(neg_4+'\\*.jpg').take(10)\n",
    "neg_5_im=tf.data.Dataset.list_files(neg_5+'\\*.jpg').take(10)\n",
    "neg_6_im=tf.data.Dataset.list_files(neg_6+'\\*.jpg').take(10)\n",
    "neg_7_im=tf.data.Dataset.list_files(neg_7+'\\*.jpg').take(10)\n",
    "neg_8_im=tf.data.Dataset.list_files(neg_8+'\\*.jpg').take(10)\n",
    "neg_9_im=tf.data.Dataset.list_files(neg_9+'\\*.jpg').take(10)\n",
    "neg_10_im=tf.data.Dataset.list_files(neg_10+'\\*.jpg').take(10)\n",
    "neg_11_im=tf.data.Dataset.list_files(neg_11+'\\*.jpg').take(10)\n",
    "neg_12_im=tf.data.Dataset.list_files(neg_12+'\\*.jpg').take(10)\n",
    "neg_13_im=tf.data.Dataset.list_files(neg_13+'\\*.jpg').take(10)\n",
    "neg_14_im=tf.data.Dataset.list_files(neg_14+'\\*.jpg').take(10)\n",
    "neg_15_im=tf.data.Dataset.list_files(neg_15+'\\*.jpg').take(10)\n",
    "neg_16_im=tf.data.Dataset.list_files(neg_16+'\\*.jpg').take(10)\n",
    "neg_17_im=tf.data.Dataset.list_files(neg_17+'\\*.jpg').take(10)\n",
    "neg_18_im=tf.data.Dataset.list_files(neg_18+'\\*.jpg').take(10)\n",
    "neg_19_im=tf.data.Dataset.list_files(neg_19+'\\*.jpg').take(10)"
   ]
  },
  {
   "cell_type": "code",
   "execution_count": 9,
   "id": "1506a128",
   "metadata": {},
   "outputs": [],
   "source": [
    "pos_1_0 = os.path.join(POS_PATH,'01')\n",
    "pos_1_1 = os.path.join(POS_PATH,'01_1')\n",
    "pos_1_2 = os.path.join(POS_PATH,'01_2')\n",
    "pos_1_3 = os.path.join(POS_PATH,'01_3')\n",
    "pos_1_4 = os.path.join(POS_PATH,'01_4')\n",
    "pos_1_5 = os.path.join(POS_PATH,'01_5')\n",
    "pos_1_6 = os.path.join(POS_PATH,'01_6')\n",
    "pos_1_7 = os.path.join(POS_PATH,'01_7')\n",
    "pos_1_8 = os.path.join(POS_PATH,'01_8')\n",
    "pos_1_9 = os.path.join(POS_PATH,'01_9')\n",
    "pos_1_10 = os.path.join(POS_PATH,'01_10')\n",
    "pos_1_11 = os.path.join(POS_PATH,'01_11')\n",
    "pos_1_12 = os.path.join(POS_PATH,'01_12')\n",
    "pos_1_13 = os.path.join(POS_PATH,'01_13')\n",
    "pos_1_14 = os.path.join(POS_PATH,'01_14')\n",
    "pos_1_15 = os.path.join(POS_PATH,'01_15')\n",
    "pos_1_16 = os.path.join(POS_PATH,'01_16')"
   ]
  },
  {
   "cell_type": "code",
   "execution_count": 10,
   "id": "7729b70a",
   "metadata": {},
   "outputs": [],
   "source": [
    "pos_1_0_im=tf.data.Dataset.list_files(pos_1_0+'\\*.jpg').take(10)\n",
    "pos_1_1_im=tf.data.Dataset.list_files(pos_1_1+'\\*.jpg').take(10)\n",
    "pos_1_2_im=tf.data.Dataset.list_files(pos_1_2+'\\*.jpg').take(10)\n",
    "pos_1_3_im=tf.data.Dataset.list_files(pos_1_3+'\\*.jpg').take(10)\n",
    "pos_1_4_im=tf.data.Dataset.list_files(pos_1_4+'\\*.jpg').take(10)\n",
    "pos_1_5_im=tf.data.Dataset.list_files(pos_1_5+'\\*.jpg').take(10)\n",
    "pos_1_6_im=tf.data.Dataset.list_files(pos_1_6+'\\*.jpg').take(10)\n",
    "pos_1_7_im=tf.data.Dataset.list_files(pos_1_7+'\\*.jpg').take(10)\n",
    "pos_1_8_im=tf.data.Dataset.list_files(pos_1_8+'\\*.jpg').take(10)\n",
    "pos_1_9_im=tf.data.Dataset.list_files(pos_1_9+'\\*.jpg').take(10)\n",
    "pos_1_10_im=tf.data.Dataset.list_files(pos_1_10+'\\*.jpg').take(10)\n",
    "pos_1_11_im=tf.data.Dataset.list_files(pos_1_11+'\\*.jpg').take(10)\n",
    "pos_1_12_im=tf.data.Dataset.list_files(pos_1_12+'\\*.jpg').take(10)\n",
    "pos_1_13_im=tf.data.Dataset.list_files(pos_1_13+'\\*.jpg').take(10)\n",
    "pos_1_14_im=tf.data.Dataset.list_files(pos_1_14+'\\*.jpg').take(10)\n",
    "pos_1_15_im=tf.data.Dataset.list_files(pos_1_15+'\\*.jpg').take(10)\n",
    "pos_1_16_im=tf.data.Dataset.list_files(pos_1_16+'\\*.jpg').take(10)\n"
   ]
  },
  {
   "cell_type": "code",
   "execution_count": 11,
   "id": "1074cd05",
   "metadata": {},
   "outputs": [],
   "source": [
    "#2\n",
    "pos_2_0 = os.path.join(POS_PATH,'02')\n",
    "pos_2_1 = os.path.join(POS_PATH,'02_1')\n",
    "pos_2_2 = os.path.join(POS_PATH,'02_2')\n",
    "pos_2_3 = os.path.join(POS_PATH,'02_3')\n",
    "pos_2_4 = os.path.join(POS_PATH,'02_4')\n",
    "pos_2_5 = os.path.join(POS_PATH,'02_5')\n",
    "pos_2_6 = os.path.join(POS_PATH,'02_6')\n",
    "pos_2_7 = os.path.join(POS_PATH,'02_7')\n",
    "pos_2_8 = os.path.join(POS_PATH,'02_8')\n",
    "pos_2_9 = os.path.join(POS_PATH,'02_9')\n",
    "pos_2_10 = os.path.join(POS_PATH,'02_10')\n",
    "pos_2_11 = os.path.join(POS_PATH,'02_11')\n",
    "pos_2_12 = os.path.join(POS_PATH,'02_12')\n",
    "pos_2_13 = os.path.join(POS_PATH,'02_13')\n",
    "pos_2_14 = os.path.join(POS_PATH,'02_14')\n",
    "pos_2_15 = os.path.join(POS_PATH,'02_15')\n",
    "pos_2_16 = os.path.join(POS_PATH,'02_16')"
   ]
  },
  {
   "cell_type": "code",
   "execution_count": 12,
   "id": "ca53ea6a",
   "metadata": {},
   "outputs": [],
   "source": [
    "pos_2_0_im=tf.data.Dataset.list_files(pos_2_0+'\\*.jpg').take(10)\n",
    "pos_2_1_im=tf.data.Dataset.list_files(pos_2_1+'\\*.jpg').take(10)\n",
    "pos_2_2_im=tf.data.Dataset.list_files(pos_2_2+'\\*.jpg').take(10)\n",
    "pos_2_3_im=tf.data.Dataset.list_files(pos_2_3+'\\*.jpg').take(10)\n",
    "pos_2_4_im=tf.data.Dataset.list_files(pos_2_4+'\\*.jpg').take(10)\n",
    "pos_2_5_im=tf.data.Dataset.list_files(pos_2_5+'\\*.jpg').take(10)\n",
    "pos_2_6_im=tf.data.Dataset.list_files(pos_2_6+'\\*.jpg').take(10)\n",
    "pos_2_7_im=tf.data.Dataset.list_files(pos_2_7+'\\*.jpg').take(10)\n",
    "pos_2_8_im=tf.data.Dataset.list_files(pos_2_8+'\\*.jpg').take(10)\n",
    "pos_2_9_im=tf.data.Dataset.list_files(pos_2_9+'\\*.jpg').take(10)\n",
    "pos_2_10_im=tf.data.Dataset.list_files(pos_2_10+'\\*.jpg').take(10)\n",
    "pos_2_11_im=tf.data.Dataset.list_files(pos_2_11+'\\*.jpg').take(10)\n",
    "pos_2_12_im=tf.data.Dataset.list_files(pos_2_12+'\\*.jpg').take(10)\n",
    "pos_2_13_im=tf.data.Dataset.list_files(pos_2_13+'\\*.jpg').take(10)\n",
    "pos_2_14_im=tf.data.Dataset.list_files(pos_2_14+'\\*.jpg').take(10)\n",
    "pos_2_15_im=tf.data.Dataset.list_files(pos_2_15+'\\*.jpg').take(10)\n",
    "pos_2_16_im=tf.data.Dataset.list_files(pos_2_16+'\\*.jpg').take(10)\n"
   ]
  },
  {
   "cell_type": "code",
   "execution_count": 13,
   "id": "66a8ee7a",
   "metadata": {},
   "outputs": [],
   "source": [
    "#3\n",
    "pos_3_0 = os.path.join(POS_PATH,'03')\n",
    "pos_3_1 = os.path.join(POS_PATH,'03_1')\n",
    "pos_3_2 = os.path.join(POS_PATH,'03_2')\n",
    "pos_3_3 = os.path.join(POS_PATH,'03_3')\n",
    "pos_3_4 = os.path.join(POS_PATH,'03_4')\n",
    "pos_3_5 = os.path.join(POS_PATH,'03_5')\n",
    "pos_3_6 = os.path.join(POS_PATH,'03_6')\n",
    "pos_3_7 = os.path.join(POS_PATH,'03_7')\n",
    "pos_3_8 = os.path.join(POS_PATH,'03_8')\n",
    "pos_3_9 = os.path.join(POS_PATH,'03_9')\n",
    "pos_3_10 = os.path.join(POS_PATH,'03_10')\n",
    "pos_3_11 = os.path.join(POS_PATH,'03_11')\n",
    "pos_3_12 = os.path.join(POS_PATH,'03_12')\n",
    "pos_3_13 = os.path.join(POS_PATH,'03_13')\n",
    "pos_3_14 = os.path.join(POS_PATH,'03_14')\n",
    "pos_3_15 = os.path.join(POS_PATH,'03_15')\n",
    "pos_3_16 = os.path.join(POS_PATH,'03_16')"
   ]
  },
  {
   "cell_type": "code",
   "execution_count": 14,
   "id": "24558670",
   "metadata": {},
   "outputs": [],
   "source": [
    "pos_3_0_im=tf.data.Dataset.list_files(pos_3_0+'\\*.jpg').take(10)\n",
    "pos_3_1_im=tf.data.Dataset.list_files(pos_3_1+'\\*.jpg').take(10)\n",
    "pos_3_2_im=tf.data.Dataset.list_files(pos_3_2+'\\*.jpg').take(10)\n",
    "pos_3_3_im=tf.data.Dataset.list_files(pos_3_3+'\\*.jpg').take(10)\n",
    "pos_3_4_im=tf.data.Dataset.list_files(pos_3_4+'\\*.jpg').take(10)\n",
    "pos_3_5_im=tf.data.Dataset.list_files(pos_3_5+'\\*.jpg').take(10)\n",
    "pos_3_6_im=tf.data.Dataset.list_files(pos_3_6+'\\*.jpg').take(10)\n",
    "pos_3_7_im=tf.data.Dataset.list_files(pos_3_7+'\\*.jpg').take(10)\n",
    "pos_3_8_im=tf.data.Dataset.list_files(pos_3_8+'\\*.jpg').take(10)\n",
    "pos_3_9_im=tf.data.Dataset.list_files(pos_3_9+'\\*.jpg').take(10)\n",
    "pos_3_10_im=tf.data.Dataset.list_files(pos_3_10+'\\*.jpg').take(10)\n",
    "pos_3_11_im=tf.data.Dataset.list_files(pos_3_11+'\\*.jpg').take(10)\n",
    "pos_3_12_im=tf.data.Dataset.list_files(pos_3_12+'\\*.jpg').take(10)\n",
    "pos_3_13_im=tf.data.Dataset.list_files(pos_3_13+'\\*.jpg').take(10)\n",
    "pos_3_14_im=tf.data.Dataset.list_files(pos_3_14+'\\*.jpg').take(10)\n",
    "pos_3_15_im=tf.data.Dataset.list_files(pos_3_15+'\\*.jpg').take(10)\n",
    "pos_3_16_im=tf.data.Dataset.list_files(pos_3_16+'\\*.jpg').take(10)"
   ]
  },
  {
   "cell_type": "code",
   "execution_count": 15,
   "id": "19662484",
   "metadata": {},
   "outputs": [],
   "source": [
    "#4\n",
    "pos_4_0 = os.path.join(POS_PATH,'04')\n",
    "pos_4_1 = os.path.join(POS_PATH,'04_1')\n",
    "pos_4_2 = os.path.join(POS_PATH,'04_2')\n",
    "pos_4_3 = os.path.join(POS_PATH,'04_3')\n",
    "pos_4_4 = os.path.join(POS_PATH,'04_4')\n",
    "pos_4_5 = os.path.join(POS_PATH,'04_5')\n",
    "pos_4_6 = os.path.join(POS_PATH,'04_6')\n",
    "pos_4_7 = os.path.join(POS_PATH,'04_7')\n",
    "pos_4_8 = os.path.join(POS_PATH,'04_8')\n",
    "pos_4_9 = os.path.join(POS_PATH,'04_9')\n",
    "pos_4_10 = os.path.join(POS_PATH,'04_10')\n",
    "pos_4_11 = os.path.join(POS_PATH,'04_11')\n",
    "pos_4_12 = os.path.join(POS_PATH,'04_12')\n",
    "pos_4_13 = os.path.join(POS_PATH,'04_13')\n",
    "pos_4_14 = os.path.join(POS_PATH,'04_14')\n",
    "pos_4_15 = os.path.join(POS_PATH,'04_15')\n",
    "pos_4_16 = os.path.join(POS_PATH,'04_16')"
   ]
  },
  {
   "cell_type": "code",
   "execution_count": 16,
   "id": "43747825",
   "metadata": {},
   "outputs": [],
   "source": [
    "pos_4_0_im=tf.data.Dataset.list_files(pos_4_0+'\\*.jpg').take(10)\n",
    "pos_4_1_im=tf.data.Dataset.list_files(pos_4_1+'\\*.jpg').take(10)\n",
    "pos_4_2_im=tf.data.Dataset.list_files(pos_4_2+'\\*.jpg').take(10)\n",
    "pos_4_3_im=tf.data.Dataset.list_files(pos_4_3+'\\*.jpg').take(10)\n",
    "pos_4_4_im=tf.data.Dataset.list_files(pos_4_4+'\\*.jpg').take(10)\n",
    "pos_4_5_im=tf.data.Dataset.list_files(pos_4_5+'\\*.jpg').take(10)\n",
    "pos_4_6_im=tf.data.Dataset.list_files(pos_4_6+'\\*.jpg').take(10)\n",
    "pos_4_7_im=tf.data.Dataset.list_files(pos_4_7+'\\*.jpg').take(10)\n",
    "pos_4_8_im=tf.data.Dataset.list_files(pos_4_8+'\\*.jpg').take(10)\n",
    "pos_4_9_im=tf.data.Dataset.list_files(pos_4_9+'\\*.jpg').take(10)\n",
    "pos_4_10_im=tf.data.Dataset.list_files(pos_4_10+'\\*.jpg').take(10)\n",
    "pos_4_11_im=tf.data.Dataset.list_files(pos_4_11+'\\*.jpg').take(10)\n",
    "pos_4_12_im=tf.data.Dataset.list_files(pos_4_12+'\\*.jpg').take(10)\n",
    "pos_4_13_im=tf.data.Dataset.list_files(pos_4_13+'\\*.jpg').take(10)\n",
    "pos_4_14_im=tf.data.Dataset.list_files(pos_4_14+'\\*.jpg').take(10)\n",
    "pos_4_15_im=tf.data.Dataset.list_files(pos_4_15+'\\*.jpg').take(10)\n",
    "pos_4_16_im=tf.data.Dataset.list_files(pos_4_16+'\\*.jpg').take(10)"
   ]
  },
  {
   "cell_type": "code",
   "execution_count": 17,
   "id": "0bb94833",
   "metadata": {},
   "outputs": [],
   "source": [
    "#5\n",
    "pos_5_0 = os.path.join(POS_PATH,'05')\n",
    "pos_5_1 = os.path.join(POS_PATH,'05_1')\n",
    "pos_5_2 = os.path.join(POS_PATH,'05_2')\n",
    "pos_5_3 = os.path.join(POS_PATH,'05_3')\n",
    "pos_5_4 = os.path.join(POS_PATH,'05_4')\n",
    "pos_5_5 = os.path.join(POS_PATH,'05_5')\n",
    "pos_5_6 = os.path.join(POS_PATH,'05_6')\n",
    "pos_5_7 = os.path.join(POS_PATH,'05_7')\n",
    "pos_5_8 = os.path.join(POS_PATH,'05_8')\n",
    "pos_5_9 = os.path.join(POS_PATH,'05_9')\n",
    "pos_5_10 = os.path.join(POS_PATH,'05_10')\n",
    "pos_5_11 = os.path.join(POS_PATH,'05_11')\n",
    "pos_5_12 = os.path.join(POS_PATH,'05_12')\n",
    "pos_5_13 = os.path.join(POS_PATH,'05_13')\n",
    "pos_5_14 = os.path.join(POS_PATH,'05_14')\n",
    "pos_5_15 = os.path.join(POS_PATH,'05_15')\n",
    "pos_5_16 = os.path.join(POS_PATH,'05_16')"
   ]
  },
  {
   "cell_type": "code",
   "execution_count": 18,
   "id": "36276845",
   "metadata": {},
   "outputs": [],
   "source": [
    "pos_5_0_im=tf.data.Dataset.list_files(pos_5_0+'\\*.jpg').take(10)\n",
    "pos_5_1_im=tf.data.Dataset.list_files(pos_5_1+'\\*.jpg').take(10)\n",
    "pos_5_2_im=tf.data.Dataset.list_files(pos_5_2+'\\*.jpg').take(10)\n",
    "pos_5_3_im=tf.data.Dataset.list_files(pos_5_3+'\\*.jpg').take(10)\n",
    "pos_5_4_im=tf.data.Dataset.list_files(pos_5_4+'\\*.jpg').take(10)\n",
    "pos_5_5_im=tf.data.Dataset.list_files(pos_5_5+'\\*.jpg').take(10)\n",
    "pos_5_6_im=tf.data.Dataset.list_files(pos_5_6+'\\*.jpg').take(10)\n",
    "pos_5_7_im=tf.data.Dataset.list_files(pos_5_7+'\\*.jpg').take(10)\n",
    "pos_5_8_im=tf.data.Dataset.list_files(pos_5_8+'\\*.jpg').take(10)\n",
    "pos_5_9_im=tf.data.Dataset.list_files(pos_5_9+'\\*.jpg').take(10)\n",
    "pos_5_10_im=tf.data.Dataset.list_files(pos_5_10+'\\*.jpg').take(10)\n",
    "pos_5_11_im=tf.data.Dataset.list_files(pos_5_11+'\\*.jpg').take(10)\n",
    "pos_5_12_im=tf.data.Dataset.list_files(pos_5_12+'\\*.jpg').take(10)\n",
    "pos_5_13_im=tf.data.Dataset.list_files(pos_5_13+'\\*.jpg').take(10)\n",
    "pos_5_14_im=tf.data.Dataset.list_files(pos_5_14+'\\*.jpg').take(10)\n",
    "pos_5_15_im=tf.data.Dataset.list_files(pos_5_15+'\\*.jpg').take(10)\n",
    "pos_5_16_im=tf.data.Dataset.list_files(pos_5_16+'\\*.jpg').take(10)"
   ]
  },
  {
   "cell_type": "code",
   "execution_count": 19,
   "id": "4eb81394",
   "metadata": {},
   "outputs": [],
   "source": [
    "#6\n",
    "pos_6_0 = os.path.join(POS_PATH,'06')\n",
    "pos_6_1 = os.path.join(POS_PATH,'06_1')\n",
    "pos_6_2 = os.path.join(POS_PATH,'06_2')\n",
    "pos_6_3 = os.path.join(POS_PATH,'06_3')\n",
    "pos_6_4 = os.path.join(POS_PATH,'06_4')\n",
    "pos_6_5 = os.path.join(POS_PATH,'06_5')\n",
    "pos_6_6 = os.path.join(POS_PATH,'06_6')\n",
    "pos_6_7 = os.path.join(POS_PATH,'06_7')\n",
    "pos_6_8 = os.path.join(POS_PATH,'06_8')\n",
    "pos_6_9 = os.path.join(POS_PATH,'06_9')\n",
    "pos_6_10 = os.path.join(POS_PATH,'06_10')\n",
    "pos_6_11 = os.path.join(POS_PATH,'06_11')\n",
    "pos_6_12 = os.path.join(POS_PATH,'06_12')\n",
    "pos_6_13 = os.path.join(POS_PATH,'06_13')\n",
    "pos_6_14 = os.path.join(POS_PATH,'06_14')\n",
    "pos_6_15 = os.path.join(POS_PATH,'06_15')\n",
    "pos_6_16 = os.path.join(POS_PATH,'06_16')"
   ]
  },
  {
   "cell_type": "code",
   "execution_count": 20,
   "id": "5cc07d01",
   "metadata": {},
   "outputs": [],
   "source": [
    "pos_6_0_im=tf.data.Dataset.list_files(pos_6_0+'\\*.jpg').take(10)\n",
    "pos_6_1_im=tf.data.Dataset.list_files(pos_6_1+'\\*.jpg').take(10)\n",
    "pos_6_2_im=tf.data.Dataset.list_files(pos_6_2+'\\*.jpg').take(10)\n",
    "pos_6_3_im=tf.data.Dataset.list_files(pos_6_3+'\\*.jpg').take(10)\n",
    "pos_6_4_im=tf.data.Dataset.list_files(pos_6_4+'\\*.jpg').take(10)\n",
    "pos_6_5_im=tf.data.Dataset.list_files(pos_6_5+'\\*.jpg').take(10)\n",
    "pos_6_6_im=tf.data.Dataset.list_files(pos_6_6+'\\*.jpg').take(10)\n",
    "pos_6_7_im=tf.data.Dataset.list_files(pos_6_7+'\\*.jpg').take(10)\n",
    "pos_6_8_im=tf.data.Dataset.list_files(pos_6_8+'\\*.jpg').take(10)\n",
    "pos_6_9_im=tf.data.Dataset.list_files(pos_6_9+'\\*.jpg').take(10)\n",
    "pos_6_10_im=tf.data.Dataset.list_files(pos_6_10+'\\*.jpg').take(10)\n",
    "pos_6_11_im=tf.data.Dataset.list_files(pos_6_11+'\\*.jpg').take(10)\n",
    "pos_6_12_im=tf.data.Dataset.list_files(pos_6_12+'\\*.jpg').take(10)\n",
    "pos_6_13_im=tf.data.Dataset.list_files(pos_6_13+'\\*.jpg').take(10)\n",
    "pos_6_14_im=tf.data.Dataset.list_files(pos_6_14+'\\*.jpg').take(10)\n",
    "pos_6_15_im=tf.data.Dataset.list_files(pos_6_15+'\\*.jpg').take(10)\n",
    "pos_6_16_im=tf.data.Dataset.list_files(pos_6_16+'\\*.jpg').take(10)"
   ]
  },
  {
   "cell_type": "code",
   "execution_count": 21,
   "id": "052a8443",
   "metadata": {},
   "outputs": [],
   "source": [
    "#7\n",
    "pos_7_0 = os.path.join(POS_PATH,'07')\n",
    "pos_7_1 = os.path.join(POS_PATH,'07_1')\n",
    "pos_7_2 = os.path.join(POS_PATH,'07_2')\n",
    "pos_7_3 = os.path.join(POS_PATH,'07_3')\n",
    "pos_7_4 = os.path.join(POS_PATH,'07_4')\n",
    "pos_7_5 = os.path.join(POS_PATH,'07_5')\n",
    "pos_7_6 = os.path.join(POS_PATH,'07_6')\n",
    "pos_7_7 = os.path.join(POS_PATH,'07_7')\n",
    "pos_7_8 = os.path.join(POS_PATH,'07_8')\n",
    "pos_7_9 = os.path.join(POS_PATH,'07_9')\n",
    "pos_7_10 = os.path.join(POS_PATH,'07_10')\n",
    "pos_7_11 = os.path.join(POS_PATH,'07_11')\n",
    "pos_7_12 = os.path.join(POS_PATH,'07_12')\n",
    "pos_7_13 = os.path.join(POS_PATH,'07_13')\n",
    "pos_7_14 = os.path.join(POS_PATH,'07_14')\n",
    "pos_7_15 = os.path.join(POS_PATH,'07_15')\n",
    "pos_7_16 = os.path.join(POS_PATH,'07_16')"
   ]
  },
  {
   "cell_type": "code",
   "execution_count": 22,
   "id": "2c171240",
   "metadata": {},
   "outputs": [],
   "source": [
    "pos_7_0_im=tf.data.Dataset.list_files(pos_7_0+'\\*.jpg').take(10)\n",
    "pos_7_1_im=tf.data.Dataset.list_files(pos_7_1+'\\*.jpg').take(10)\n",
    "pos_7_2_im=tf.data.Dataset.list_files(pos_7_2+'\\*.jpg').take(10)\n",
    "pos_7_3_im=tf.data.Dataset.list_files(pos_7_3+'\\*.jpg').take(10)\n",
    "pos_7_4_im=tf.data.Dataset.list_files(pos_7_4+'\\*.jpg').take(10)\n",
    "pos_7_5_im=tf.data.Dataset.list_files(pos_7_5+'\\*.jpg').take(10)\n",
    "pos_7_6_im=tf.data.Dataset.list_files(pos_7_6+'\\*.jpg').take(10)\n",
    "pos_7_7_im=tf.data.Dataset.list_files(pos_7_7+'\\*.jpg').take(10)\n",
    "pos_7_8_im=tf.data.Dataset.list_files(pos_7_8+'\\*.jpg').take(10)\n",
    "pos_7_9_im=tf.data.Dataset.list_files(pos_7_9+'\\*.jpg').take(10)\n",
    "pos_7_10_im=tf.data.Dataset.list_files(pos_7_10+'\\*.jpg').take(10)\n",
    "pos_7_11_im=tf.data.Dataset.list_files(pos_7_11+'\\*.jpg').take(10)\n",
    "pos_7_12_im=tf.data.Dataset.list_files(pos_7_12+'\\*.jpg').take(10)\n",
    "pos_7_13_im=tf.data.Dataset.list_files(pos_7_13+'\\*.jpg').take(10)\n",
    "pos_7_14_im=tf.data.Dataset.list_files(pos_7_14+'\\*.jpg').take(10)\n",
    "pos_7_15_im=tf.data.Dataset.list_files(pos_7_15+'\\*.jpg').take(10)\n",
    "pos_7_16_im=tf.data.Dataset.list_files(pos_7_16+'\\*.jpg').take(10)"
   ]
  },
  {
   "cell_type": "code",
   "execution_count": 23,
   "id": "21deb881",
   "metadata": {},
   "outputs": [],
   "source": [
    "#8\n",
    "pos_8_0 = os.path.join(POS_PATH,'08')\n",
    "pos_8_1 = os.path.join(POS_PATH,'08_1')\n",
    "pos_8_2 = os.path.join(POS_PATH,'08_2')\n",
    "pos_8_3 = os.path.join(POS_PATH,'08_3')\n",
    "pos_8_4 = os.path.join(POS_PATH,'08_4')\n",
    "pos_8_5 = os.path.join(POS_PATH,'08_5')\n",
    "pos_8_6 = os.path.join(POS_PATH,'08_6')\n",
    "pos_8_7 = os.path.join(POS_PATH,'08_7')\n",
    "pos_8_8 = os.path.join(POS_PATH,'08_8')\n",
    "pos_8_9 = os.path.join(POS_PATH,'08_9')\n",
    "pos_8_10 = os.path.join(POS_PATH,'08_10')\n",
    "pos_8_11 = os.path.join(POS_PATH,'08_11')\n",
    "pos_8_12 = os.path.join(POS_PATH,'08_12')\n",
    "pos_8_13 = os.path.join(POS_PATH,'08_13')\n",
    "pos_8_14 = os.path.join(POS_PATH,'08_14')\n",
    "pos_8_15 = os.path.join(POS_PATH,'08_15')\n",
    "pos_8_16 = os.path.join(POS_PATH,'08_16')"
   ]
  },
  {
   "cell_type": "code",
   "execution_count": 24,
   "id": "0b1b60a8",
   "metadata": {},
   "outputs": [],
   "source": [
    "pos_8_0_im=tf.data.Dataset.list_files(pos_8_0+'\\*.jpg').take(10)\n",
    "pos_8_1_im=tf.data.Dataset.list_files(pos_8_1+'\\*.jpg').take(10)\n",
    "pos_8_2_im=tf.data.Dataset.list_files(pos_8_2+'\\*.jpg').take(10)\n",
    "pos_8_3_im=tf.data.Dataset.list_files(pos_8_3+'\\*.jpg').take(10)\n",
    "pos_8_4_im=tf.data.Dataset.list_files(pos_8_4+'\\*.jpg').take(10)\n",
    "pos_8_5_im=tf.data.Dataset.list_files(pos_8_5+'\\*.jpg').take(10)\n",
    "pos_8_6_im=tf.data.Dataset.list_files(pos_8_6+'\\*.jpg').take(10)\n",
    "pos_8_7_im=tf.data.Dataset.list_files(pos_8_7+'\\*.jpg').take(10)\n",
    "pos_8_8_im=tf.data.Dataset.list_files(pos_8_8+'\\*.jpg').take(10)\n",
    "pos_8_9_im=tf.data.Dataset.list_files(pos_8_9+'\\*.jpg').take(10)\n",
    "pos_8_10_im=tf.data.Dataset.list_files(pos_8_10+'\\*.jpg').take(10)\n",
    "pos_8_11_im=tf.data.Dataset.list_files(pos_8_11+'\\*.jpg').take(10)\n",
    "pos_8_12_im=tf.data.Dataset.list_files(pos_8_12+'\\*.jpg').take(10)\n",
    "pos_8_13_im=tf.data.Dataset.list_files(pos_8_13+'\\*.jpg').take(10)\n",
    "pos_8_14_im=tf.data.Dataset.list_files(pos_8_14+'\\*.jpg').take(10)\n",
    "pos_8_15_im=tf.data.Dataset.list_files(pos_8_15+'\\*.jpg').take(10)\n",
    "pos_8_16_im=tf.data.Dataset.list_files(pos_8_16+'\\*.jpg').take(10)"
   ]
  },
  {
   "cell_type": "code",
   "execution_count": 25,
   "id": "9d5f15c1",
   "metadata": {},
   "outputs": [],
   "source": [
    "#9\n",
    "pos_9_0 = os.path.join(POS_PATH,'09')\n",
    "pos_9_1 = os.path.join(POS_PATH,'09_1')\n",
    "pos_9_2 = os.path.join(POS_PATH,'09_2')\n",
    "pos_9_3 = os.path.join(POS_PATH,'09_3')\n",
    "pos_9_4 = os.path.join(POS_PATH,'09_4')\n",
    "pos_9_5 = os.path.join(POS_PATH,'09_5')\n",
    "pos_9_6 = os.path.join(POS_PATH,'09_6')\n",
    "pos_9_7 = os.path.join(POS_PATH,'09_7')\n",
    "pos_9_8 = os.path.join(POS_PATH,'09_8')\n",
    "pos_9_9 = os.path.join(POS_PATH,'09_9')\n",
    "pos_9_10 = os.path.join(POS_PATH,'09_10')\n",
    "pos_9_11 = os.path.join(POS_PATH,'09_11')\n",
    "pos_9_12 = os.path.join(POS_PATH,'09_12')\n",
    "pos_9_13 = os.path.join(POS_PATH,'09_13')\n",
    "pos_9_14 = os.path.join(POS_PATH,'09_14')\n",
    "pos_9_15 = os.path.join(POS_PATH,'09_15')\n",
    "pos_9_16 = os.path.join(POS_PATH,'09_16')"
   ]
  },
  {
   "cell_type": "code",
   "execution_count": 26,
   "id": "841c1e35",
   "metadata": {},
   "outputs": [],
   "source": [
    "pos_9_0_im=tf.data.Dataset.list_files(pos_9_0+'\\*.jpg').take(10)\n",
    "pos_9_1_im=tf.data.Dataset.list_files(pos_9_1+'\\*.jpg').take(10)\n",
    "pos_9_2_im=tf.data.Dataset.list_files(pos_9_2+'\\*.jpg').take(10)\n",
    "pos_9_3_im=tf.data.Dataset.list_files(pos_9_3+'\\*.jpg').take(10)\n",
    "pos_9_4_im=tf.data.Dataset.list_files(pos_9_4+'\\*.jpg').take(10)\n",
    "pos_9_5_im=tf.data.Dataset.list_files(pos_9_5+'\\*.jpg').take(10)\n",
    "pos_9_6_im=tf.data.Dataset.list_files(pos_9_6+'\\*.jpg').take(10)\n",
    "pos_9_7_im=tf.data.Dataset.list_files(pos_9_7+'\\*.jpg').take(10)\n",
    "pos_9_8_im=tf.data.Dataset.list_files(pos_9_8+'\\*.jpg').take(10)\n",
    "pos_9_9_im=tf.data.Dataset.list_files(pos_9_9+'\\*.jpg').take(10)\n",
    "pos_9_10_im=tf.data.Dataset.list_files(pos_9_10+'\\*.jpg').take(10)\n",
    "pos_9_11_im=tf.data.Dataset.list_files(pos_9_11+'\\*.jpg').take(10)\n",
    "pos_9_12_im=tf.data.Dataset.list_files(pos_9_12+'\\*.jpg').take(10)\n",
    "pos_9_13_im=tf.data.Dataset.list_files(pos_9_13+'\\*.jpg').take(10)\n",
    "pos_9_14_im=tf.data.Dataset.list_files(pos_9_14+'\\*.jpg').take(10)\n",
    "pos_9_15_im=tf.data.Dataset.list_files(pos_9_15+'\\*.jpg').take(10)\n",
    "pos_9_16_im=tf.data.Dataset.list_files(pos_9_16+'\\*.jpg').take(10)"
   ]
  },
  {
   "cell_type": "code",
   "execution_count": 27,
   "id": "9c50784c",
   "metadata": {},
   "outputs": [],
   "source": [
    "#10\n",
    "pos_10_0 = os.path.join(POS_PATH,'10')\n",
    "pos_10_1 = os.path.join(POS_PATH,'10_1')\n",
    "pos_10_2 = os.path.join(POS_PATH,'10_2')\n",
    "pos_10_3 = os.path.join(POS_PATH,'10_3')\n",
    "pos_10_4 = os.path.join(POS_PATH,'10_4')\n",
    "pos_10_5 = os.path.join(POS_PATH,'10_5')\n",
    "pos_10_6 = os.path.join(POS_PATH,'10_6')\n",
    "pos_10_7 = os.path.join(POS_PATH,'10_7')\n",
    "pos_10_8 = os.path.join(POS_PATH,'10_8')\n",
    "pos_10_9 = os.path.join(POS_PATH,'10_9')\n",
    "pos_10_10 = os.path.join(POS_PATH,'10_10')\n",
    "pos_10_11 = os.path.join(POS_PATH,'10_11')\n",
    "pos_10_12 = os.path.join(POS_PATH,'10_12')\n",
    "pos_10_13 = os.path.join(POS_PATH,'10_13')\n",
    "pos_10_14 = os.path.join(POS_PATH,'10_14')\n",
    "pos_10_15 = os.path.join(POS_PATH,'10_15')\n",
    "pos_10_16 = os.path.join(POS_PATH,'10_16')"
   ]
  },
  {
   "cell_type": "code",
   "execution_count": 28,
   "id": "342bf7d9",
   "metadata": {},
   "outputs": [],
   "source": [
    "pos_10_0_im=tf.data.Dataset.list_files(pos_10_0+'\\*.jpg').take(10)\n",
    "pos_10_1_im=tf.data.Dataset.list_files(pos_10_1+'\\*.jpg').take(10)\n",
    "pos_10_2_im=tf.data.Dataset.list_files(pos_10_2+'\\*.jpg').take(10)\n",
    "pos_10_3_im=tf.data.Dataset.list_files(pos_10_3+'\\*.jpg').take(10)\n",
    "pos_10_4_im=tf.data.Dataset.list_files(pos_10_4+'\\*.jpg').take(10)\n",
    "pos_10_5_im=tf.data.Dataset.list_files(pos_10_5+'\\*.jpg').take(10)\n",
    "pos_10_6_im=tf.data.Dataset.list_files(pos_10_6+'\\*.jpg').take(10)\n",
    "pos_10_7_im=tf.data.Dataset.list_files(pos_10_7+'\\*.jpg').take(10)\n",
    "pos_10_8_im=tf.data.Dataset.list_files(pos_10_8+'\\*.jpg').take(10)\n",
    "pos_10_9_im=tf.data.Dataset.list_files(pos_10_9+'\\*.jpg').take(10)\n",
    "pos_10_10_im=tf.data.Dataset.list_files(pos_10_10+'\\*.jpg').take(10)\n",
    "pos_10_11_im=tf.data.Dataset.list_files(pos_10_11+'\\*.jpg').take(10)\n",
    "pos_10_12_im=tf.data.Dataset.list_files(pos_10_12+'\\*.jpg').take(10)\n",
    "pos_10_13_im=tf.data.Dataset.list_files(pos_10_13+'\\*.jpg').take(10)\n",
    "pos_10_14_im=tf.data.Dataset.list_files(pos_10_14+'\\*.jpg').take(10)\n",
    "pos_10_15_im=tf.data.Dataset.list_files(pos_10_15+'\\*.jpg').take(10)\n",
    "pos_10_16_im=tf.data.Dataset.list_files(pos_10_16+'\\*.jpg').take(10)"
   ]
  },
  {
   "cell_type": "code",
   "execution_count": 29,
   "id": "f6003ecf",
   "metadata": {},
   "outputs": [],
   "source": [
    "#11\n",
    "pos_11_0 = os.path.join(POS_PATH,'11')\n",
    "pos_11_1 = os.path.join(POS_PATH,'11_1')\n",
    "pos_11_2 = os.path.join(POS_PATH,'11_2')\n",
    "pos_11_3 = os.path.join(POS_PATH,'11_3')\n",
    "pos_11_4 = os.path.join(POS_PATH,'11_4')\n",
    "pos_11_5 = os.path.join(POS_PATH,'11_5')\n",
    "pos_11_6 = os.path.join(POS_PATH,'11_6')\n",
    "pos_11_7 = os.path.join(POS_PATH,'11_7')\n",
    "pos_11_8 = os.path.join(POS_PATH,'11_8')\n",
    "pos_11_9 = os.path.join(POS_PATH,'11_9')\n",
    "pos_11_10 = os.path.join(POS_PATH,'11_10')\n",
    "pos_11_11 = os.path.join(POS_PATH,'11_11')\n",
    "pos_11_12 = os.path.join(POS_PATH,'11_12')\n",
    "pos_11_13 = os.path.join(POS_PATH,'11_13')\n",
    "pos_11_14 = os.path.join(POS_PATH,'11_14')\n",
    "pos_11_15 = os.path.join(POS_PATH,'11_15')\n",
    "pos_11_16 = os.path.join(POS_PATH,'11_16')"
   ]
  },
  {
   "cell_type": "code",
   "execution_count": 30,
   "id": "ba285726",
   "metadata": {},
   "outputs": [],
   "source": [
    "\n",
    "pos_11_0_im=tf.data.Dataset.list_files(pos_11_0+'\\*.jpg').take(10)\n",
    "pos_11_1_im=tf.data.Dataset.list_files(pos_11_1+'\\*.jpg').take(10)\n",
    "pos_11_2_im=tf.data.Dataset.list_files(pos_11_2+'\\*.jpg').take(10)\n",
    "pos_11_3_im=tf.data.Dataset.list_files(pos_11_3+'\\*.jpg').take(10)\n",
    "pos_11_4_im=tf.data.Dataset.list_files(pos_11_4+'\\*.jpg').take(10)\n",
    "pos_11_5_im=tf.data.Dataset.list_files(pos_11_5+'\\*.jpg').take(10)\n",
    "pos_11_6_im=tf.data.Dataset.list_files(pos_11_6+'\\*.jpg').take(10)\n",
    "pos_11_7_im=tf.data.Dataset.list_files(pos_11_7+'\\*.jpg').take(10)\n",
    "pos_11_8_im=tf.data.Dataset.list_files(pos_11_8+'\\*.jpg').take(10)\n",
    "pos_11_9_im=tf.data.Dataset.list_files(pos_11_9+'\\*.jpg').take(10)\n",
    "pos_11_10_im=tf.data.Dataset.list_files(pos_11_10+'\\*.jpg').take(10)\n",
    "pos_11_11_im=tf.data.Dataset.list_files(pos_11_11+'\\*.jpg').take(10)\n",
    "pos_11_12_im=tf.data.Dataset.list_files(pos_11_12+'\\*.jpg').take(10)\n",
    "pos_11_13_im=tf.data.Dataset.list_files(pos_11_13+'\\*.jpg').take(10)\n",
    "pos_11_14_im=tf.data.Dataset.list_files(pos_11_14+'\\*.jpg').take(10)\n",
    "pos_11_15_im=tf.data.Dataset.list_files(pos_11_15+'\\*.jpg').take(10)\n",
    "pos_11_16_im=tf.data.Dataset.list_files(pos_11_16+'\\*.jpg').take(10)"
   ]
  },
  {
   "cell_type": "code",
   "execution_count": 31,
   "id": "766a412e",
   "metadata": {},
   "outputs": [],
   "source": [
    "#12\n",
    "pos_12_0 = os.path.join(POS_PATH,'12')\n",
    "pos_12_1 = os.path.join(POS_PATH,'12_1')\n",
    "pos_12_2 = os.path.join(POS_PATH,'12_2')\n",
    "pos_12_3 = os.path.join(POS_PATH,'12_3')\n",
    "pos_12_4 = os.path.join(POS_PATH,'12_4')\n",
    "pos_12_5 = os.path.join(POS_PATH,'12_5')\n",
    "pos_12_6 = os.path.join(POS_PATH,'12_6')\n",
    "pos_12_7 = os.path.join(POS_PATH,'12_7')\n",
    "pos_12_8 = os.path.join(POS_PATH,'12_8')\n",
    "pos_12_9 = os.path.join(POS_PATH,'12_9')\n",
    "pos_12_10 = os.path.join(POS_PATH,'12_10')\n",
    "pos_12_11 = os.path.join(POS_PATH,'12_11')\n",
    "pos_12_12 = os.path.join(POS_PATH,'12_12')\n",
    "pos_12_13 = os.path.join(POS_PATH,'12_13')\n",
    "pos_12_14 = os.path.join(POS_PATH,'12_14')\n",
    "pos_12_15 = os.path.join(POS_PATH,'12_15')\n",
    "pos_12_16 = os.path.join(POS_PATH,'12_16')"
   ]
  },
  {
   "cell_type": "code",
   "execution_count": 32,
   "id": "1fdcb9c1",
   "metadata": {},
   "outputs": [],
   "source": [
    "pos_12_0_im=tf.data.Dataset.list_files(pos_12_0+'\\*.jpg').take(10)\n",
    "pos_12_1_im=tf.data.Dataset.list_files(pos_12_1+'\\*.jpg').take(10)\n",
    "pos_12_2_im=tf.data.Dataset.list_files(pos_12_2+'\\*.jpg').take(10)\n",
    "pos_12_3_im=tf.data.Dataset.list_files(pos_12_3+'\\*.jpg').take(10)\n",
    "pos_12_4_im=tf.data.Dataset.list_files(pos_12_4+'\\*.jpg').take(10)\n",
    "pos_12_5_im=tf.data.Dataset.list_files(pos_12_5+'\\*.jpg').take(10)\n",
    "pos_12_6_im=tf.data.Dataset.list_files(pos_12_6+'\\*.jpg').take(10)\n",
    "pos_12_7_im=tf.data.Dataset.list_files(pos_12_7+'\\*.jpg').take(10)\n",
    "pos_12_8_im=tf.data.Dataset.list_files(pos_12_8+'\\*.jpg').take(10)\n",
    "pos_12_9_im=tf.data.Dataset.list_files(pos_12_9+'\\*.jpg').take(10)\n",
    "pos_12_10_im=tf.data.Dataset.list_files(pos_12_10+'\\*.jpg').take(10)\n",
    "pos_12_11_im=tf.data.Dataset.list_files(pos_12_11+'\\*.jpg').take(10)\n",
    "pos_12_12_im=tf.data.Dataset.list_files(pos_12_12+'\\*.jpg').take(10)\n",
    "pos_12_13_im=tf.data.Dataset.list_files(pos_12_13+'\\*.jpg').take(10)\n",
    "pos_12_14_im=tf.data.Dataset.list_files(pos_12_14+'\\*.jpg').take(10)\n",
    "pos_12_15_im=tf.data.Dataset.list_files(pos_12_15+'\\*.jpg').take(10)\n",
    "pos_12_16_im=tf.data.Dataset.list_files(pos_12_16+'\\*.jpg').take(10)"
   ]
  },
  {
   "cell_type": "code",
   "execution_count": 33,
   "id": "72bdc176",
   "metadata": {},
   "outputs": [],
   "source": [
    "#13\n",
    "pos_13_0 = os.path.join(POS_PATH,'13')\n",
    "pos_13_1 = os.path.join(POS_PATH,'13_1')\n",
    "pos_13_2 = os.path.join(POS_PATH,'13_2')\n",
    "pos_13_3 = os.path.join(POS_PATH,'13_3')\n",
    "pos_13_4 = os.path.join(POS_PATH,'13_4')\n",
    "pos_13_5 = os.path.join(POS_PATH,'13_5')\n",
    "pos_13_6 = os.path.join(POS_PATH,'13_6')\n",
    "pos_13_7 = os.path.join(POS_PATH,'13_7')\n",
    "pos_13_8 = os.path.join(POS_PATH,'13_8')\n",
    "pos_13_9 = os.path.join(POS_PATH,'13_9')\n",
    "pos_13_10 = os.path.join(POS_PATH,'13_10')\n",
    "pos_13_11 = os.path.join(POS_PATH,'13_11')\n",
    "pos_13_12 = os.path.join(POS_PATH,'13_12')\n",
    "pos_13_13 = os.path.join(POS_PATH,'13_13')\n",
    "pos_13_14 = os.path.join(POS_PATH,'13_14')\n",
    "pos_13_15 = os.path.join(POS_PATH,'13_15')\n",
    "pos_13_16 = os.path.join(POS_PATH,'13_16')"
   ]
  },
  {
   "cell_type": "code",
   "execution_count": 34,
   "id": "457c44ae",
   "metadata": {},
   "outputs": [],
   "source": [
    "pos_13_0_im=tf.data.Dataset.list_files(pos_13_0+'\\*.jpg').take(10)\n",
    "pos_13_1_im=tf.data.Dataset.list_files(pos_13_1+'\\*.jpg').take(10)\n",
    "pos_13_2_im=tf.data.Dataset.list_files(pos_13_2+'\\*.jpg').take(10)\n",
    "pos_13_3_im=tf.data.Dataset.list_files(pos_13_3+'\\*.jpg').take(10)\n",
    "pos_13_4_im=tf.data.Dataset.list_files(pos_13_4+'\\*.jpg').take(10)\n",
    "pos_13_5_im=tf.data.Dataset.list_files(pos_13_5+'\\*.jpg').take(10)\n",
    "pos_13_6_im=tf.data.Dataset.list_files(pos_13_6+'\\*.jpg').take(10)\n",
    "pos_13_7_im=tf.data.Dataset.list_files(pos_13_7+'\\*.jpg').take(10)\n",
    "pos_13_8_im=tf.data.Dataset.list_files(pos_13_8+'\\*.jpg').take(10)\n",
    "pos_13_9_im=tf.data.Dataset.list_files(pos_13_9+'\\*.jpg').take(10)\n",
    "pos_13_10_im=tf.data.Dataset.list_files(pos_13_10+'\\*.jpg').take(10)\n",
    "pos_13_11_im=tf.data.Dataset.list_files(pos_13_11+'\\*.jpg').take(10)\n",
    "pos_13_12_im=tf.data.Dataset.list_files(pos_13_12+'\\*.jpg').take(10)\n",
    "pos_13_13_im=tf.data.Dataset.list_files(pos_13_13+'\\*.jpg').take(10)\n",
    "pos_13_14_im=tf.data.Dataset.list_files(pos_13_14+'\\*.jpg').take(10)\n",
    "pos_13_15_im=tf.data.Dataset.list_files(pos_13_15+'\\*.jpg').take(10)\n",
    "pos_13_16_im=tf.data.Dataset.list_files(pos_13_16+'\\*.jpg').take(10)"
   ]
  },
  {
   "cell_type": "code",
   "execution_count": 35,
   "id": "144c4ddc",
   "metadata": {},
   "outputs": [],
   "source": [
    "#14\n",
    "pos_14_0 = os.path.join(POS_PATH,'14')\n",
    "pos_14_1 = os.path.join(POS_PATH,'14_1')\n",
    "pos_14_2 = os.path.join(POS_PATH,'14_2')\n",
    "pos_14_3 = os.path.join(POS_PATH,'14_3')\n",
    "pos_14_4 = os.path.join(POS_PATH,'14_4')\n",
    "pos_14_5 = os.path.join(POS_PATH,'14_5')\n",
    "pos_14_6 = os.path.join(POS_PATH,'14_6')\n",
    "pos_14_7 = os.path.join(POS_PATH,'14_7')\n",
    "pos_14_8 = os.path.join(POS_PATH,'14_8')\n",
    "pos_14_9 = os.path.join(POS_PATH,'14_9')\n",
    "pos_14_10 = os.path.join(POS_PATH,'14_10')\n",
    "pos_14_11 = os.path.join(POS_PATH,'14_11')\n",
    "pos_14_12 = os.path.join(POS_PATH,'14_12')\n",
    "pos_14_13 = os.path.join(POS_PATH,'14_13')\n",
    "pos_14_14 = os.path.join(POS_PATH,'14_14')\n",
    "pos_14_15 = os.path.join(POS_PATH,'14_15')\n",
    "pos_14_16 = os.path.join(POS_PATH,'14_16')"
   ]
  },
  {
   "cell_type": "code",
   "execution_count": 36,
   "id": "b72bfe57",
   "metadata": {},
   "outputs": [],
   "source": [
    "pos_14_0_im=tf.data.Dataset.list_files(pos_14_0+'\\*.jpg').take(10)\n",
    "pos_14_1_im=tf.data.Dataset.list_files(pos_14_1+'\\*.jpg').take(10)\n",
    "pos_14_2_im=tf.data.Dataset.list_files(pos_14_2+'\\*.jpg').take(10)\n",
    "pos_14_3_im=tf.data.Dataset.list_files(pos_14_3+'\\*.jpg').take(10)\n",
    "pos_14_4_im=tf.data.Dataset.list_files(pos_14_4+'\\*.jpg').take(10)\n",
    "pos_14_5_im=tf.data.Dataset.list_files(pos_14_5+'\\*.jpg').take(10)\n",
    "pos_14_6_im=tf.data.Dataset.list_files(pos_14_6+'\\*.jpg').take(10)\n",
    "pos_14_7_im=tf.data.Dataset.list_files(pos_14_7+'\\*.jpg').take(10)\n",
    "pos_14_8_im=tf.data.Dataset.list_files(pos_14_8+'\\*.jpg').take(10)\n",
    "pos_14_9_im=tf.data.Dataset.list_files(pos_14_9+'\\*.jpg').take(10)\n",
    "pos_14_10_im=tf.data.Dataset.list_files(pos_14_10+'\\*.jpg').take(10)\n",
    "pos_14_11_im=tf.data.Dataset.list_files(pos_14_11+'\\*.jpg').take(10)\n",
    "pos_14_12_im=tf.data.Dataset.list_files(pos_14_12+'\\*.jpg').take(10)\n",
    "pos_14_13_im=tf.data.Dataset.list_files(pos_14_13+'\\*.jpg').take(10)\n",
    "pos_14_14_im=tf.data.Dataset.list_files(pos_14_14+'\\*.jpg').take(10)\n",
    "pos_14_15_im=tf.data.Dataset.list_files(pos_14_15+'\\*.jpg').take(10)\n",
    "pos_14_16_im=tf.data.Dataset.list_files(pos_14_16+'\\*.jpg').take(10)"
   ]
  },
  {
   "cell_type": "code",
   "execution_count": 37,
   "id": "eedc3caf",
   "metadata": {},
   "outputs": [],
   "source": [
    "#15\n",
    "pos_15_0 = os.path.join(POS_PATH,'15')\n",
    "pos_15_1 = os.path.join(POS_PATH,'15_1')\n",
    "pos_15_2 = os.path.join(POS_PATH,'15_2')\n",
    "pos_15_3 = os.path.join(POS_PATH,'15_3')\n",
    "pos_15_4 = os.path.join(POS_PATH,'15_4')\n",
    "pos_15_5 = os.path.join(POS_PATH,'15_5')\n",
    "pos_15_6 = os.path.join(POS_PATH,'15_6')\n",
    "pos_15_7 = os.path.join(POS_PATH,'15_7')\n",
    "pos_15_8 = os.path.join(POS_PATH,'15_8')\n",
    "pos_15_9 = os.path.join(POS_PATH,'15_9')\n",
    "pos_15_10 = os.path.join(POS_PATH,'15_10')\n",
    "pos_15_11 = os.path.join(POS_PATH,'15_11')\n",
    "pos_15_12 = os.path.join(POS_PATH,'15_12')\n",
    "pos_15_13 = os.path.join(POS_PATH,'15_13')\n",
    "pos_15_14 = os.path.join(POS_PATH,'15_14')\n",
    "pos_15_15 = os.path.join(POS_PATH,'15_15')\n",
    "pos_15_16 = os.path.join(POS_PATH,'15_16')"
   ]
  },
  {
   "cell_type": "code",
   "execution_count": 38,
   "id": "ded42c43",
   "metadata": {},
   "outputs": [],
   "source": [
    "pos_15_0_im=tf.data.Dataset.list_files(pos_15_0+'\\*.jpg').take(10)\n",
    "pos_15_1_im=tf.data.Dataset.list_files(pos_15_1+'\\*.jpg').take(10)\n",
    "pos_15_2_im=tf.data.Dataset.list_files(pos_15_2+'\\*.jpg').take(10)\n",
    "pos_15_3_im=tf.data.Dataset.list_files(pos_15_3+'\\*.jpg').take(10)\n",
    "pos_15_4_im=tf.data.Dataset.list_files(pos_15_4+'\\*.jpg').take(10)\n",
    "pos_15_5_im=tf.data.Dataset.list_files(pos_15_5+'\\*.jpg').take(10)\n",
    "pos_15_6_im=tf.data.Dataset.list_files(pos_15_6+'\\*.jpg').take(10)\n",
    "pos_15_7_im=tf.data.Dataset.list_files(pos_15_7+'\\*.jpg').take(10)\n",
    "pos_15_8_im=tf.data.Dataset.list_files(pos_15_8+'\\*.jpg').take(10)\n",
    "pos_15_9_im=tf.data.Dataset.list_files(pos_15_9+'\\*.jpg').take(10)\n",
    "pos_15_10_im=tf.data.Dataset.list_files(pos_15_10+'\\*.jpg').take(10)\n",
    "pos_15_11_im=tf.data.Dataset.list_files(pos_15_11+'\\*.jpg').take(10)\n",
    "pos_15_12_im=tf.data.Dataset.list_files(pos_15_12+'\\*.jpg').take(10)\n",
    "pos_15_13_im=tf.data.Dataset.list_files(pos_15_13+'\\*.jpg').take(10)\n",
    "pos_15_14_im=tf.data.Dataset.list_files(pos_15_14+'\\*.jpg').take(10)\n",
    "pos_15_15_im=tf.data.Dataset.list_files(pos_15_15+'\\*.jpg').take(10)\n",
    "pos_15_16_im=tf.data.Dataset.list_files(pos_15_16+'\\*.jpg').take(10)"
   ]
  },
  {
   "cell_type": "code",
   "execution_count": 39,
   "id": "ff6bbd38",
   "metadata": {},
   "outputs": [],
   "source": [
    "#16\n",
    "pos_16_0 = os.path.join(POS_PATH,'16')\n",
    "pos_16_1 = os.path.join(POS_PATH,'16_1')\n",
    "pos_16_2 = os.path.join(POS_PATH,'16_2')\n",
    "pos_16_3 = os.path.join(POS_PATH,'16_3')\n",
    "pos_16_4 = os.path.join(POS_PATH,'16_4')\n",
    "pos_16_5 = os.path.join(POS_PATH,'16_5')\n",
    "pos_16_6 = os.path.join(POS_PATH,'16_6')\n",
    "pos_16_7 = os.path.join(POS_PATH,'16_7')\n",
    "pos_16_8 = os.path.join(POS_PATH,'16_8')\n",
    "pos_16_9 = os.path.join(POS_PATH,'16_9')\n",
    "pos_16_10 = os.path.join(POS_PATH,'16_10')\n",
    "pos_16_11 = os.path.join(POS_PATH,'16_11')\n",
    "pos_16_12 = os.path.join(POS_PATH,'16_12')\n",
    "pos_16_13 = os.path.join(POS_PATH,'16_13')\n",
    "pos_16_14 = os.path.join(POS_PATH,'16_14')\n",
    "pos_16_15 = os.path.join(POS_PATH,'16_15')\n",
    "pos_16_16 = os.path.join(POS_PATH,'16_16')"
   ]
  },
  {
   "cell_type": "code",
   "execution_count": 40,
   "id": "73871510",
   "metadata": {},
   "outputs": [],
   "source": [
    "pos_16_0_im=tf.data.Dataset.list_files(pos_16_0+'\\*.jpg').take(10)\n",
    "pos_16_1_im=tf.data.Dataset.list_files(pos_16_1+'\\*.jpg').take(10)\n",
    "pos_16_2_im=tf.data.Dataset.list_files(pos_16_2+'\\*.jpg').take(10)\n",
    "pos_16_3_im=tf.data.Dataset.list_files(pos_16_3+'\\*.jpg').take(10)\n",
    "pos_16_4_im=tf.data.Dataset.list_files(pos_16_4+'\\*.jpg').take(10)\n",
    "pos_16_5_im=tf.data.Dataset.list_files(pos_16_5+'\\*.jpg').take(10)\n",
    "pos_16_6_im=tf.data.Dataset.list_files(pos_16_6+'\\*.jpg').take(10)\n",
    "pos_16_7_im=tf.data.Dataset.list_files(pos_16_7+'\\*.jpg').take(10)\n",
    "pos_16_8_im=tf.data.Dataset.list_files(pos_16_8+'\\*.jpg').take(10)\n",
    "pos_16_9_im=tf.data.Dataset.list_files(pos_16_9+'\\*.jpg').take(10)\n",
    "pos_16_10_im=tf.data.Dataset.list_files(pos_16_10+'\\*.jpg').take(10)\n",
    "pos_16_11_im=tf.data.Dataset.list_files(pos_16_11+'\\*.jpg').take(10)\n",
    "pos_16_12_im=tf.data.Dataset.list_files(pos_16_12+'\\*.jpg').take(10)\n",
    "pos_16_13_im=tf.data.Dataset.list_files(pos_16_13+'\\*.jpg').take(10)\n",
    "pos_16_14_im=tf.data.Dataset.list_files(pos_16_14+'\\*.jpg').take(10)\n",
    "pos_16_15_im=tf.data.Dataset.list_files(pos_16_15+'\\*.jpg').take(10)\n",
    "pos_16_16_im=tf.data.Dataset.list_files(pos_16_16+'\\*.jpg').take(10)"
   ]
  },
  {
   "cell_type": "code",
   "execution_count": 41,
   "id": "af332e45",
   "metadata": {},
   "outputs": [],
   "source": [
    "#17\n",
    "pos_17_0 = os.path.join(POS_PATH,'17')\n",
    "pos_17_1 = os.path.join(POS_PATH,'17_1')\n",
    "pos_17_2 = os.path.join(POS_PATH,'17_2')\n",
    "pos_17_3 = os.path.join(POS_PATH,'17_3')\n",
    "pos_17_4 = os.path.join(POS_PATH,'17_4')\n",
    "pos_17_5 = os.path.join(POS_PATH,'17_5')\n",
    "pos_17_6 = os.path.join(POS_PATH,'17_6')\n",
    "pos_17_7 = os.path.join(POS_PATH,'17_7')\n",
    "pos_17_8 = os.path.join(POS_PATH,'17_8')\n",
    "pos_17_9 = os.path.join(POS_PATH,'17_9')\n",
    "pos_17_10 = os.path.join(POS_PATH,'17_10')\n",
    "pos_17_11 = os.path.join(POS_PATH,'17_11')\n",
    "pos_17_12 = os.path.join(POS_PATH,'17_12')\n",
    "pos_17_13 = os.path.join(POS_PATH,'17_13')\n",
    "pos_17_14 = os.path.join(POS_PATH,'17_14')\n",
    "pos_17_15 = os.path.join(POS_PATH,'17_15')\n",
    "pos_17_16 = os.path.join(POS_PATH,'17_16')"
   ]
  },
  {
   "cell_type": "code",
   "execution_count": 42,
   "id": "c02e48f8",
   "metadata": {},
   "outputs": [],
   "source": [
    "pos_17_0_im=tf.data.Dataset.list_files(pos_17_0+'\\*.jpg').take(10)\n",
    "pos_17_1_im=tf.data.Dataset.list_files(pos_17_1+'\\*.jpg').take(10)\n",
    "pos_17_2_im=tf.data.Dataset.list_files(pos_17_2+'\\*.jpg').take(10)\n",
    "pos_17_3_im=tf.data.Dataset.list_files(pos_17_3+'\\*.jpg').take(10)\n",
    "pos_17_4_im=tf.data.Dataset.list_files(pos_17_4+'\\*.jpg').take(10)\n",
    "pos_17_5_im=tf.data.Dataset.list_files(pos_17_5+'\\*.jpg').take(10)\n",
    "pos_17_6_im=tf.data.Dataset.list_files(pos_17_6+'\\*.jpg').take(10)\n",
    "pos_17_7_im=tf.data.Dataset.list_files(pos_17_7+'\\*.jpg').take(10)\n",
    "pos_17_8_im=tf.data.Dataset.list_files(pos_17_8+'\\*.jpg').take(10)\n",
    "pos_17_9_im=tf.data.Dataset.list_files(pos_17_9+'\\*.jpg').take(10)\n",
    "pos_17_10_im=tf.data.Dataset.list_files(pos_17_10+'\\*.jpg').take(10)\n",
    "pos_17_11_im=tf.data.Dataset.list_files(pos_17_11+'\\*.jpg').take(10)\n",
    "pos_17_12_im=tf.data.Dataset.list_files(pos_17_12+'\\*.jpg').take(10)\n",
    "pos_17_13_im=tf.data.Dataset.list_files(pos_17_13+'\\*.jpg').take(10)\n",
    "pos_17_14_im=tf.data.Dataset.list_files(pos_17_14+'\\*.jpg').take(10)\n",
    "pos_17_15_im=tf.data.Dataset.list_files(pos_17_15+'\\*.jpg').take(10)\n",
    "pos_17_16_im=tf.data.Dataset.list_files(pos_17_16+'\\*.jpg').take(10)"
   ]
  },
  {
   "cell_type": "code",
   "execution_count": 43,
   "id": "95ae8917",
   "metadata": {},
   "outputs": [],
   "source": [
    "#18\n",
    "pos_18_0 = os.path.join(POS_PATH,'18')\n",
    "pos_18_1 = os.path.join(POS_PATH,'18_1')\n",
    "pos_18_2 = os.path.join(POS_PATH,'18_2')\n",
    "pos_18_3 = os.path.join(POS_PATH,'18_3')\n",
    "pos_18_4 = os.path.join(POS_PATH,'18_4')\n",
    "pos_18_5 = os.path.join(POS_PATH,'18_5')\n",
    "pos_18_6 = os.path.join(POS_PATH,'18_6')\n",
    "pos_18_7 = os.path.join(POS_PATH,'18_7')\n",
    "pos_18_8 = os.path.join(POS_PATH,'18_8')\n",
    "pos_18_9 = os.path.join(POS_PATH,'18_9')\n",
    "pos_18_10 = os.path.join(POS_PATH,'18_10')\n",
    "pos_18_11 = os.path.join(POS_PATH,'18_11')\n",
    "pos_18_12 = os.path.join(POS_PATH,'18_12')\n",
    "pos_18_13 = os.path.join(POS_PATH,'18_13')\n",
    "pos_18_14 = os.path.join(POS_PATH,'18_14')\n",
    "pos_18_15 = os.path.join(POS_PATH,'18_15')\n",
    "pos_18_16 = os.path.join(POS_PATH,'18_16')"
   ]
  },
  {
   "cell_type": "code",
   "execution_count": 44,
   "id": "34d8ba49",
   "metadata": {},
   "outputs": [],
   "source": [
    "pos_18_0_im=tf.data.Dataset.list_files(pos_18_0+'\\*.jpg').take(10)\n",
    "pos_18_1_im=tf.data.Dataset.list_files(pos_18_1+'\\*.jpg').take(10)\n",
    "pos_18_2_im=tf.data.Dataset.list_files(pos_18_2+'\\*.jpg').take(10)\n",
    "pos_18_3_im=tf.data.Dataset.list_files(pos_18_3+'\\*.jpg').take(10)\n",
    "pos_18_4_im=tf.data.Dataset.list_files(pos_18_4+'\\*.jpg').take(10)\n",
    "pos_18_5_im=tf.data.Dataset.list_files(pos_18_5+'\\*.jpg').take(10)\n",
    "pos_18_6_im=tf.data.Dataset.list_files(pos_18_6+'\\*.jpg').take(10)\n",
    "pos_18_7_im=tf.data.Dataset.list_files(pos_18_7+'\\*.jpg').take(10)\n",
    "pos_18_8_im=tf.data.Dataset.list_files(pos_18_8+'\\*.jpg').take(10)\n",
    "pos_18_9_im=tf.data.Dataset.list_files(pos_18_9+'\\*.jpg').take(10)\n",
    "pos_18_10_im=tf.data.Dataset.list_files(pos_18_10+'\\*.jpg').take(10)\n",
    "pos_18_11_im=tf.data.Dataset.list_files(pos_18_11+'\\*.jpg').take(10)\n",
    "pos_18_12_im=tf.data.Dataset.list_files(pos_18_12+'\\*.jpg').take(10)\n",
    "pos_18_13_im=tf.data.Dataset.list_files(pos_18_13+'\\*.jpg').take(10)\n",
    "pos_18_14_im=tf.data.Dataset.list_files(pos_18_14+'\\*.jpg').take(10)\n",
    "pos_18_15_im=tf.data.Dataset.list_files(pos_18_15+'\\*.jpg').take(10)\n",
    "pos_18_16_im=tf.data.Dataset.list_files(pos_18_16+'\\*.jpg').take(10)"
   ]
  },
  {
   "cell_type": "code",
   "execution_count": 45,
   "id": "cf0b4739",
   "metadata": {},
   "outputs": [],
   "source": [
    "#19\n",
    "pos_19_0 = os.path.join(POS_PATH,'19')\n",
    "pos_19_1 = os.path.join(POS_PATH,'19_1')\n",
    "pos_19_2 = os.path.join(POS_PATH,'19_2')\n",
    "pos_19_3 = os.path.join(POS_PATH,'19_3')\n",
    "pos_19_4 = os.path.join(POS_PATH,'19_4')\n",
    "pos_19_5 = os.path.join(POS_PATH,'19_5')\n",
    "pos_19_6 = os.path.join(POS_PATH,'19_6')\n",
    "pos_19_7 = os.path.join(POS_PATH,'19_7')\n",
    "pos_19_8 = os.path.join(POS_PATH,'19_8')\n",
    "pos_19_9 = os.path.join(POS_PATH,'19_9')\n",
    "pos_19_10 = os.path.join(POS_PATH,'19_10')\n",
    "pos_19_11 = os.path.join(POS_PATH,'19_11')\n",
    "pos_19_12 = os.path.join(POS_PATH,'19_12')\n",
    "pos_19_13 = os.path.join(POS_PATH,'19_13')\n",
    "pos_19_14 = os.path.join(POS_PATH,'19_14')\n",
    "pos_19_15 = os.path.join(POS_PATH,'19_15')\n",
    "pos_19_16 = os.path.join(POS_PATH,'19_16')"
   ]
  },
  {
   "cell_type": "code",
   "execution_count": 46,
   "id": "a03bd099",
   "metadata": {},
   "outputs": [],
   "source": [
    "pos_19_0_im=tf.data.Dataset.list_files(pos_19_0+'\\*.jpg').take(10)\n",
    "pos_19_1_im=tf.data.Dataset.list_files(pos_19_1+'\\*.jpg').take(10)\n",
    "pos_19_2_im=tf.data.Dataset.list_files(pos_19_2+'\\*.jpg').take(10)\n",
    "pos_19_3_im=tf.data.Dataset.list_files(pos_19_3+'\\*.jpg').take(10)\n",
    "pos_19_4_im=tf.data.Dataset.list_files(pos_19_4+'\\*.jpg').take(10)\n",
    "pos_19_5_im=tf.data.Dataset.list_files(pos_19_5+'\\*.jpg').take(10)\n",
    "pos_19_6_im=tf.data.Dataset.list_files(pos_19_6+'\\*.jpg').take(10)\n",
    "pos_19_7_im=tf.data.Dataset.list_files(pos_19_7+'\\*.jpg').take(10)\n",
    "pos_19_8_im=tf.data.Dataset.list_files(pos_19_8+'\\*.jpg').take(10)\n",
    "pos_19_9_im=tf.data.Dataset.list_files(pos_19_9+'\\*.jpg').take(10)\n",
    "pos_19_10_im=tf.data.Dataset.list_files(pos_19_10+'\\*.jpg').take(10)\n",
    "pos_19_11_im=tf.data.Dataset.list_files(pos_19_11+'\\*.jpg').take(10)\n",
    "pos_19_12_im=tf.data.Dataset.list_files(pos_19_12+'\\*.jpg').take(10)\n",
    "pos_19_13_im=tf.data.Dataset.list_files(pos_19_13+'\\*.jpg').take(10)\n",
    "pos_19_14_im=tf.data.Dataset.list_files(pos_19_14+'\\*.jpg').take(10)\n",
    "pos_19_15_im=tf.data.Dataset.list_files(pos_19_15+'\\*.jpg').take(10)\n",
    "pos_19_16_im=tf.data.Dataset.list_files(pos_19_16+'\\*.jpg').take(10)"
   ]
  },
  {
   "cell_type": "code",
   "execution_count": 47,
   "id": "be2b3665",
   "metadata": {},
   "outputs": [],
   "source": [
    "def preprocess(file_path):\n",
    "    byte_img = tf.io.read_file(file_path)\n",
    "    img = tf.io.decode_jpeg(byte_img)\n",
    "    img = tf.image.resize(img, (100,100))\n",
    "    img=img/255.0\n",
    "    return img"
   ]
  },
  {
   "cell_type": "code",
   "execution_count": 48,
   "id": "63de4f53",
   "metadata": {},
   "outputs": [
    {
     "data": {
      "text/plain": [
       "b'data\\\\positive\\\\19\\\\00019_1.jpg'"
      ]
     },
     "execution_count": 48,
     "metadata": {},
     "output_type": "execute_result"
    }
   ],
   "source": [
    "dir_test = pos_19_0_im.as_numpy_iterator()\n",
    "dir_test.next()"
   ]
  },
  {
   "cell_type": "code",
   "execution_count": 49,
   "id": "ff54d767",
   "metadata": {},
   "outputs": [],
   "source": [
    "img = preprocess('data\\\\positive\\\\19\\\\00019_1.jpg')"
   ]
  },
  {
   "cell_type": "code",
   "execution_count": 50,
   "id": "a75a2eb2",
   "metadata": {},
   "outputs": [
    {
     "data": {
      "text/plain": [
       "<matplotlib.image.AxesImage at 0x2605a292f10>"
      ]
     },
     "execution_count": 50,
     "metadata": {},
     "output_type": "execute_result"
    },
    {
     "data": {
      "image/png": "[encoded data removed]",
      "text/plain": [
       "<Figure size 432x288 with 1 Axes>"
      ]
     },
     "metadata": {
      "needs_background": "light"
     },
     "output_type": "display_data"
    }
   ],
   "source": [
    "plt.imshow(img)"
   ]
  },
  {
   "cell_type": "code",
   "execution_count": 51,
   "id": "5e8defac",
   "metadata": {},
   "outputs": [
    {
     "data": {
      "text/plain": [
       "<tf.Tensor: shape=(100, 100, 1), dtype=float32, numpy=\n",
       "array([[[0.],\n",
       "        [0.],\n",
       "        [0.],\n",
       "        ...,\n",
       "        [0.],\n",
       "        [0.],\n",
       "        [0.]],\n",
       "\n",
       "       [[0.],\n",
       "        [0.],\n",
       "        [0.],\n",
       "        ...,\n",
       "        [0.],\n",
       "        [0.],\n",
       "        [0.]],\n",
       "\n",
       "       [[0.],\n",
       "        [0.],\n",
       "        [0.],\n",
       "        ...,\n",
       "        [0.],\n",
       "        [0.],\n",
       "        [0.]],\n",
       "\n",
       "       ...,\n",
       "\n",
       "       [[0.],\n",
       "        [0.],\n",
       "        [0.],\n",
       "        ...,\n",
       "        [0.],\n",
       "        [0.],\n",
       "        [0.]],\n",
       "\n",
       "       [[0.],\n",
       "        [0.],\n",
       "        [0.],\n",
       "        ...,\n",
       "        [0.],\n",
       "        [0.],\n",
       "        [0.]],\n",
       "\n",
       "       [[0.],\n",
       "        [0.],\n",
       "        [0.],\n",
       "        ...,\n",
       "        [0.],\n",
       "        [0.],\n",
       "        [0.]]], dtype=float32)>"
      ]
     },
     "execution_count": 51,
     "metadata": {},
     "output_type": "execute_result"
    }
   ],
   "source": [
    "img.numpy().max() \n",
    "img"
   ]
  },
  {
   "cell_type": "code",
   "execution_count": 52,
   "id": "73d167ab",
   "metadata": {},
   "outputs": [
    {
     "name": "stdout",
     "output_type": "stream",
     "text": [
      "180\n",
      "<class 'tensorflow.python.data.ops.dataset_ops.ConcatenateDataset'>\n"
     ]
    }
   ],
   "source": [
    "#anc_1_im,neg_1_im\n",
    "negatives = tf.data.Dataset.zip((anc_1_im,neg_2_im,tf.data.Dataset.from_tensor_slices(tf.zeros(len(neg_1_im)))))\n",
    "q=tf.data.Dataset.zip((anc_1_im,neg_3_im,tf.data.Dataset.from_tensor_slices(tf.zeros(len(neg_1_im)))))\n",
    "data1=negatives.concatenate(q)\n",
    "q=tf.data.Dataset.zip((anc_1_im,neg_4_im,tf.data.Dataset.from_tensor_slices(tf.zeros(len(neg_1_im)))))\n",
    "data1=data1.concatenate(q)\n",
    "q=tf.data.Dataset.zip((anc_1_im,neg_5_im,tf.data.Dataset.from_tensor_slices(tf.zeros(len(neg_1_im)))))\n",
    "data1=data1.concatenate(q)\n",
    "q=tf.data.Dataset.zip((anc_1_im,neg_6_im,tf.data.Dataset.from_tensor_slices(tf.zeros(len(neg_1_im)))))\n",
    "data1=data1.concatenate(q)\n",
    "q=tf.data.Dataset.zip((anc_1_im,neg_7_im,tf.data.Dataset.from_tensor_slices(tf.zeros(len(neg_1_im)))))\n",
    "data1=data1.concatenate(q)\n",
    "q=tf.data.Dataset.zip((anc_1_im,neg_8_im,tf.data.Dataset.from_tensor_slices(tf.zeros(len(neg_1_im)))))\n",
    "data1=data1.concatenate(q)\n",
    "q=tf.data.Dataset.zip((anc_1_im,neg_9_im,tf.data.Dataset.from_tensor_slices(tf.zeros(len(neg_1_im)))))\n",
    "data1=data1.concatenate(q)\n",
    "q=tf.data.Dataset.zip((anc_1_im,neg_10_im,tf.data.Dataset.from_tensor_slices(tf.zeros(len(neg_1_im)))))\n",
    "data1=data1.concatenate(q)\n",
    "q=tf.data.Dataset.zip((anc_1_im,neg_11_im,tf.data.Dataset.from_tensor_slices(tf.zeros(len(neg_1_im)))))\n",
    "data1=data1.concatenate(q)\n",
    "q=tf.data.Dataset.zip((anc_1_im,neg_12_im,tf.data.Dataset.from_tensor_slices(tf.zeros(len(neg_1_im)))))\n",
    "data1=data1.concatenate(q)\n",
    "q=tf.data.Dataset.zip((anc_1_im,neg_13_im,tf.data.Dataset.from_tensor_slices(tf.zeros(len(neg_1_im)))))\n",
    "data1=data1.concatenate(q)\n",
    "q=tf.data.Dataset.zip((anc_1_im,neg_14_im,tf.data.Dataset.from_tensor_slices(tf.zeros(len(neg_1_im)))))\n",
    "data1=data1.concatenate(q)\n",
    "q=tf.data.Dataset.zip((anc_1_im,neg_15_im,tf.data.Dataset.from_tensor_slices(tf.zeros(len(neg_1_im)))))\n",
    "data1=data1.concatenate(q)\n",
    "q=tf.data.Dataset.zip((anc_1_im,neg_16_im,tf.data.Dataset.from_tensor_slices(tf.zeros(len(neg_1_im)))))\n",
    "data1=data1.concatenate(q)\n",
    "q=tf.data.Dataset.zip((anc_1_im,neg_17_im,tf.data.Dataset.from_tensor_slices(tf.zeros(len(neg_1_im)))))\n",
    "data1=data1.concatenate(q)\n",
    "q=tf.data.Dataset.zip((anc_1_im,neg_18_im,tf.data.Dataset.from_tensor_slices(tf.zeros(len(neg_1_im)))))\n",
    "data1=data1.concatenate(q)\n",
    "q=tf.data.Dataset.zip((anc_1_im,neg_19_im,tf.data.Dataset.from_tensor_slices(tf.zeros(len(neg_1_im)))))\n",
    "data1=data1.concatenate(q)\n",
    "\n",
    "\n",
    "\n",
    "\n",
    "\n",
    "\n",
    "\n",
    "#print(len(negatives))\n",
    "print(len(data1))\n",
    "print(type(data1))"
   ]
  },
  {
   "cell_type": "code",
   "execution_count": 53,
   "id": "87783d0a",
   "metadata": {},
   "outputs": [
    {
     "name": "stdout",
     "output_type": "stream",
     "text": [
      "360\n"
     ]
    }
   ],
   "source": [
    "#anc_2_im,neg_1_im\n",
    "q = tf.data.Dataset.zip((anc_2_im,neg_1_im,tf.data.Dataset.from_tensor_slices(tf.zeros(len(neg_1_im)))))\n",
    "data1=data1.concatenate(q)\n",
    "q=tf.data.Dataset.zip((anc_2_im,neg_3_im,tf.data.Dataset.from_tensor_slices(tf.zeros(len(neg_1_im)))))\n",
    "data1=data1.concatenate(q)\n",
    "q=tf.data.Dataset.zip((anc_2_im,neg_4_im,tf.data.Dataset.from_tensor_slices(tf.zeros(len(neg_1_im)))))\n",
    "data1=data1.concatenate(q)\n",
    "q=tf.data.Dataset.zip((anc_2_im,neg_5_im,tf.data.Dataset.from_tensor_slices(tf.zeros(len(neg_1_im)))))\n",
    "data1=data1.concatenate(q)\n",
    "q=tf.data.Dataset.zip((anc_2_im,neg_6_im,tf.data.Dataset.from_tensor_slices(tf.zeros(len(neg_1_im)))))\n",
    "data1=data1.concatenate(q)\n",
    "q=tf.data.Dataset.zip((anc_2_im,neg_7_im,tf.data.Dataset.from_tensor_slices(tf.zeros(len(neg_1_im)))))\n",
    "data1=data1.concatenate(q)\n",
    "q=tf.data.Dataset.zip((anc_2_im,neg_8_im,tf.data.Dataset.from_tensor_slices(tf.zeros(len(neg_1_im)))))\n",
    "data1=data1.concatenate(q)\n",
    "q=tf.data.Dataset.zip((anc_2_im,neg_9_im,tf.data.Dataset.from_tensor_slices(tf.zeros(len(neg_1_im)))))\n",
    "data1=data1.concatenate(q)\n",
    "q=tf.data.Dataset.zip((anc_2_im,neg_10_im,tf.data.Dataset.from_tensor_slices(tf.zeros(len(neg_1_im)))))\n",
    "data1=data1.concatenate(q)\n",
    "q=tf.data.Dataset.zip((anc_2_im,neg_11_im,tf.data.Dataset.from_tensor_slices(tf.zeros(len(neg_1_im)))))\n",
    "data1=data1.concatenate(q)\n",
    "q=tf.data.Dataset.zip((anc_2_im,neg_12_im,tf.data.Dataset.from_tensor_slices(tf.zeros(len(neg_1_im)))))\n",
    "data1=data1.concatenate(q)\n",
    "q=tf.data.Dataset.zip((anc_2_im,neg_13_im,tf.data.Dataset.from_tensor_slices(tf.zeros(len(neg_1_im)))))\n",
    "data1=data1.concatenate(q)\n",
    "q=tf.data.Dataset.zip((anc_2_im,neg_14_im,tf.data.Dataset.from_tensor_slices(tf.zeros(len(neg_1_im)))))\n",
    "data1=data1.concatenate(q)\n",
    "q=tf.data.Dataset.zip((anc_2_im,neg_15_im,tf.data.Dataset.from_tensor_slices(tf.zeros(len(neg_1_im)))))\n",
    "data1=data1.concatenate(q)\n",
    "q=tf.data.Dataset.zip((anc_2_im,neg_16_im,tf.data.Dataset.from_tensor_slices(tf.zeros(len(neg_1_im)))))\n",
    "data1=data1.concatenate(q)\n",
    "q=tf.data.Dataset.zip((anc_2_im,neg_17_im,tf.data.Dataset.from_tensor_slices(tf.zeros(len(neg_1_im)))))\n",
    "data1=data1.concatenate(q)\n",
    "q=tf.data.Dataset.zip((anc_2_im,neg_18_im,tf.data.Dataset.from_tensor_slices(tf.zeros(len(neg_1_im)))))\n",
    "data1=data1.concatenate(q)\n",
    "q=tf.data.Dataset.zip((anc_2_im,neg_19_im,tf.data.Dataset.from_tensor_slices(tf.zeros(len(neg_1_im)))))\n",
    "data1=data1.concatenate(q)\n",
    "\n",
    "print(len(data1))"
   ]
  },
  {
   "cell_type": "code",
   "execution_count": 54,
   "id": "e86a8325",
   "metadata": {},
   "outputs": [
    {
     "name": "stdout",
     "output_type": "stream",
     "text": [
      "540\n"
     ]
    }
   ],
   "source": [
    "#anc_3_im,neg_1_im\n",
    "q = tf.data.Dataset.zip((anc_3_im,neg_1_im,tf.data.Dataset.from_tensor_slices(tf.zeros(len(neg_1_im)))))\n",
    "data1=data1.concatenate(q)\n",
    "q=tf.data.Dataset.zip((anc_3_im,neg_2_im,tf.data.Dataset.from_tensor_slices(tf.zeros(len(neg_1_im)))))\n",
    "data1=data1.concatenate(q)\n",
    "q=tf.data.Dataset.zip((anc_3_im,neg_4_im,tf.data.Dataset.from_tensor_slices(tf.zeros(len(neg_1_im)))))\n",
    "data1=data1.concatenate(q)\n",
    "q=tf.data.Dataset.zip((anc_3_im,neg_5_im,tf.data.Dataset.from_tensor_slices(tf.zeros(len(neg_1_im)))))\n",
    "data1=data1.concatenate(q)\n",
    "q=tf.data.Dataset.zip((anc_3_im,neg_6_im,tf.data.Dataset.from_tensor_slices(tf.zeros(len(neg_1_im)))))\n",
    "data1=data1.concatenate(q)\n",
    "q=tf.data.Dataset.zip((anc_2_im,neg_7_im,tf.data.Dataset.from_tensor_slices(tf.zeros(len(neg_1_im)))))\n",
    "data1=data1.concatenate(q)\n",
    "q=tf.data.Dataset.zip((anc_3_im,neg_8_im,tf.data.Dataset.from_tensor_slices(tf.zeros(len(neg_1_im)))))\n",
    "data1=data1.concatenate(q)\n",
    "q=tf.data.Dataset.zip((anc_3_im,neg_9_im,tf.data.Dataset.from_tensor_slices(tf.zeros(len(neg_1_im)))))\n",
    "data1=data1.concatenate(q)\n",
    "q=tf.data.Dataset.zip((anc_3_im,neg_10_im,tf.data.Dataset.from_tensor_slices(tf.zeros(len(neg_1_im)))))\n",
    "data1=data1.concatenate(q)\n",
    "q=tf.data.Dataset.zip((anc_3_im,neg_11_im,tf.data.Dataset.from_tensor_slices(tf.zeros(len(neg_1_im)))))\n",
    "data1=data1.concatenate(q)\n",
    "q=tf.data.Dataset.zip((anc_3_im,neg_12_im,tf.data.Dataset.from_tensor_slices(tf.zeros(len(neg_1_im)))))\n",
    "data1=data1.concatenate(q)\n",
    "q=tf.data.Dataset.zip((anc_3_im,neg_13_im,tf.data.Dataset.from_tensor_slices(tf.zeros(len(neg_1_im)))))\n",
    "data1=data1.concatenate(q)\n",
    "q=tf.data.Dataset.zip((anc_3_im,neg_14_im,tf.data.Dataset.from_tensor_slices(tf.zeros(len(neg_1_im)))))\n",
    "data1=data1.concatenate(q)\n",
    "q=tf.data.Dataset.zip((anc_3_im,neg_15_im,tf.data.Dataset.from_tensor_slices(tf.zeros(len(neg_1_im)))))\n",
    "data1=data1.concatenate(q)\n",
    "q=tf.data.Dataset.zip((anc_3_im,neg_16_im,tf.data.Dataset.from_tensor_slices(tf.zeros(len(neg_1_im)))))\n",
    "data1=data1.concatenate(q)\n",
    "q=tf.data.Dataset.zip((anc_3_im,neg_17_im,tf.data.Dataset.from_tensor_slices(tf.zeros(len(neg_1_im)))))\n",
    "data1=data1.concatenate(q)\n",
    "q=tf.data.Dataset.zip((anc_3_im,neg_18_im,tf.data.Dataset.from_tensor_slices(tf.zeros(len(neg_1_im)))))\n",
    "data1=data1.concatenate(q)\n",
    "q=tf.data.Dataset.zip((anc_3_im,neg_19_im,tf.data.Dataset.from_tensor_slices(tf.zeros(len(neg_1_im)))))\n",
    "data1=data1.concatenate(q)\n",
    "\n",
    "print(len(data1))"
   ]
  },
  {
   "cell_type": "code",
   "execution_count": 55,
   "id": "c848cb04",
   "metadata": {},
   "outputs": [
    {
     "name": "stdout",
     "output_type": "stream",
     "text": [
      "720\n"
     ]
    }
   ],
   "source": [
    "#anc_4_im,neg_1_im\n",
    "q=tf.data.Dataset.zip((anc_4_im,neg_1_im,tf.data.Dataset.from_tensor_slices(tf.zeros(len(neg_1_im)))))\n",
    "data1=data1.concatenate(q)\n",
    "q=tf.data.Dataset.zip((anc_4_im,neg_2_im,tf.data.Dataset.from_tensor_slices(tf.zeros(len(neg_1_im)))))\n",
    "data1=data1.concatenate(q)\n",
    "q=tf.data.Dataset.zip((anc_4_im,neg_3_im,tf.data.Dataset.from_tensor_slices(tf.zeros(len(neg_1_im)))))\n",
    "data1=data1.concatenate(q)\n",
    "q=tf.data.Dataset.zip((anc_4_im,neg_5_im,tf.data.Dataset.from_tensor_slices(tf.zeros(len(neg_1_im)))))\n",
    "data1=data1.concatenate(q)\n",
    "q=tf.data.Dataset.zip((anc_4_im,neg_6_im,tf.data.Dataset.from_tensor_slices(tf.zeros(len(neg_1_im)))))\n",
    "data1=data1.concatenate(q)\n",
    "q=tf.data.Dataset.zip((anc_4_im,neg_7_im,tf.data.Dataset.from_tensor_slices(tf.zeros(len(neg_1_im)))))\n",
    "data1=data1.concatenate(q)\n",
    "q=tf.data.Dataset.zip((anc_4_im,neg_8_im,tf.data.Dataset.from_tensor_slices(tf.zeros(len(neg_1_im)))))\n",
    "data1=data1.concatenate(q)\n",
    "q=tf.data.Dataset.zip((anc_4_im,neg_9_im,tf.data.Dataset.from_tensor_slices(tf.zeros(len(neg_1_im)))))\n",
    "data1=data1.concatenate(q)\n",
    "q=tf.data.Dataset.zip((anc_4_im,neg_10_im,tf.data.Dataset.from_tensor_slices(tf.zeros(len(neg_1_im)))))\n",
    "data1=data1.concatenate(q)\n",
    "q=tf.data.Dataset.zip((anc_4_im,neg_11_im,tf.data.Dataset.from_tensor_slices(tf.zeros(len(neg_1_im)))))\n",
    "data1=data1.concatenate(q)\n",
    "q=tf.data.Dataset.zip((anc_4_im,neg_12_im,tf.data.Dataset.from_tensor_slices(tf.zeros(len(neg_1_im)))))\n",
    "data1=data1.concatenate(q)\n",
    "q=tf.data.Dataset.zip((anc_4_im,neg_13_im,tf.data.Dataset.from_tensor_slices(tf.zeros(len(neg_1_im)))))\n",
    "data1=data1.concatenate(q)\n",
    "q=tf.data.Dataset.zip((anc_4_im,neg_14_im,tf.data.Dataset.from_tensor_slices(tf.zeros(len(neg_1_im)))))\n",
    "data1=data1.concatenate(q)\n",
    "q=tf.data.Dataset.zip((anc_4_im,neg_15_im,tf.data.Dataset.from_tensor_slices(tf.zeros(len(neg_1_im)))))\n",
    "data1=data1.concatenate(q)\n",
    "q=tf.data.Dataset.zip((anc_4_im,neg_16_im,tf.data.Dataset.from_tensor_slices(tf.zeros(len(neg_1_im)))))\n",
    "data1=data1.concatenate(q)\n",
    "q=tf.data.Dataset.zip((anc_4_im,neg_17_im,tf.data.Dataset.from_tensor_slices(tf.zeros(len(neg_1_im)))))\n",
    "data1=data1.concatenate(q)\n",
    "q=tf.data.Dataset.zip((anc_4_im,neg_18_im,tf.data.Dataset.from_tensor_slices(tf.zeros(len(neg_1_im)))))\n",
    "data1=data1.concatenate(q)\n",
    "q=tf.data.Dataset.zip((anc_4_im,neg_19_im,tf.data.Dataset.from_tensor_slices(tf.zeros(len(neg_1_im)))))\n",
    "data1=data1.concatenate(q)\n",
    "\n",
    "print(len(data1))"
   ]
  },
  {
   "cell_type": "code",
   "execution_count": 56,
   "id": "bd94afab",
   "metadata": {},
   "outputs": [
    {
     "name": "stdout",
     "output_type": "stream",
     "text": [
      "900\n"
     ]
    }
   ],
   "source": [
    "#anc_5_im,neg_1_im\n",
    "q=tf.data.Dataset.zip((anc_5_im,neg_1_im,tf.data.Dataset.from_tensor_slices(tf.zeros(len(neg_1_im)))))\n",
    "data1=data1.concatenate(q)\n",
    "q=tf.data.Dataset.zip((anc_5_im,neg_2_im,tf.data.Dataset.from_tensor_slices(tf.zeros(len(neg_1_im)))))\n",
    "data1=data1.concatenate(q)\n",
    "q=tf.data.Dataset.zip((anc_5_im,neg_3_im,tf.data.Dataset.from_tensor_slices(tf.zeros(len(neg_1_im)))))\n",
    "data1=data1.concatenate(q)\n",
    "q=tf.data.Dataset.zip((anc_5_im,neg_4_im,tf.data.Dataset.from_tensor_slices(tf.zeros(len(neg_1_im)))))\n",
    "data1=data1.concatenate(q)\n",
    "q=tf.data.Dataset.zip((anc_5_im,neg_6_im,tf.data.Dataset.from_tensor_slices(tf.zeros(len(neg_1_im)))))\n",
    "data1=data1.concatenate(q)\n",
    "q=tf.data.Dataset.zip((anc_5_im,neg_7_im,tf.data.Dataset.from_tensor_slices(tf.zeros(len(neg_1_im)))))\n",
    "data1=data1.concatenate(q)\n",
    "q=tf.data.Dataset.zip((anc_5_im,neg_8_im,tf.data.Dataset.from_tensor_slices(tf.zeros(len(neg_1_im)))))\n",
    "data1=data1.concatenate(q)\n",
    "q=tf.data.Dataset.zip((anc_5_im,neg_9_im,tf.data.Dataset.from_tensor_slices(tf.zeros(len(neg_1_im)))))\n",
    "data1=data1.concatenate(q)\n",
    "q=tf.data.Dataset.zip((anc_5_im,neg_10_im,tf.data.Dataset.from_tensor_slices(tf.zeros(len(neg_1_im)))))\n",
    "data1=data1.concatenate(q)\n",
    "q=tf.data.Dataset.zip((anc_5_im,neg_11_im,tf.data.Dataset.from_tensor_slices(tf.zeros(len(neg_1_im)))))\n",
    "data1=data1.concatenate(q)\n",
    "q=tf.data.Dataset.zip((anc_5_im,neg_12_im,tf.data.Dataset.from_tensor_slices(tf.zeros(len(neg_1_im)))))\n",
    "data1=data1.concatenate(q)\n",
    "q=tf.data.Dataset.zip((anc_5_im,neg_13_im,tf.data.Dataset.from_tensor_slices(tf.zeros(len(neg_1_im)))))\n",
    "data1=data1.concatenate(q)\n",
    "q=tf.data.Dataset.zip((anc_5_im,neg_14_im,tf.data.Dataset.from_tensor_slices(tf.zeros(len(neg_1_im)))))\n",
    "data1=data1.concatenate(q)\n",
    "q=tf.data.Dataset.zip((anc_5_im,neg_15_im,tf.data.Dataset.from_tensor_slices(tf.zeros(len(neg_1_im)))))\n",
    "data1=data1.concatenate(q)\n",
    "q=tf.data.Dataset.zip((anc_5_im,neg_16_im,tf.data.Dataset.from_tensor_slices(tf.zeros(len(neg_1_im)))))\n",
    "data1=data1.concatenate(q)\n",
    "q=tf.data.Dataset.zip((anc_5_im,neg_17_im,tf.data.Dataset.from_tensor_slices(tf.zeros(len(neg_1_im)))))\n",
    "data1=data1.concatenate(q)\n",
    "q=tf.data.Dataset.zip((anc_5_im,neg_18_im,tf.data.Dataset.from_tensor_slices(tf.zeros(len(neg_1_im)))))\n",
    "data1=data1.concatenate(q)\n",
    "q=tf.data.Dataset.zip((anc_5_im,neg_19_im,tf.data.Dataset.from_tensor_slices(tf.zeros(len(neg_1_im)))))\n",
    "data1=data1.concatenate(q)\n",
    "\n",
    "print(len(data1))"
   ]
  },
  {
   "cell_type": "code",
   "execution_count": 57,
   "id": "bc0001e4",
   "metadata": {},
   "outputs": [
    {
     "name": "stdout",
     "output_type": "stream",
     "text": [
      "1080\n"
     ]
    }
   ],
   "source": [
    "#anc_6_im,neg_1_im\n",
    "q=tf.data.Dataset.zip((anc_6_im,neg_1_im,tf.data.Dataset.from_tensor_slices(tf.zeros(len(neg_1_im)))))\n",
    "data1=data1.concatenate(q)\n",
    "q=tf.data.Dataset.zip((anc_6_im,neg_2_im,tf.data.Dataset.from_tensor_slices(tf.zeros(len(neg_1_im)))))\n",
    "data1=data1.concatenate(q)\n",
    "q=tf.data.Dataset.zip((anc_6_im,neg_3_im,tf.data.Dataset.from_tensor_slices(tf.zeros(len(neg_1_im)))))\n",
    "data1=data1.concatenate(q)\n",
    "q=tf.data.Dataset.zip((anc_6_im,neg_4_im,tf.data.Dataset.from_tensor_slices(tf.zeros(len(neg_1_im)))))\n",
    "data1=data1.concatenate(q)\n",
    "q=tf.data.Dataset.zip((anc_6_im,neg_5_im,tf.data.Dataset.from_tensor_slices(tf.zeros(len(neg_1_im)))))\n",
    "data1=data1.concatenate(q)\n",
    "q=tf.data.Dataset.zip((anc_6_im,neg_7_im,tf.data.Dataset.from_tensor_slices(tf.zeros(len(neg_1_im)))))\n",
    "data1=data1.concatenate(q)\n",
    "q=tf.data.Dataset.zip((anc_6_im,neg_8_im,tf.data.Dataset.from_tensor_slices(tf.zeros(len(neg_1_im)))))\n",
    "data1=data1.concatenate(q)\n",
    "q=tf.data.Dataset.zip((anc_6_im,neg_9_im,tf.data.Dataset.from_tensor_slices(tf.zeros(len(neg_1_im)))))\n",
    "data1=data1.concatenate(q)\n",
    "q=tf.data.Dataset.zip((anc_6_im,neg_10_im,tf.data.Dataset.from_tensor_slices(tf.zeros(len(neg_1_im)))))\n",
    "data1=data1.concatenate(q)\n",
    "q=tf.data.Dataset.zip((anc_6_im,neg_11_im,tf.data.Dataset.from_tensor_slices(tf.zeros(len(neg_1_im)))))\n",
    "data1=data1.concatenate(q)\n",
    "q=tf.data.Dataset.zip((anc_6_im,neg_12_im,tf.data.Dataset.from_tensor_slices(tf.zeros(len(neg_1_im)))))\n",
    "data1=data1.concatenate(q)\n",
    "q=tf.data.Dataset.zip((anc_6_im,neg_13_im,tf.data.Dataset.from_tensor_slices(tf.zeros(len(neg_1_im)))))\n",
    "data1=data1.concatenate(q)\n",
    "q=tf.data.Dataset.zip((anc_6_im,neg_14_im,tf.data.Dataset.from_tensor_slices(tf.zeros(len(neg_1_im)))))\n",
    "data1=data1.concatenate(q)\n",
    "q=tf.data.Dataset.zip((anc_6_im,neg_15_im,tf.data.Dataset.from_tensor_slices(tf.zeros(len(neg_1_im)))))\n",
    "data1=data1.concatenate(q)\n",
    "q=tf.data.Dataset.zip((anc_6_im,neg_16_im,tf.data.Dataset.from_tensor_slices(tf.zeros(len(neg_1_im)))))\n",
    "data1=data1.concatenate(q)\n",
    "q=tf.data.Dataset.zip((anc_6_im,neg_17_im,tf.data.Dataset.from_tensor_slices(tf.zeros(len(neg_1_im)))))\n",
    "data1=data1.concatenate(q)\n",
    "q=tf.data.Dataset.zip((anc_6_im,neg_18_im,tf.data.Dataset.from_tensor_slices(tf.zeros(len(neg_1_im)))))\n",
    "data1=data1.concatenate(q)\n",
    "q=tf.data.Dataset.zip((anc_6_im,neg_19_im,tf.data.Dataset.from_tensor_slices(tf.zeros(len(neg_1_im)))))\n",
    "data1=data1.concatenate(q)\n",
    "\n",
    "print(len(data1))"
   ]
  },
  {
   "cell_type": "code",
   "execution_count": 58,
   "id": "8d5c9dc9",
   "metadata": {},
   "outputs": [
    {
     "name": "stdout",
     "output_type": "stream",
     "text": [
      "1260\n"
     ]
    }
   ],
   "source": [
    "#anc_7_im,neg_1_im\n",
    "q=tf.data.Dataset.zip((anc_7_im,neg_1_im,tf.data.Dataset.from_tensor_slices(tf.zeros(len(neg_1_im)))))\n",
    "data1=data1.concatenate(q)\n",
    "q=tf.data.Dataset.zip((anc_7_im,neg_2_im,tf.data.Dataset.from_tensor_slices(tf.zeros(len(neg_1_im)))))\n",
    "data1=data1.concatenate(q)\n",
    "q=tf.data.Dataset.zip((anc_7_im,neg_3_im,tf.data.Dataset.from_tensor_slices(tf.zeros(len(neg_1_im)))))\n",
    "data1=data1.concatenate(q)\n",
    "q=tf.data.Dataset.zip((anc_7_im,neg_4_im,tf.data.Dataset.from_tensor_slices(tf.zeros(len(neg_1_im)))))\n",
    "data1=data1.concatenate(q)\n",
    "q=tf.data.Dataset.zip((anc_7_im,neg_5_im,tf.data.Dataset.from_tensor_slices(tf.zeros(len(neg_1_im)))))\n",
    "data1=data1.concatenate(q)\n",
    "q=tf.data.Dataset.zip((anc_7_im,neg_6_im,tf.data.Dataset.from_tensor_slices(tf.zeros(len(neg_1_im)))))\n",
    "data1=data1.concatenate(q)\n",
    "q=tf.data.Dataset.zip((anc_7_im,neg_8_im,tf.data.Dataset.from_tensor_slices(tf.zeros(len(neg_1_im)))))\n",
    "data1=data1.concatenate(q)\n",
    "q=tf.data.Dataset.zip((anc_7_im,neg_9_im,tf.data.Dataset.from_tensor_slices(tf.zeros(len(neg_1_im)))))\n",
    "data1=data1.concatenate(q)\n",
    "q=tf.data.Dataset.zip((anc_7_im,neg_10_im,tf.data.Dataset.from_tensor_slices(tf.zeros(len(neg_1_im)))))\n",
    "data1=data1.concatenate(q)\n",
    "q=tf.data.Dataset.zip((anc_7_im,neg_11_im,tf.data.Dataset.from_tensor_slices(tf.zeros(len(neg_1_im)))))\n",
    "data1=data1.concatenate(q)\n",
    "q=tf.data.Dataset.zip((anc_7_im,neg_12_im,tf.data.Dataset.from_tensor_slices(tf.zeros(len(neg_1_im)))))\n",
    "data1=data1.concatenate(q)\n",
    "q=tf.data.Dataset.zip((anc_7_im,neg_13_im,tf.data.Dataset.from_tensor_slices(tf.zeros(len(neg_1_im)))))\n",
    "data1=data1.concatenate(q)\n",
    "q=tf.data.Dataset.zip((anc_7_im,neg_14_im,tf.data.Dataset.from_tensor_slices(tf.zeros(len(neg_1_im)))))\n",
    "data1=data1.concatenate(q)\n",
    "q=tf.data.Dataset.zip((anc_7_im,neg_15_im,tf.data.Dataset.from_tensor_slices(tf.zeros(len(neg_1_im)))))\n",
    "data1=data1.concatenate(q)\n",
    "q=tf.data.Dataset.zip((anc_7_im,neg_16_im,tf.data.Dataset.from_tensor_slices(tf.zeros(len(neg_1_im)))))\n",
    "data1=data1.concatenate(q)\n",
    "q=tf.data.Dataset.zip((anc_7_im,neg_17_im,tf.data.Dataset.from_tensor_slices(tf.zeros(len(neg_1_im)))))\n",
    "data1=data1.concatenate(q)\n",
    "q=tf.data.Dataset.zip((anc_7_im,neg_18_im,tf.data.Dataset.from_tensor_slices(tf.zeros(len(neg_1_im)))))\n",
    "data1=data1.concatenate(q)\n",
    "q=tf.data.Dataset.zip((anc_7_im,neg_19_im,tf.data.Dataset.from_tensor_slices(tf.zeros(len(neg_1_im)))))\n",
    "data1=data1.concatenate(q)\n",
    "\n",
    "print(len(data1))"
   ]
  },
  {
   "cell_type": "code",
   "execution_count": 59,
   "id": "2eea3ed0",
   "metadata": {},
   "outputs": [
    {
     "name": "stdout",
     "output_type": "stream",
     "text": [
      "1440\n"
     ]
    }
   ],
   "source": [
    "#anc_8_im,neg_1_im\n",
    "q=tf.data.Dataset.zip((anc_8_im,neg_1_im,tf.data.Dataset.from_tensor_slices(tf.zeros(len(neg_1_im)))))\n",
    "data1=data1.concatenate(q)\n",
    "q=tf.data.Dataset.zip((anc_8_im,neg_2_im,tf.data.Dataset.from_tensor_slices(tf.zeros(len(neg_1_im)))))\n",
    "data1=data1.concatenate(q)\n",
    "q=tf.data.Dataset.zip((anc_8_im,neg_3_im,tf.data.Dataset.from_tensor_slices(tf.zeros(len(neg_1_im)))))\n",
    "data1=data1.concatenate(q)\n",
    "q=tf.data.Dataset.zip((anc_8_im,neg_4_im,tf.data.Dataset.from_tensor_slices(tf.zeros(len(neg_1_im)))))\n",
    "data1=data1.concatenate(q)\n",
    "q=tf.data.Dataset.zip((anc_8_im,neg_5_im,tf.data.Dataset.from_tensor_slices(tf.zeros(len(neg_1_im)))))\n",
    "data1=data1.concatenate(q)\n",
    "q=tf.data.Dataset.zip((anc_8_im,neg_6_im,tf.data.Dataset.from_tensor_slices(tf.zeros(len(neg_1_im)))))\n",
    "data1=data1.concatenate(q)\n",
    "q=tf.data.Dataset.zip((anc_8_im,neg_7_im,tf.data.Dataset.from_tensor_slices(tf.zeros(len(neg_1_im)))))\n",
    "data1=data1.concatenate(q)\n",
    "q=tf.data.Dataset.zip((anc_8_im,neg_9_im,tf.data.Dataset.from_tensor_slices(tf.zeros(len(neg_1_im)))))\n",
    "data1=data1.concatenate(q)\n",
    "q=tf.data.Dataset.zip((anc_8_im,neg_10_im,tf.data.Dataset.from_tensor_slices(tf.zeros(len(neg_1_im)))))\n",
    "data1=data1.concatenate(q)\n",
    "q=tf.data.Dataset.zip((anc_8_im,neg_11_im,tf.data.Dataset.from_tensor_slices(tf.zeros(len(neg_1_im)))))\n",
    "data1=data1.concatenate(q)\n",
    "q=tf.data.Dataset.zip((anc_8_im,neg_12_im,tf.data.Dataset.from_tensor_slices(tf.zeros(len(neg_1_im)))))\n",
    "data1=data1.concatenate(q)\n",
    "q=tf.data.Dataset.zip((anc_8_im,neg_13_im,tf.data.Dataset.from_tensor_slices(tf.zeros(len(neg_1_im)))))\n",
    "data1=data1.concatenate(q)\n",
    "q=tf.data.Dataset.zip((anc_8_im,neg_14_im,tf.data.Dataset.from_tensor_slices(tf.zeros(len(neg_1_im)))))\n",
    "data1=data1.concatenate(q)\n",
    "q=tf.data.Dataset.zip((anc_8_im,neg_15_im,tf.data.Dataset.from_tensor_slices(tf.zeros(len(neg_1_im)))))\n",
    "data1=data1.concatenate(q)\n",
    "q=tf.data.Dataset.zip((anc_8_im,neg_16_im,tf.data.Dataset.from_tensor_slices(tf.zeros(len(neg_1_im)))))\n",
    "data1=data1.concatenate(q)\n",
    "q=tf.data.Dataset.zip((anc_8_im,neg_17_im,tf.data.Dataset.from_tensor_slices(tf.zeros(len(neg_1_im)))))\n",
    "data1=data1.concatenate(q)\n",
    "q=tf.data.Dataset.zip((anc_8_im,neg_18_im,tf.data.Dataset.from_tensor_slices(tf.zeros(len(neg_1_im)))))\n",
    "data1=data1.concatenate(q)\n",
    "q=tf.data.Dataset.zip((anc_8_im,neg_19_im,tf.data.Dataset.from_tensor_slices(tf.zeros(len(neg_1_im)))))\n",
    "data1=data1.concatenate(q)\n",
    "\n",
    "print(len(data1))"
   ]
  },
  {
   "cell_type": "code",
   "execution_count": 60,
   "id": "474afb01",
   "metadata": {},
   "outputs": [
    {
     "name": "stdout",
     "output_type": "stream",
     "text": [
      "1620\n"
     ]
    }
   ],
   "source": [
    "#anc_9_im,neg_1_im\n",
    "q=tf.data.Dataset.zip((anc_9_im,neg_1_im,tf.data.Dataset.from_tensor_slices(tf.zeros(len(neg_1_im)))))\n",
    "data1=data1.concatenate(q)\n",
    "q=tf.data.Dataset.zip((anc_9_im,neg_2_im,tf.data.Dataset.from_tensor_slices(tf.zeros(len(neg_1_im)))))\n",
    "data1=data1.concatenate(q)\n",
    "q=tf.data.Dataset.zip((anc_9_im,neg_3_im,tf.data.Dataset.from_tensor_slices(tf.zeros(len(neg_1_im)))))\n",
    "data1=data1.concatenate(q)\n",
    "q=tf.data.Dataset.zip((anc_9_im,neg_4_im,tf.data.Dataset.from_tensor_slices(tf.zeros(len(neg_1_im)))))\n",
    "data1=data1.concatenate(q)\n",
    "q=tf.data.Dataset.zip((anc_9_im,neg_5_im,tf.data.Dataset.from_tensor_slices(tf.zeros(len(neg_1_im)))))\n",
    "data1=data1.concatenate(q)\n",
    "q=tf.data.Dataset.zip((anc_9_im,neg_6_im,tf.data.Dataset.from_tensor_slices(tf.zeros(len(neg_1_im)))))\n",
    "data1=data1.concatenate(q)\n",
    "q=tf.data.Dataset.zip((anc_9_im,neg_7_im,tf.data.Dataset.from_tensor_slices(tf.zeros(len(neg_1_im)))))\n",
    "data1=data1.concatenate(q)\n",
    "q=tf.data.Dataset.zip((anc_9_im,neg_8_im,tf.data.Dataset.from_tensor_slices(tf.zeros(len(neg_1_im)))))\n",
    "data1=data1.concatenate(q)\n",
    "q=tf.data.Dataset.zip((anc_9_im,neg_10_im,tf.data.Dataset.from_tensor_slices(tf.zeros(len(neg_1_im)))))\n",
    "data1=data1.concatenate(q)\n",
    "q=tf.data.Dataset.zip((anc_9_im,neg_11_im,tf.data.Dataset.from_tensor_slices(tf.zeros(len(neg_1_im)))))\n",
    "data1=data1.concatenate(q)\n",
    "q=tf.data.Dataset.zip((anc_9_im,neg_12_im,tf.data.Dataset.from_tensor_slices(tf.zeros(len(neg_1_im)))))\n",
    "data1=data1.concatenate(q)\n",
    "q=tf.data.Dataset.zip((anc_9_im,neg_13_im,tf.data.Dataset.from_tensor_slices(tf.zeros(len(neg_1_im)))))\n",
    "data1=data1.concatenate(q)\n",
    "q=tf.data.Dataset.zip((anc_9_im,neg_14_im,tf.data.Dataset.from_tensor_slices(tf.zeros(len(neg_1_im)))))\n",
    "data1=data1.concatenate(q)\n",
    "q=tf.data.Dataset.zip((anc_9_im,neg_15_im,tf.data.Dataset.from_tensor_slices(tf.zeros(len(neg_1_im)))))\n",
    "data1=data1.concatenate(q)\n",
    "q=tf.data.Dataset.zip((anc_9_im,neg_16_im,tf.data.Dataset.from_tensor_slices(tf.zeros(len(neg_1_im)))))\n",
    "data1=data1.concatenate(q)\n",
    "q=tf.data.Dataset.zip((anc_9_im,neg_17_im,tf.data.Dataset.from_tensor_slices(tf.zeros(len(neg_1_im)))))\n",
    "data1=data1.concatenate(q)\n",
    "q=tf.data.Dataset.zip((anc_9_im,neg_18_im,tf.data.Dataset.from_tensor_slices(tf.zeros(len(neg_1_im)))))\n",
    "data1=data1.concatenate(q)\n",
    "q=tf.data.Dataset.zip((anc_9_im,neg_19_im,tf.data.Dataset.from_tensor_slices(tf.zeros(len(neg_1_im)))))\n",
    "data1=data1.concatenate(q)\n",
    "\n",
    "print(len(data1))"
   ]
  },
  {
   "cell_type": "code",
   "execution_count": 61,
   "id": "27b502b3",
   "metadata": {},
   "outputs": [
    {
     "name": "stdout",
     "output_type": "stream",
     "text": [
      "1800\n"
     ]
    }
   ],
   "source": [
    "#anc_11_im,neg_1_im\n",
    "q=tf.data.Dataset.zip((anc_10_im,neg_1_im,tf.data.Dataset.from_tensor_slices(tf.zeros(len(neg_1_im)))))\n",
    "data1=data1.concatenate(q)\n",
    "q=tf.data.Dataset.zip((anc_10_im,neg_2_im,tf.data.Dataset.from_tensor_slices(tf.zeros(len(neg_1_im)))))\n",
    "data1=data1.concatenate(q)\n",
    "q=tf.data.Dataset.zip((anc_10_im,neg_3_im,tf.data.Dataset.from_tensor_slices(tf.zeros(len(neg_1_im)))))\n",
    "data1=data1.concatenate(q)\n",
    "q=tf.data.Dataset.zip((anc_10_im,neg_4_im,tf.data.Dataset.from_tensor_slices(tf.zeros(len(neg_1_im)))))\n",
    "data1=data1.concatenate(q)\n",
    "q=tf.data.Dataset.zip((anc_10_im,neg_5_im,tf.data.Dataset.from_tensor_slices(tf.zeros(len(neg_1_im)))))\n",
    "data1=data1.concatenate(q)\n",
    "q=tf.data.Dataset.zip((anc_10_im,neg_6_im,tf.data.Dataset.from_tensor_slices(tf.zeros(len(neg_1_im)))))\n",
    "data1=data1.concatenate(q)\n",
    "q=tf.data.Dataset.zip((anc_10_im,neg_7_im,tf.data.Dataset.from_tensor_slices(tf.zeros(len(neg_1_im)))))\n",
    "data1=data1.concatenate(q)\n",
    "q=tf.data.Dataset.zip((anc_10_im,neg_8_im,tf.data.Dataset.from_tensor_slices(tf.zeros(len(neg_1_im)))))\n",
    "data1=data1.concatenate(q)\n",
    "q=tf.data.Dataset.zip((anc_10_im,neg_9_im,tf.data.Dataset.from_tensor_slices(tf.zeros(len(neg_1_im)))))\n",
    "data1=data1.concatenate(q)\n",
    "q=tf.data.Dataset.zip((anc_10_im,neg_11_im,tf.data.Dataset.from_tensor_slices(tf.zeros(len(neg_1_im)))))\n",
    "data1=data1.concatenate(q)\n",
    "q=tf.data.Dataset.zip((anc_10_im,neg_12_im,tf.data.Dataset.from_tensor_slices(tf.zeros(len(neg_1_im)))))\n",
    "data1=data1.concatenate(q)\n",
    "q=tf.data.Dataset.zip((anc_10_im,neg_13_im,tf.data.Dataset.from_tensor_slices(tf.zeros(len(neg_1_im)))))\n",
    "data1=data1.concatenate(q)\n",
    "q=tf.data.Dataset.zip((anc_10_im,neg_14_im,tf.data.Dataset.from_tensor_slices(tf.zeros(len(neg_1_im)))))\n",
    "data1=data1.concatenate(q)\n",
    "q=tf.data.Dataset.zip((anc_10_im,neg_15_im,tf.data.Dataset.from_tensor_slices(tf.zeros(len(neg_1_im)))))\n",
    "data1=data1.concatenate(q)\n",
    "q=tf.data.Dataset.zip((anc_10_im,neg_16_im,tf.data.Dataset.from_tensor_slices(tf.zeros(len(neg_1_im)))))\n",
    "data1=data1.concatenate(q)\n",
    "q=tf.data.Dataset.zip((anc_10_im,neg_17_im,tf.data.Dataset.from_tensor_slices(tf.zeros(len(neg_1_im)))))\n",
    "data1=data1.concatenate(q)\n",
    "q=tf.data.Dataset.zip((anc_10_im,neg_18_im,tf.data.Dataset.from_tensor_slices(tf.zeros(len(neg_1_im)))))\n",
    "data1=data1.concatenate(q)\n",
    "q=tf.data.Dataset.zip((anc_10_im,neg_19_im,tf.data.Dataset.from_tensor_slices(tf.zeros(len(neg_1_im)))))\n",
    "data1=data1.concatenate(q)\n",
    "\n",
    "print(len(data1))"
   ]
  },
  {
   "cell_type": "code",
   "execution_count": 62,
   "id": "ee75e15d",
   "metadata": {},
   "outputs": [
    {
     "name": "stdout",
     "output_type": "stream",
     "text": [
      "1980\n"
     ]
    }
   ],
   "source": [
    "#anc_12_im,neg_1_im\n",
    "q=tf.data.Dataset.zip((anc_12_im,neg_1_im,tf.data.Dataset.from_tensor_slices(tf.zeros(len(neg_1_im)))))\n",
    "data1=data1.concatenate(q)\n",
    "q=tf.data.Dataset.zip((anc_12_im,neg_2_im,tf.data.Dataset.from_tensor_slices(tf.zeros(len(neg_1_im)))))\n",
    "data1=data1.concatenate(q)\n",
    "q=tf.data.Dataset.zip((anc_12_im,neg_3_im,tf.data.Dataset.from_tensor_slices(tf.zeros(len(neg_1_im)))))\n",
    "data1=data1.concatenate(q)\n",
    "q=tf.data.Dataset.zip((anc_12_im,neg_4_im,tf.data.Dataset.from_tensor_slices(tf.zeros(len(neg_1_im)))))\n",
    "data1=data1.concatenate(q)\n",
    "q=tf.data.Dataset.zip((anc_12_im,neg_5_im,tf.data.Dataset.from_tensor_slices(tf.zeros(len(neg_1_im)))))\n",
    "data1=data1.concatenate(q)\n",
    "q=tf.data.Dataset.zip((anc_12_im,neg_6_im,tf.data.Dataset.from_tensor_slices(tf.zeros(len(neg_1_im)))))\n",
    "data1=data1.concatenate(q)\n",
    "q=tf.data.Dataset.zip((anc_12_im,neg_7_im,tf.data.Dataset.from_tensor_slices(tf.zeros(len(neg_1_im)))))\n",
    "data1=data1.concatenate(q)\n",
    "q=tf.data.Dataset.zip((anc_12_im,neg_8_im,tf.data.Dataset.from_tensor_slices(tf.zeros(len(neg_1_im)))))\n",
    "data1=data1.concatenate(q)\n",
    "q=tf.data.Dataset.zip((anc_12_im,neg_9_im,tf.data.Dataset.from_tensor_slices(tf.zeros(len(neg_1_im)))))\n",
    "data1=data1.concatenate(q)\n",
    "q=tf.data.Dataset.zip((anc_12_im,neg_10_im,tf.data.Dataset.from_tensor_slices(tf.zeros(len(neg_1_im)))))\n",
    "data1=data1.concatenate(q)\n",
    "q=tf.data.Dataset.zip((anc_12_im,neg_11_im,tf.data.Dataset.from_tensor_slices(tf.zeros(len(neg_1_im)))))\n",
    "data1=data1.concatenate(q)\n",
    "q=tf.data.Dataset.zip((anc_12_im,neg_13_im,tf.data.Dataset.from_tensor_slices(tf.zeros(len(neg_1_im)))))\n",
    "data1=data1.concatenate(q)\n",
    "q=tf.data.Dataset.zip((anc_12_im,neg_14_im,tf.data.Dataset.from_tensor_slices(tf.zeros(len(neg_1_im)))))\n",
    "data1=data1.concatenate(q)\n",
    "q=tf.data.Dataset.zip((anc_12_im,neg_15_im,tf.data.Dataset.from_tensor_slices(tf.zeros(len(neg_1_im)))))\n",
    "data1=data1.concatenate(q)\n",
    "q=tf.data.Dataset.zip((anc_12_im,neg_16_im,tf.data.Dataset.from_tensor_slices(tf.zeros(len(neg_1_im)))))\n",
    "data1=data1.concatenate(q)\n",
    "q=tf.data.Dataset.zip((anc_12_im,neg_17_im,tf.data.Dataset.from_tensor_slices(tf.zeros(len(neg_1_im)))))\n",
    "data1=data1.concatenate(q)\n",
    "q=tf.data.Dataset.zip((anc_12_im,neg_18_im,tf.data.Dataset.from_tensor_slices(tf.zeros(len(neg_1_im)))))\n",
    "data1=data1.concatenate(q)\n",
    "q=tf.data.Dataset.zip((anc_12_im,neg_19_im,tf.data.Dataset.from_tensor_slices(tf.zeros(len(neg_1_im)))))\n",
    "data1=data1.concatenate(q)\n",
    "\n",
    "\n",
    "print(len(data1))"
   ]
  },
  {
   "cell_type": "code",
   "execution_count": 63,
   "id": "61f84908",
   "metadata": {},
   "outputs": [
    {
     "name": "stdout",
     "output_type": "stream",
     "text": [
      "2160\n"
     ]
    }
   ],
   "source": [
    "#anc_13_im,neg_1_im\n",
    "q=tf.data.Dataset.zip((anc_13_im,neg_1_im,tf.data.Dataset.from_tensor_slices(tf.zeros(len(neg_1_im)))))\n",
    "data1=data1.concatenate(q)\n",
    "q=tf.data.Dataset.zip((anc_13_im,neg_2_im,tf.data.Dataset.from_tensor_slices(tf.zeros(len(neg_1_im)))))\n",
    "data1=data1.concatenate(q)\n",
    "q=tf.data.Dataset.zip((anc_13_im,neg_3_im,tf.data.Dataset.from_tensor_slices(tf.zeros(len(neg_1_im)))))\n",
    "data1=data1.concatenate(q)\n",
    "q=tf.data.Dataset.zip((anc_13_im,neg_4_im,tf.data.Dataset.from_tensor_slices(tf.zeros(len(neg_1_im)))))\n",
    "data1=data1.concatenate(q)\n",
    "q=tf.data.Dataset.zip((anc_13_im,neg_5_im,tf.data.Dataset.from_tensor_slices(tf.zeros(len(neg_1_im)))))\n",
    "data1=data1.concatenate(q)\n",
    "q=tf.data.Dataset.zip((anc_13_im,neg_6_im,tf.data.Dataset.from_tensor_slices(tf.zeros(len(neg_1_im)))))\n",
    "data1=data1.concatenate(q)\n",
    "q=tf.data.Dataset.zip((anc_13_im,neg_7_im,tf.data.Dataset.from_tensor_slices(tf.zeros(len(neg_1_im)))))\n",
    "data1=data1.concatenate(q)\n",
    "q=tf.data.Dataset.zip((anc_13_im,neg_8_im,tf.data.Dataset.from_tensor_slices(tf.zeros(len(neg_1_im)))))\n",
    "data1=data1.concatenate(q)\n",
    "q=tf.data.Dataset.zip((anc_13_im,neg_9_im,tf.data.Dataset.from_tensor_slices(tf.zeros(len(neg_1_im)))))\n",
    "data1=data1.concatenate(q)\n",
    "q=tf.data.Dataset.zip((anc_13_im,neg_10_im,tf.data.Dataset.from_tensor_slices(tf.zeros(len(neg_1_im)))))\n",
    "data1=data1.concatenate(q)\n",
    "q=tf.data.Dataset.zip((anc_13_im,neg_11_im,tf.data.Dataset.from_tensor_slices(tf.zeros(len(neg_1_im)))))\n",
    "data1=data1.concatenate(q)\n",
    "q=tf.data.Dataset.zip((anc_13_im,neg_12_im,tf.data.Dataset.from_tensor_slices(tf.zeros(len(neg_1_im)))))\n",
    "data1=data1.concatenate(q)\n",
    "q=tf.data.Dataset.zip((anc_13_im,neg_14_im,tf.data.Dataset.from_tensor_slices(tf.zeros(len(neg_1_im)))))\n",
    "data1=data1.concatenate(q)\n",
    "q=tf.data.Dataset.zip((anc_13_im,neg_15_im,tf.data.Dataset.from_tensor_slices(tf.zeros(len(neg_1_im)))))\n",
    "data1=data1.concatenate(q)\n",
    "q=tf.data.Dataset.zip((anc_13_im,neg_16_im,tf.data.Dataset.from_tensor_slices(tf.zeros(len(neg_1_im)))))\n",
    "data1=data1.concatenate(q)\n",
    "q=tf.data.Dataset.zip((anc_13_im,neg_17_im,tf.data.Dataset.from_tensor_slices(tf.zeros(len(neg_1_im)))))\n",
    "data1=data1.concatenate(q)\n",
    "q=tf.data.Dataset.zip((anc_13_im,neg_18_im,tf.data.Dataset.from_tensor_slices(tf.zeros(len(neg_1_im)))))\n",
    "data1=data1.concatenate(q)\n",
    "q=tf.data.Dataset.zip((anc_13_im,neg_19_im,tf.data.Dataset.from_tensor_slices(tf.zeros(len(neg_1_im)))))\n",
    "data1=data1.concatenate(q)\n",
    "\n",
    "\n",
    "print(len(data1))"
   ]
  },
  {
   "cell_type": "code",
   "execution_count": 64,
   "id": "8914889a",
   "metadata": {},
   "outputs": [
    {
     "name": "stdout",
     "output_type": "stream",
     "text": [
      "2340\n"
     ]
    }
   ],
   "source": [
    "#anc_14_im,neg_1_im\n",
    "q=tf.data.Dataset.zip((anc_14_im,neg_1_im,tf.data.Dataset.from_tensor_slices(tf.zeros(len(neg_1_im)))))\n",
    "data1=data1.concatenate(q)\n",
    "q=tf.data.Dataset.zip((anc_14_im,neg_2_im,tf.data.Dataset.from_tensor_slices(tf.zeros(len(neg_1_im)))))\n",
    "data1=data1.concatenate(q)\n",
    "q=tf.data.Dataset.zip((anc_14_im,neg_3_im,tf.data.Dataset.from_tensor_slices(tf.zeros(len(neg_1_im)))))\n",
    "data1=data1.concatenate(q)\n",
    "q=tf.data.Dataset.zip((anc_14_im,neg_4_im,tf.data.Dataset.from_tensor_slices(tf.zeros(len(neg_1_im)))))\n",
    "data1=data1.concatenate(q)\n",
    "q=tf.data.Dataset.zip((anc_14_im,neg_5_im,tf.data.Dataset.from_tensor_slices(tf.zeros(len(neg_1_im)))))\n",
    "data1=data1.concatenate(q)\n",
    "q=tf.data.Dataset.zip((anc_14_im,neg_6_im,tf.data.Dataset.from_tensor_slices(tf.zeros(len(neg_1_im)))))\n",
    "data1=data1.concatenate(q)\n",
    "q=tf.data.Dataset.zip((anc_14_im,neg_7_im,tf.data.Dataset.from_tensor_slices(tf.zeros(len(neg_1_im)))))\n",
    "data1=data1.concatenate(q)\n",
    "q=tf.data.Dataset.zip((anc_14_im,neg_8_im,tf.data.Dataset.from_tensor_slices(tf.zeros(len(neg_1_im)))))\n",
    "data1=data1.concatenate(q)\n",
    "q=tf.data.Dataset.zip((anc_14_im,neg_9_im,tf.data.Dataset.from_tensor_slices(tf.zeros(len(neg_1_im)))))\n",
    "data1=data1.concatenate(q)\n",
    "q=tf.data.Dataset.zip((anc_14_im,neg_10_im,tf.data.Dataset.from_tensor_slices(tf.zeros(len(neg_1_im)))))\n",
    "data1=data1.concatenate(q)\n",
    "q=tf.data.Dataset.zip((anc_14_im,neg_11_im,tf.data.Dataset.from_tensor_slices(tf.zeros(len(neg_1_im)))))\n",
    "data1=data1.concatenate(q)\n",
    "q=tf.data.Dataset.zip((anc_14_im,neg_12_im,tf.data.Dataset.from_tensor_slices(tf.zeros(len(neg_1_im)))))\n",
    "data1=data1.concatenate(q)\n",
    "q=tf.data.Dataset.zip((anc_14_im,neg_13_im,tf.data.Dataset.from_tensor_slices(tf.zeros(len(neg_1_im)))))\n",
    "data1=data1.concatenate(q)\n",
    "q=tf.data.Dataset.zip((anc_14_im,neg_15_im,tf.data.Dataset.from_tensor_slices(tf.zeros(len(neg_1_im)))))\n",
    "data1=data1.concatenate(q)\n",
    "q=tf.data.Dataset.zip((anc_14_im,neg_16_im,tf.data.Dataset.from_tensor_slices(tf.zeros(len(neg_1_im)))))\n",
    "data1=data1.concatenate(q)\n",
    "q=tf.data.Dataset.zip((anc_14_im,neg_17_im,tf.data.Dataset.from_tensor_slices(tf.zeros(len(neg_1_im)))))\n",
    "data1=data1.concatenate(q)\n",
    "q=tf.data.Dataset.zip((anc_14_im,neg_18_im,tf.data.Dataset.from_tensor_slices(tf.zeros(len(neg_1_im)))))\n",
    "data1=data1.concatenate(q)\n",
    "q=tf.data.Dataset.zip((anc_14_im,neg_19_im,tf.data.Dataset.from_tensor_slices(tf.zeros(len(neg_1_im)))))\n",
    "data1=data1.concatenate(q)\n",
    "\n",
    "\n",
    "print(len(data1))"
   ]
  },
  {
   "cell_type": "code",
   "execution_count": 65,
   "id": "8b992fee",
   "metadata": {},
   "outputs": [
    {
     "name": "stdout",
     "output_type": "stream",
     "text": [
      "2520\n"
     ]
    }
   ],
   "source": [
    "#anc_15_im,neg_1_im\n",
    "q=tf.data.Dataset.zip((anc_15_im,neg_1_im,tf.data.Dataset.from_tensor_slices(tf.zeros(len(neg_1_im)))))\n",
    "data1=data1.concatenate(q)\n",
    "q=tf.data.Dataset.zip((anc_15_im,neg_2_im,tf.data.Dataset.from_tensor_slices(tf.zeros(len(neg_1_im)))))\n",
    "data1=data1.concatenate(q)\n",
    "q=tf.data.Dataset.zip((anc_15_im,neg_3_im,tf.data.Dataset.from_tensor_slices(tf.zeros(len(neg_1_im)))))\n",
    "data1=data1.concatenate(q)\n",
    "q=tf.data.Dataset.zip((anc_15_im,neg_4_im,tf.data.Dataset.from_tensor_slices(tf.zeros(len(neg_1_im)))))\n",
    "data1=data1.concatenate(q)\n",
    "q=tf.data.Dataset.zip((anc_15_im,neg_5_im,tf.data.Dataset.from_tensor_slices(tf.zeros(len(neg_1_im)))))\n",
    "data1=data1.concatenate(q)\n",
    "q=tf.data.Dataset.zip((anc_15_im,neg_6_im,tf.data.Dataset.from_tensor_slices(tf.zeros(len(neg_1_im)))))\n",
    "data1=data1.concatenate(q)\n",
    "q=tf.data.Dataset.zip((anc_15_im,neg_7_im,tf.data.Dataset.from_tensor_slices(tf.zeros(len(neg_1_im)))))\n",
    "data1=data1.concatenate(q)\n",
    "q=tf.data.Dataset.zip((anc_15_im,neg_8_im,tf.data.Dataset.from_tensor_slices(tf.zeros(len(neg_1_im)))))\n",
    "data1=data1.concatenate(q)\n",
    "q=tf.data.Dataset.zip((anc_15_im,neg_9_im,tf.data.Dataset.from_tensor_slices(tf.zeros(len(neg_1_im)))))\n",
    "data1=data1.concatenate(q)\n",
    "q=tf.data.Dataset.zip((anc_15_im,neg_10_im,tf.data.Dataset.from_tensor_slices(tf.zeros(len(neg_1_im)))))\n",
    "data1=data1.concatenate(q)\n",
    "q=tf.data.Dataset.zip((anc_15_im,neg_11_im,tf.data.Dataset.from_tensor_slices(tf.zeros(len(neg_1_im)))))\n",
    "data1=data1.concatenate(q)\n",
    "q=tf.data.Dataset.zip((anc_15_im,neg_12_im,tf.data.Dataset.from_tensor_slices(tf.zeros(len(neg_1_im)))))\n",
    "data1=data1.concatenate(q)\n",
    "q=tf.data.Dataset.zip((anc_15_im,neg_13_im,tf.data.Dataset.from_tensor_slices(tf.zeros(len(neg_1_im)))))\n",
    "data1=data1.concatenate(q)\n",
    "q=tf.data.Dataset.zip((anc_15_im,neg_14_im,tf.data.Dataset.from_tensor_slices(tf.zeros(len(neg_1_im)))))\n",
    "data1=data1.concatenate(q)\n",
    "q=tf.data.Dataset.zip((anc_15_im,neg_16_im,tf.data.Dataset.from_tensor_slices(tf.zeros(len(neg_1_im)))))\n",
    "data1=data1.concatenate(q)\n",
    "q=tf.data.Dataset.zip((anc_15_im,neg_17_im,tf.data.Dataset.from_tensor_slices(tf.zeros(len(neg_1_im)))))\n",
    "data1=data1.concatenate(q)\n",
    "q=tf.data.Dataset.zip((anc_15_im,neg_18_im,tf.data.Dataset.from_tensor_slices(tf.zeros(len(neg_1_im)))))\n",
    "data1=data1.concatenate(q)\n",
    "q=tf.data.Dataset.zip((anc_15_im,neg_19_im,tf.data.Dataset.from_tensor_slices(tf.zeros(len(neg_1_im)))))\n",
    "data1=data1.concatenate(q)\n",
    "\n",
    "\n",
    "print(len(data1))"
   ]
  },
  {
   "cell_type": "code",
   "execution_count": 66,
   "id": "98710c05",
   "metadata": {},
   "outputs": [
    {
     "name": "stdout",
     "output_type": "stream",
     "text": [
      "2700\n"
     ]
    }
   ],
   "source": [
    "#anc_16_im,neg_1_im\n",
    "q=tf.data.Dataset.zip((anc_16_im,neg_1_im,tf.data.Dataset.from_tensor_slices(tf.zeros(len(neg_1_im)))))\n",
    "data1=data1.concatenate(q)\n",
    "q=tf.data.Dataset.zip((anc_16_im,neg_2_im,tf.data.Dataset.from_tensor_slices(tf.zeros(len(neg_1_im)))))\n",
    "data1=data1.concatenate(q)\n",
    "q=tf.data.Dataset.zip((anc_16_im,neg_3_im,tf.data.Dataset.from_tensor_slices(tf.zeros(len(neg_1_im)))))\n",
    "data1=data1.concatenate(q)\n",
    "q=tf.data.Dataset.zip((anc_16_im,neg_4_im,tf.data.Dataset.from_tensor_slices(tf.zeros(len(neg_1_im)))))\n",
    "data1=data1.concatenate(q)\n",
    "q=tf.data.Dataset.zip((anc_16_im,neg_5_im,tf.data.Dataset.from_tensor_slices(tf.zeros(len(neg_1_im)))))\n",
    "data1=data1.concatenate(q)\n",
    "q=tf.data.Dataset.zip((anc_16_im,neg_6_im,tf.data.Dataset.from_tensor_slices(tf.zeros(len(neg_1_im)))))\n",
    "data1=data1.concatenate(q)\n",
    "q=tf.data.Dataset.zip((anc_16_im,neg_7_im,tf.data.Dataset.from_tensor_slices(tf.zeros(len(neg_1_im)))))\n",
    "data1=data1.concatenate(q)\n",
    "q=tf.data.Dataset.zip((anc_16_im,neg_8_im,tf.data.Dataset.from_tensor_slices(tf.zeros(len(neg_1_im)))))\n",
    "data1=data1.concatenate(q)\n",
    "q=tf.data.Dataset.zip((anc_16_im,neg_9_im,tf.data.Dataset.from_tensor_slices(tf.zeros(len(neg_1_im)))))\n",
    "data1=data1.concatenate(q)\n",
    "q=tf.data.Dataset.zip((anc_16_im,neg_10_im,tf.data.Dataset.from_tensor_slices(tf.zeros(len(neg_1_im)))))\n",
    "data1=data1.concatenate(q)\n",
    "q=tf.data.Dataset.zip((anc_16_im,neg_11_im,tf.data.Dataset.from_tensor_slices(tf.zeros(len(neg_1_im)))))\n",
    "data1=data1.concatenate(q)\n",
    "q=tf.data.Dataset.zip((anc_16_im,neg_12_im,tf.data.Dataset.from_tensor_slices(tf.zeros(len(neg_1_im)))))\n",
    "data1=data1.concatenate(q)\n",
    "q=tf.data.Dataset.zip((anc_16_im,neg_13_im,tf.data.Dataset.from_tensor_slices(tf.zeros(len(neg_1_im)))))\n",
    "data1=data1.concatenate(q)\n",
    "q=tf.data.Dataset.zip((anc_16_im,neg_14_im,tf.data.Dataset.from_tensor_slices(tf.zeros(len(neg_1_im)))))\n",
    "data1=data1.concatenate(q)\n",
    "q=tf.data.Dataset.zip((anc_16_im,neg_15_im,tf.data.Dataset.from_tensor_slices(tf.zeros(len(neg_1_im)))))\n",
    "data1=data1.concatenate(q)\n",
    "q=tf.data.Dataset.zip((anc_16_im,neg_17_im,tf.data.Dataset.from_tensor_slices(tf.zeros(len(neg_1_im)))))\n",
    "data1=data1.concatenate(q)\n",
    "q=tf.data.Dataset.zip((anc_16_im,neg_18_im,tf.data.Dataset.from_tensor_slices(tf.zeros(len(neg_1_im)))))\n",
    "data1=data1.concatenate(q)\n",
    "q=tf.data.Dataset.zip((anc_16_im,neg_19_im,tf.data.Dataset.from_tensor_slices(tf.zeros(len(neg_1_im)))))\n",
    "data1=data1.concatenate(q)\n",
    "\n",
    "\n",
    "print(len(data1))"
   ]
  },
  {
   "cell_type": "code",
   "execution_count": 67,
   "id": "d6681d14",
   "metadata": {},
   "outputs": [
    {
     "name": "stdout",
     "output_type": "stream",
     "text": [
      "2880\n"
     ]
    }
   ],
   "source": [
    "#anc_17_im,neg_1_im\n",
    "q=tf.data.Dataset.zip((anc_17_im,neg_1_im,tf.data.Dataset.from_tensor_slices(tf.zeros(len(neg_1_im)))))\n",
    "data1=data1.concatenate(q)\n",
    "q=tf.data.Dataset.zip((anc_17_im,neg_2_im,tf.data.Dataset.from_tensor_slices(tf.zeros(len(neg_1_im)))))\n",
    "data1=data1.concatenate(q)\n",
    "q=tf.data.Dataset.zip((anc_17_im,neg_3_im,tf.data.Dataset.from_tensor_slices(tf.zeros(len(neg_1_im)))))\n",
    "data1=data1.concatenate(q)\n",
    "q=tf.data.Dataset.zip((anc_17_im,neg_4_im,tf.data.Dataset.from_tensor_slices(tf.zeros(len(neg_1_im)))))\n",
    "data1=data1.concatenate(q)\n",
    "q=tf.data.Dataset.zip((anc_17_im,neg_5_im,tf.data.Dataset.from_tensor_slices(tf.zeros(len(neg_1_im)))))\n",
    "data1=data1.concatenate(q)\n",
    "q=tf.data.Dataset.zip((anc_17_im,neg_6_im,tf.data.Dataset.from_tensor_slices(tf.zeros(len(neg_1_im)))))\n",
    "data1=data1.concatenate(q)\n",
    "q=tf.data.Dataset.zip((anc_17_im,neg_7_im,tf.data.Dataset.from_tensor_slices(tf.zeros(len(neg_1_im)))))\n",
    "data1=data1.concatenate(q)\n",
    "q=tf.data.Dataset.zip((anc_17_im,neg_8_im,tf.data.Dataset.from_tensor_slices(tf.zeros(len(neg_1_im)))))\n",
    "data1=data1.concatenate(q)\n",
    "q=tf.data.Dataset.zip((anc_17_im,neg_9_im,tf.data.Dataset.from_tensor_slices(tf.zeros(len(neg_1_im)))))\n",
    "data1=data1.concatenate(q)\n",
    "q=tf.data.Dataset.zip((anc_17_im,neg_10_im,tf.data.Dataset.from_tensor_slices(tf.zeros(len(neg_1_im)))))\n",
    "data1=data1.concatenate(q)\n",
    "q=tf.data.Dataset.zip((anc_17_im,neg_11_im,tf.data.Dataset.from_tensor_slices(tf.zeros(len(neg_1_im)))))\n",
    "data1=data1.concatenate(q)\n",
    "q=tf.data.Dataset.zip((anc_17_im,neg_12_im,tf.data.Dataset.from_tensor_slices(tf.zeros(len(neg_1_im)))))\n",
    "data1=data1.concatenate(q)\n",
    "q=tf.data.Dataset.zip((anc_17_im,neg_13_im,tf.data.Dataset.from_tensor_slices(tf.zeros(len(neg_1_im)))))\n",
    "data1=data1.concatenate(q)\n",
    "q=tf.data.Dataset.zip((anc_17_im,neg_14_im,tf.data.Dataset.from_tensor_slices(tf.zeros(len(neg_1_im)))))\n",
    "data1=data1.concatenate(q)\n",
    "q=tf.data.Dataset.zip((anc_17_im,neg_15_im,tf.data.Dataset.from_tensor_slices(tf.zeros(len(neg_1_im)))))\n",
    "data1=data1.concatenate(q)\n",
    "q=tf.data.Dataset.zip((anc_17_im,neg_16_im,tf.data.Dataset.from_tensor_slices(tf.zeros(len(neg_1_im)))))\n",
    "data1=data1.concatenate(q)\n",
    "q=tf.data.Dataset.zip((anc_17_im,neg_18_im,tf.data.Dataset.from_tensor_slices(tf.zeros(len(neg_1_im)))))\n",
    "data1=data1.concatenate(q)\n",
    "q=tf.data.Dataset.zip((anc_17_im,neg_19_im,tf.data.Dataset.from_tensor_slices(tf.zeros(len(neg_1_im)))))\n",
    "data1=data1.concatenate(q)\n",
    "\n",
    "\n",
    "print(len(data1))"
   ]
  },
  {
   "cell_type": "code",
   "execution_count": 68,
   "id": "c3f21e7c",
   "metadata": {},
   "outputs": [
    {
     "name": "stdout",
     "output_type": "stream",
     "text": [
      "3060\n"
     ]
    }
   ],
   "source": [
    "#anc_18_im,neg_1_im\n",
    "q=tf.data.Dataset.zip((anc_18_im,neg_1_im,tf.data.Dataset.from_tensor_slices(tf.zeros(len(neg_1_im)))))\n",
    "data1=data1.concatenate(q)\n",
    "q=tf.data.Dataset.zip((anc_18_im,neg_2_im,tf.data.Dataset.from_tensor_slices(tf.zeros(len(neg_1_im)))))\n",
    "data1=data1.concatenate(q)\n",
    "q=tf.data.Dataset.zip((anc_18_im,neg_3_im,tf.data.Dataset.from_tensor_slices(tf.zeros(len(neg_1_im)))))\n",
    "data1=data1.concatenate(q)\n",
    "q=tf.data.Dataset.zip((anc_18_im,neg_4_im,tf.data.Dataset.from_tensor_slices(tf.zeros(len(neg_1_im)))))\n",
    "data1=data1.concatenate(q)\n",
    "q=tf.data.Dataset.zip((anc_18_im,neg_5_im,tf.data.Dataset.from_tensor_slices(tf.zeros(len(neg_1_im)))))\n",
    "data1=data1.concatenate(q)\n",
    "q=tf.data.Dataset.zip((anc_18_im,neg_6_im,tf.data.Dataset.from_tensor_slices(tf.zeros(len(neg_1_im)))))\n",
    "data1=data1.concatenate(q)\n",
    "q=tf.data.Dataset.zip((anc_18_im,neg_7_im,tf.data.Dataset.from_tensor_slices(tf.zeros(len(neg_1_im)))))\n",
    "data1=data1.concatenate(q)\n",
    "q=tf.data.Dataset.zip((anc_18_im,neg_8_im,tf.data.Dataset.from_tensor_slices(tf.zeros(len(neg_1_im)))))\n",
    "data1=data1.concatenate(q)\n",
    "q=tf.data.Dataset.zip((anc_18_im,neg_9_im,tf.data.Dataset.from_tensor_slices(tf.zeros(len(neg_1_im)))))\n",
    "data1=data1.concatenate(q)\n",
    "q=tf.data.Dataset.zip((anc_18_im,neg_10_im,tf.data.Dataset.from_tensor_slices(tf.zeros(len(neg_1_im)))))\n",
    "data1=data1.concatenate(q)\n",
    "q=tf.data.Dataset.zip((anc_18_im,neg_11_im,tf.data.Dataset.from_tensor_slices(tf.zeros(len(neg_1_im)))))\n",
    "data1=data1.concatenate(q)\n",
    "q=tf.data.Dataset.zip((anc_18_im,neg_12_im,tf.data.Dataset.from_tensor_slices(tf.zeros(len(neg_1_im)))))\n",
    "data1=data1.concatenate(q)\n",
    "q=tf.data.Dataset.zip((anc_18_im,neg_13_im,tf.data.Dataset.from_tensor_slices(tf.zeros(len(neg_1_im)))))\n",
    "data1=data1.concatenate(q)\n",
    "q=tf.data.Dataset.zip((anc_18_im,neg_14_im,tf.data.Dataset.from_tensor_slices(tf.zeros(len(neg_1_im)))))\n",
    "data1=data1.concatenate(q)\n",
    "q=tf.data.Dataset.zip((anc_18_im,neg_15_im,tf.data.Dataset.from_tensor_slices(tf.zeros(len(neg_1_im)))))\n",
    "data1=data1.concatenate(q)\n",
    "q=tf.data.Dataset.zip((anc_18_im,neg_16_im,tf.data.Dataset.from_tensor_slices(tf.zeros(len(neg_1_im)))))\n",
    "data1=data1.concatenate(q)\n",
    "q=tf.data.Dataset.zip((anc_18_im,neg_17_im,tf.data.Dataset.from_tensor_slices(tf.zeros(len(neg_1_im)))))\n",
    "data1=data1.concatenate(q)\n",
    "q=tf.data.Dataset.zip((anc_18_im,neg_19_im,tf.data.Dataset.from_tensor_slices(tf.zeros(len(neg_1_im)))))\n",
    "data1=data1.concatenate(q)\n",
    "\n",
    "\n",
    "print(len(data1))"
   ]
  },
  {
   "cell_type": "code",
   "execution_count": 69,
   "id": "0cf35d0e",
   "metadata": {},
   "outputs": [
    {
     "name": "stdout",
     "output_type": "stream",
     "text": [
      "3240\n"
     ]
    }
   ],
   "source": [
    "#anc_19_im,neg_1_im\n",
    "q=tf.data.Dataset.zip((anc_19_im,neg_1_im,tf.data.Dataset.from_tensor_slices(tf.zeros(len(neg_1_im)))))\n",
    "data1=data1.concatenate(q)\n",
    "q=tf.data.Dataset.zip((anc_19_im,neg_2_im,tf.data.Dataset.from_tensor_slices(tf.zeros(len(neg_1_im)))))\n",
    "data1=data1.concatenate(q)\n",
    "q=tf.data.Dataset.zip((anc_19_im,neg_3_im,tf.data.Dataset.from_tensor_slices(tf.zeros(len(neg_1_im)))))\n",
    "data1=data1.concatenate(q)\n",
    "q=tf.data.Dataset.zip((anc_19_im,neg_4_im,tf.data.Dataset.from_tensor_slices(tf.zeros(len(neg_1_im)))))\n",
    "data1=data1.concatenate(q)\n",
    "q=tf.data.Dataset.zip((anc_19_im,neg_5_im,tf.data.Dataset.from_tensor_slices(tf.zeros(len(neg_1_im)))))\n",
    "data1=data1.concatenate(q)\n",
    "q=tf.data.Dataset.zip((anc_19_im,neg_6_im,tf.data.Dataset.from_tensor_slices(tf.zeros(len(neg_1_im)))))\n",
    "data1=data1.concatenate(q)\n",
    "q=tf.data.Dataset.zip((anc_19_im,neg_7_im,tf.data.Dataset.from_tensor_slices(tf.zeros(len(neg_1_im)))))\n",
    "data1=data1.concatenate(q)\n",
    "q=tf.data.Dataset.zip((anc_19_im,neg_8_im,tf.data.Dataset.from_tensor_slices(tf.zeros(len(neg_1_im)))))\n",
    "data1=data1.concatenate(q)\n",
    "q=tf.data.Dataset.zip((anc_19_im,neg_9_im,tf.data.Dataset.from_tensor_slices(tf.zeros(len(neg_1_im)))))\n",
    "data1=data1.concatenate(q)\n",
    "q=tf.data.Dataset.zip((anc_19_im,neg_10_im,tf.data.Dataset.from_tensor_slices(tf.zeros(len(neg_1_im)))))\n",
    "data1=data1.concatenate(q)\n",
    "q=tf.data.Dataset.zip((anc_19_im,neg_11_im,tf.data.Dataset.from_tensor_slices(tf.zeros(len(neg_1_im)))))\n",
    "data1=data1.concatenate(q)\n",
    "q=tf.data.Dataset.zip((anc_19_im,neg_12_im,tf.data.Dataset.from_tensor_slices(tf.zeros(len(neg_1_im)))))\n",
    "data1=data1.concatenate(q)\n",
    "q=tf.data.Dataset.zip((anc_19_im,neg_13_im,tf.data.Dataset.from_tensor_slices(tf.zeros(len(neg_1_im)))))\n",
    "data1=data1.concatenate(q)\n",
    "q=tf.data.Dataset.zip((anc_19_im,neg_14_im,tf.data.Dataset.from_tensor_slices(tf.zeros(len(neg_1_im)))))\n",
    "data1=data1.concatenate(q)\n",
    "q=tf.data.Dataset.zip((anc_19_im,neg_15_im,tf.data.Dataset.from_tensor_slices(tf.zeros(len(neg_1_im)))))\n",
    "data1=data1.concatenate(q)\n",
    "q=tf.data.Dataset.zip((anc_19_im,neg_16_im,tf.data.Dataset.from_tensor_slices(tf.zeros(len(neg_1_im)))))\n",
    "data1=data1.concatenate(q)\n",
    "q=tf.data.Dataset.zip((anc_19_im,neg_17_im,tf.data.Dataset.from_tensor_slices(tf.zeros(len(neg_1_im)))))\n",
    "data1=data1.concatenate(q)\n",
    "q=tf.data.Dataset.zip((anc_19_im,neg_18_im,tf.data.Dataset.from_tensor_slices(tf.zeros(len(neg_1_im)))))\n",
    "data1=data1.concatenate(q)\n",
    "\n",
    "\n",
    "print(len(data1))"
   ]
  },
  {
   "cell_type": "code",
   "execution_count": 70,
   "id": "a8274537",
   "metadata": {},
   "outputs": [
    {
     "name": "stdout",
     "output_type": "stream",
     "text": [
      "3240\n"
     ]
    }
   ],
   "source": [
    "print(len(data1))"
   ]
  },
  {
   "cell_type": "code",
   "execution_count": 71,
   "id": "44be1aff",
   "metadata": {},
   "outputs": [
    {
     "name": "stdout",
     "output_type": "stream",
     "text": [
      "3240\n"
     ]
    }
   ],
   "source": [
    "\n",
    "print(len(data1))"
   ]
  },
  {
   "cell_type": "code",
   "execution_count": 72,
   "id": "64276977",
   "metadata": {},
   "outputs": [
    {
     "name": "stdout",
     "output_type": "stream",
     "text": [
      "3410\n"
     ]
    }
   ],
   "source": [
    "#pos_1_0_im,anc_1_im\n",
    "q = tf.data.Dataset.zip((anc_1_im,pos_1_0_im,tf.data.Dataset.from_tensor_slices(tf.ones(len(neg_1_im)))))\n",
    "data1=data1.concatenate(q)\n",
    "q = tf.data.Dataset.zip((anc_1_im,pos_1_1_im,tf.data.Dataset.from_tensor_slices(tf.ones(len(neg_1_im)))))\n",
    "data1=data1.concatenate(q)\n",
    "q = tf.data.Dataset.zip((anc_1_im,pos_1_2_im,tf.data.Dataset.from_tensor_slices(tf.ones(len(neg_1_im)))))\n",
    "data1=data1.concatenate(q)\n",
    "q = tf.data.Dataset.zip((anc_1_im,pos_1_3_im,tf.data.Dataset.from_tensor_slices(tf.ones(len(neg_1_im)))))\n",
    "data1=data1.concatenate(q)\n",
    "q = tf.data.Dataset.zip((anc_1_im,pos_1_4_im,tf.data.Dataset.from_tensor_slices(tf.ones(len(neg_1_im)))))\n",
    "data1=data1.concatenate(q)\n",
    "q = tf.data.Dataset.zip((anc_1_im,pos_1_5_im,tf.data.Dataset.from_tensor_slices(tf.ones(len(neg_1_im)))))\n",
    "data1=data1.concatenate(q)\n",
    "q = tf.data.Dataset.zip((anc_1_im,pos_1_6_im,tf.data.Dataset.from_tensor_slices(tf.ones(len(neg_1_im)))))\n",
    "data1=data1.concatenate(q)\n",
    "q = tf.data.Dataset.zip((anc_1_im,pos_1_7_im,tf.data.Dataset.from_tensor_slices(tf.ones(len(neg_1_im)))))\n",
    "data1=data1.concatenate(q)\n",
    "q = tf.data.Dataset.zip((anc_1_im,pos_1_8_im,tf.data.Dataset.from_tensor_slices(tf.ones(len(neg_1_im)))))\n",
    "data1=data1.concatenate(q)\n",
    "q = tf.data.Dataset.zip((anc_1_im,pos_1_9_im,tf.data.Dataset.from_tensor_slices(tf.ones(len(neg_1_im)))))\n",
    "data1=data1.concatenate(q)\n",
    "q = tf.data.Dataset.zip((anc_1_im,pos_1_10_im,tf.data.Dataset.from_tensor_slices(tf.ones(len(neg_1_im)))))\n",
    "data1=data1.concatenate(q)\n",
    "q = tf.data.Dataset.zip((anc_1_im,pos_1_11_im,tf.data.Dataset.from_tensor_slices(tf.ones(len(neg_1_im)))))\n",
    "data1=data1.concatenate(q)\n",
    "q = tf.data.Dataset.zip((anc_1_im,pos_1_12_im,tf.data.Dataset.from_tensor_slices(tf.ones(len(neg_1_im)))))\n",
    "data1=data1.concatenate(q)\n",
    "q = tf.data.Dataset.zip((anc_1_im,pos_1_13_im,tf.data.Dataset.from_tensor_slices(tf.ones(len(neg_1_im)))))\n",
    "data1=data1.concatenate(q)\n",
    "q = tf.data.Dataset.zip((anc_1_im,pos_1_14_im,tf.data.Dataset.from_tensor_slices(tf.ones(len(neg_1_im)))))\n",
    "data1=data1.concatenate(q)\n",
    "q = tf.data.Dataset.zip((anc_1_im,pos_1_15_im,tf.data.Dataset.from_tensor_slices(tf.ones(len(neg_1_im)))))\n",
    "data1=data1.concatenate(q)\n",
    "q = tf.data.Dataset.zip((anc_1_im,pos_1_16_im,tf.data.Dataset.from_tensor_slices(tf.ones(len(neg_1_im)))))\n",
    "data1=data1.concatenate(q)\n",
    "print(len(data1))"
   ]
  },
  {
   "cell_type": "code",
   "execution_count": 73,
   "id": "57cdc17f",
   "metadata": {},
   "outputs": [
    {
     "name": "stdout",
     "output_type": "stream",
     "text": [
      "3580\n"
     ]
    }
   ],
   "source": [
    "#pos_2_0_im,anc_1_im\n",
    "q = tf.data.Dataset.zip((anc_2_im,pos_2_0_im,tf.data.Dataset.from_tensor_slices(tf.ones(len(neg_1_im)))))\n",
    "data1=data1.concatenate(q)\n",
    "q = tf.data.Dataset.zip((anc_2_im,pos_2_1_im,tf.data.Dataset.from_tensor_slices(tf.ones(len(neg_1_im)))))\n",
    "data1=data1.concatenate(q)\n",
    "q = tf.data.Dataset.zip((anc_2_im,pos_2_2_im,tf.data.Dataset.from_tensor_slices(tf.ones(len(neg_1_im)))))\n",
    "data1=data1.concatenate(q)\n",
    "q = tf.data.Dataset.zip((anc_2_im,pos_2_3_im,tf.data.Dataset.from_tensor_slices(tf.ones(len(neg_1_im)))))\n",
    "data1=data1.concatenate(q)\n",
    "q = tf.data.Dataset.zip((anc_2_im,pos_2_4_im,tf.data.Dataset.from_tensor_slices(tf.ones(len(neg_1_im)))))\n",
    "data1=data1.concatenate(q)\n",
    "q = tf.data.Dataset.zip((anc_2_im,pos_2_5_im,tf.data.Dataset.from_tensor_slices(tf.ones(len(neg_1_im)))))\n",
    "data1=data1.concatenate(q)\n",
    "q = tf.data.Dataset.zip((anc_2_im,pos_2_6_im,tf.data.Dataset.from_tensor_slices(tf.ones(len(neg_1_im)))))\n",
    "data1=data1.concatenate(q)\n",
    "q = tf.data.Dataset.zip((anc_2_im,pos_2_7_im,tf.data.Dataset.from_tensor_slices(tf.ones(len(neg_1_im)))))\n",
    "data1=data1.concatenate(q)\n",
    "q = tf.data.Dataset.zip((anc_2_im,pos_2_8_im,tf.data.Dataset.from_tensor_slices(tf.ones(len(neg_1_im)))))\n",
    "data1=data1.concatenate(q)\n",
    "q = tf.data.Dataset.zip((anc_2_im,pos_2_9_im,tf.data.Dataset.from_tensor_slices(tf.ones(len(neg_1_im)))))\n",
    "data1=data1.concatenate(q)\n",
    "q = tf.data.Dataset.zip((anc_2_im,pos_2_10_im,tf.data.Dataset.from_tensor_slices(tf.ones(len(neg_1_im)))))\n",
    "data1=data1.concatenate(q)\n",
    "q = tf.data.Dataset.zip((anc_2_im,pos_2_11_im,tf.data.Dataset.from_tensor_slices(tf.ones(len(neg_1_im)))))\n",
    "data1=data1.concatenate(q)\n",
    "q = tf.data.Dataset.zip((anc_2_im,pos_2_12_im,tf.data.Dataset.from_tensor_slices(tf.ones(len(neg_1_im)))))\n",
    "data1=data1.concatenate(q)\n",
    "q = tf.data.Dataset.zip((anc_2_im,pos_2_13_im,tf.data.Dataset.from_tensor_slices(tf.ones(len(neg_1_im)))))\n",
    "data1=data1.concatenate(q)\n",
    "q = tf.data.Dataset.zip((anc_2_im,pos_2_14_im,tf.data.Dataset.from_tensor_slices(tf.ones(len(neg_1_im)))))\n",
    "data1=data1.concatenate(q)\n",
    "q = tf.data.Dataset.zip((anc_2_im,pos_2_15_im,tf.data.Dataset.from_tensor_slices(tf.ones(len(neg_1_im)))))\n",
    "data1=data1.concatenate(q)\n",
    "q = tf.data.Dataset.zip((anc_2_im,pos_2_16_im,tf.data.Dataset.from_tensor_slices(tf.ones(len(neg_1_im)))))\n",
    "data1=data1.concatenate(q)\n",
    "print(len(data1))"
   ]
  },
  {
   "cell_type": "code",
   "execution_count": 74,
   "id": "181460ad",
   "metadata": {},
   "outputs": [
    {
     "name": "stdout",
     "output_type": "stream",
     "text": [
      "3750\n"
     ]
    }
   ],
   "source": [
    "#pos_3_0_im,anc_1_im\n",
    "q = tf.data.Dataset.zip((anc_3_im,pos_3_0_im,tf.data.Dataset.from_tensor_slices(tf.ones(len(neg_1_im)))))\n",
    "data1=data1.concatenate(q)\n",
    "q = tf.data.Dataset.zip((anc_3_im,pos_3_1_im,tf.data.Dataset.from_tensor_slices(tf.ones(len(neg_1_im)))))\n",
    "data1=data1.concatenate(q)\n",
    "q = tf.data.Dataset.zip((anc_3_im,pos_3_2_im,tf.data.Dataset.from_tensor_slices(tf.ones(len(neg_1_im)))))\n",
    "data1=data1.concatenate(q)\n",
    "q = tf.data.Dataset.zip((anc_3_im,pos_3_3_im,tf.data.Dataset.from_tensor_slices(tf.ones(len(neg_1_im)))))\n",
    "data1=data1.concatenate(q)\n",
    "q = tf.data.Dataset.zip((anc_3_im,pos_3_4_im,tf.data.Dataset.from_tensor_slices(tf.ones(len(neg_1_im)))))\n",
    "data1=data1.concatenate(q)\n",
    "q = tf.data.Dataset.zip((anc_3_im,pos_3_5_im,tf.data.Dataset.from_tensor_slices(tf.ones(len(neg_1_im)))))\n",
    "data1=data1.concatenate(q)\n",
    "q = tf.data.Dataset.zip((anc_3_im,pos_3_6_im,tf.data.Dataset.from_tensor_slices(tf.ones(len(neg_1_im)))))\n",
    "data1=data1.concatenate(q)\n",
    "q = tf.data.Dataset.zip((anc_3_im,pos_3_7_im,tf.data.Dataset.from_tensor_slices(tf.ones(len(neg_1_im)))))\n",
    "data1=data1.concatenate(q)\n",
    "q = tf.data.Dataset.zip((anc_3_im,pos_3_8_im,tf.data.Dataset.from_tensor_slices(tf.ones(len(neg_1_im)))))\n",
    "data1=data1.concatenate(q)\n",
    "q = tf.data.Dataset.zip((anc_3_im,pos_3_9_im,tf.data.Dataset.from_tensor_slices(tf.ones(len(neg_1_im)))))\n",
    "data1=data1.concatenate(q)\n",
    "q = tf.data.Dataset.zip((anc_3_im,pos_3_10_im,tf.data.Dataset.from_tensor_slices(tf.ones(len(neg_1_im)))))\n",
    "data1=data1.concatenate(q)\n",
    "q = tf.data.Dataset.zip((anc_3_im,pos_3_11_im,tf.data.Dataset.from_tensor_slices(tf.ones(len(neg_1_im)))))\n",
    "data1=data1.concatenate(q)\n",
    "q = tf.data.Dataset.zip((anc_3_im,pos_3_12_im,tf.data.Dataset.from_tensor_slices(tf.ones(len(neg_1_im)))))\n",
    "data1=data1.concatenate(q)\n",
    "q = tf.data.Dataset.zip((anc_3_im,pos_3_13_im,tf.data.Dataset.from_tensor_slices(tf.ones(len(neg_1_im)))))\n",
    "data1=data1.concatenate(q)\n",
    "q = tf.data.Dataset.zip((anc_3_im,pos_3_14_im,tf.data.Dataset.from_tensor_slices(tf.ones(len(neg_1_im)))))\n",
    "data1=data1.concatenate(q)\n",
    "q = tf.data.Dataset.zip((anc_3_im,pos_3_15_im,tf.data.Dataset.from_tensor_slices(tf.ones(len(neg_1_im)))))\n",
    "data1=data1.concatenate(q)\n",
    "q = tf.data.Dataset.zip((anc_3_im,pos_3_16_im,tf.data.Dataset.from_tensor_slices(tf.ones(len(neg_1_im)))))\n",
    "data1=data1.concatenate(q)\n",
    "print(len(data1))"
   ]
  },
  {
   "cell_type": "code",
   "execution_count": 75,
   "id": "bccd0ff3",
   "metadata": {},
   "outputs": [
    {
     "name": "stdout",
     "output_type": "stream",
     "text": [
      "3760\n",
      "3770\n",
      "3780\n",
      "3790\n",
      "3800\n",
      "3810\n",
      "3820\n",
      "3830\n",
      "3840\n",
      "3850\n",
      "3860\n",
      "3870\n",
      "3880\n",
      "3890\n",
      "3900\n",
      "3910\n",
      "3920\n"
     ]
    }
   ],
   "source": [
    "#pos_4_0_im,anc_4_im\n",
    "q = tf.data.Dataset.zip((anc_4_im,pos_4_0_im,tf.data.Dataset.from_tensor_slices(tf.ones(len(neg_1_im)))))\n",
    "data1=data1.concatenate(q)\n",
    "print(len(data1))\n",
    "q = tf.data.Dataset.zip((anc_4_im,pos_4_1_im,tf.data.Dataset.from_tensor_slices(tf.ones(len(neg_1_im)))))\n",
    "data1=data1.concatenate(q)\n",
    "print(len(data1))\n",
    "q = tf.data.Dataset.zip((anc_4_im,pos_4_2_im,tf.data.Dataset.from_tensor_slices(tf.ones(len(neg_1_im)))))\n",
    "data1=data1.concatenate(q)\n",
    "print(len(data1))\n",
    "q = tf.data.Dataset.zip((anc_4_im,pos_4_3_im,tf.data.Dataset.from_tensor_slices(tf.ones(len(neg_1_im)))))\n",
    "data1=data1.concatenate(q)\n",
    "print(len(data1))\n",
    "q = tf.data.Dataset.zip((anc_4_im,pos_4_4_im,tf.data.Dataset.from_tensor_slices(tf.ones(len(neg_1_im)))))\n",
    "data1=data1.concatenate(q)\n",
    "print(len(data1))\n",
    "q = tf.data.Dataset.zip((anc_4_im,pos_4_5_im,tf.data.Dataset.from_tensor_slices(tf.ones(len(neg_1_im)))))\n",
    "data1=data1.concatenate(q)\n",
    "print(len(data1))\n",
    "q = tf.data.Dataset.zip((anc_4_im,pos_4_6_im,tf.data.Dataset.from_tensor_slices(tf.ones(len(neg_1_im)))))\n",
    "data1=data1.concatenate(q)\n",
    "print(len(data1))\n",
    "q = tf.data.Dataset.zip((anc_4_im,pos_4_7_im,tf.data.Dataset.from_tensor_slices(tf.ones(len(neg_1_im)))))\n",
    "data1=data1.concatenate(q)\n",
    "print(len(data1))\n",
    "q = tf.data.Dataset.zip((anc_4_im,pos_4_8_im,tf.data.Dataset.from_tensor_slices(tf.ones(len(neg_1_im)))))\n",
    "data1=data1.concatenate(q)\n",
    "print(len(data1))\n",
    "q = tf.data.Dataset.zip((anc_4_im,pos_4_9_im,tf.data.Dataset.from_tensor_slices(tf.ones(len(neg_1_im)))))\n",
    "data1=data1.concatenate(q)\n",
    "print(len(data1))\n",
    "q = tf.data.Dataset.zip((anc_4_im,pos_4_10_im,tf.data.Dataset.from_tensor_slices(tf.ones(len(neg_1_im)))))\n",
    "data1=data1.concatenate(q)\n",
    "print(len(data1))\n",
    "q = tf.data.Dataset.zip((anc_4_im,pos_4_11_im,tf.data.Dataset.from_tensor_slices(tf.ones(len(neg_1_im)))))\n",
    "data1=data1.concatenate(q)\n",
    "print(len(data1))\n",
    "q = tf.data.Dataset.zip((anc_4_im,pos_4_12_im,tf.data.Dataset.from_tensor_slices(tf.ones(len(neg_1_im)))))\n",
    "data1=data1.concatenate(q)\n",
    "print(len(data1))\n",
    "q = tf.data.Dataset.zip((anc_4_im,pos_4_13_im,tf.data.Dataset.from_tensor_slices(tf.ones(len(neg_1_im)))))\n",
    "data1=data1.concatenate(q)\n",
    "print(len(data1))\n",
    "q = tf.data.Dataset.zip((anc_4_im,pos_4_14_im,tf.data.Dataset.from_tensor_slices(tf.ones(len(neg_1_im)))))\n",
    "data1=data1.concatenate(q)\n",
    "print(len(data1))\n",
    "q = tf.data.Dataset.zip((anc_4_im,pos_4_15_im,tf.data.Dataset.from_tensor_slices(tf.ones(len(neg_1_im)))))\n",
    "data1=data1.concatenate(q)\n",
    "print(len(data1))\n",
    "q = tf.data.Dataset.zip((anc_4_im,pos_4_16_im,tf.data.Dataset.from_tensor_slices(tf.ones(len(neg_1_im)))))\n",
    "data1=data1.concatenate(q)\n",
    "print(len(data1))"
   ]
  },
  {
   "cell_type": "code",
   "execution_count": 76,
   "id": "7041ea02",
   "metadata": {},
   "outputs": [
    {
     "name": "stdout",
     "output_type": "stream",
     "text": [
      "4090\n"
     ]
    }
   ],
   "source": [
    "q = tf.data.Dataset.zip((anc_5_im,pos_5_0_im,tf.data.Dataset.from_tensor_slices(tf.ones(len(neg_1_im)))))\n",
    "data1=data1.concatenate(q)\n",
    "q = tf.data.Dataset.zip((anc_5_im,pos_5_1_im,tf.data.Dataset.from_tensor_slices(tf.ones(len(neg_1_im)))))\n",
    "data1=data1.concatenate(q)\n",
    "q = tf.data.Dataset.zip((anc_5_im,pos_5_2_im,tf.data.Dataset.from_tensor_slices(tf.ones(len(neg_1_im)))))\n",
    "data1=data1.concatenate(q)\n",
    "q = tf.data.Dataset.zip((anc_5_im,pos_5_3_im,tf.data.Dataset.from_tensor_slices(tf.ones(len(neg_1_im)))))\n",
    "data1=data1.concatenate(q)\n",
    "q = tf.data.Dataset.zip((anc_5_im,pos_5_4_im,tf.data.Dataset.from_tensor_slices(tf.ones(len(neg_1_im)))))\n",
    "data1=data1.concatenate(q)\n",
    "q = tf.data.Dataset.zip((anc_5_im,pos_5_5_im,tf.data.Dataset.from_tensor_slices(tf.ones(len(neg_1_im)))))\n",
    "data1=data1.concatenate(q)\n",
    "q = tf.data.Dataset.zip((anc_5_im,pos_5_6_im,tf.data.Dataset.from_tensor_slices(tf.ones(len(neg_1_im)))))\n",
    "data1=data1.concatenate(q)\n",
    "q = tf.data.Dataset.zip((anc_5_im,pos_5_7_im,tf.data.Dataset.from_tensor_slices(tf.ones(len(neg_1_im)))))\n",
    "data1=data1.concatenate(q)\n",
    "q = tf.data.Dataset.zip((anc_5_im,pos_5_8_im,tf.data.Dataset.from_tensor_slices(tf.ones(len(neg_1_im)))))\n",
    "data1=data1.concatenate(q)\n",
    "q = tf.data.Dataset.zip((anc_5_im,pos_5_9_im,tf.data.Dataset.from_tensor_slices(tf.ones(len(neg_1_im)))))\n",
    "data1=data1.concatenate(q)\n",
    "q = tf.data.Dataset.zip((anc_5_im,pos_5_10_im,tf.data.Dataset.from_tensor_slices(tf.ones(len(neg_1_im)))))\n",
    "data1=data1.concatenate(q)\n",
    "q = tf.data.Dataset.zip((anc_5_im,pos_5_11_im,tf.data.Dataset.from_tensor_slices(tf.ones(len(neg_1_im)))))\n",
    "data1=data1.concatenate(q)\n",
    "q = tf.data.Dataset.zip((anc_5_im,pos_5_12_im,tf.data.Dataset.from_tensor_slices(tf.ones(len(neg_1_im)))))\n",
    "data1=data1.concatenate(q)\n",
    "q = tf.data.Dataset.zip((anc_5_im,pos_5_13_im,tf.data.Dataset.from_tensor_slices(tf.ones(len(neg_1_im)))))\n",
    "data1=data1.concatenate(q)\n",
    "q = tf.data.Dataset.zip((anc_5_im,pos_5_14_im,tf.data.Dataset.from_tensor_slices(tf.ones(len(neg_1_im)))))\n",
    "data1=data1.concatenate(q)\n",
    "q = tf.data.Dataset.zip((anc_5_im,pos_5_15_im,tf.data.Dataset.from_tensor_slices(tf.ones(len(neg_1_im)))))\n",
    "data1=data1.concatenate(q)\n",
    "q = tf.data.Dataset.zip((anc_5_im,pos_5_16_im,tf.data.Dataset.from_tensor_slices(tf.ones(len(neg_1_im)))))\n",
    "data1=data1.concatenate(q)\n",
    "print(len(data1))"
   ]
  },
  {
   "cell_type": "code",
   "execution_count": 77,
   "id": "a0796078",
   "metadata": {},
   "outputs": [
    {
     "name": "stdout",
     "output_type": "stream",
     "text": [
      "4260\n"
     ]
    }
   ],
   "source": [
    "q = tf.data.Dataset.zip((anc_6_im,pos_6_0_im,tf.data.Dataset.from_tensor_slices(tf.ones(len(neg_1_im)))))\n",
    "data1=data1.concatenate(q)\n",
    "q = tf.data.Dataset.zip((anc_6_im,pos_6_1_im,tf.data.Dataset.from_tensor_slices(tf.ones(len(neg_1_im)))))\n",
    "data1=data1.concatenate(q)\n",
    "q = tf.data.Dataset.zip((anc_6_im,pos_6_2_im,tf.data.Dataset.from_tensor_slices(tf.ones(len(neg_1_im)))))\n",
    "data1=data1.concatenate(q)\n",
    "q = tf.data.Dataset.zip((anc_6_im,pos_6_3_im,tf.data.Dataset.from_tensor_slices(tf.ones(len(neg_1_im)))))\n",
    "data1=data1.concatenate(q)\n",
    "q = tf.data.Dataset.zip((anc_6_im,pos_6_4_im,tf.data.Dataset.from_tensor_slices(tf.ones(len(neg_1_im)))))\n",
    "data1=data1.concatenate(q)\n",
    "q = tf.data.Dataset.zip((anc_6_im,pos_6_5_im,tf.data.Dataset.from_tensor_slices(tf.ones(len(neg_1_im)))))\n",
    "data1=data1.concatenate(q)\n",
    "q = tf.data.Dataset.zip((anc_6_im,pos_6_6_im,tf.data.Dataset.from_tensor_slices(tf.ones(len(neg_1_im)))))\n",
    "data1=data1.concatenate(q)\n",
    "q = tf.data.Dataset.zip((anc_6_im,pos_6_7_im,tf.data.Dataset.from_tensor_slices(tf.ones(len(neg_1_im)))))\n",
    "data1=data1.concatenate(q)\n",
    "q = tf.data.Dataset.zip((anc_6_im,pos_6_8_im,tf.data.Dataset.from_tensor_slices(tf.ones(len(neg_1_im)))))\n",
    "data1=data1.concatenate(q)\n",
    "q = tf.data.Dataset.zip((anc_6_im,pos_6_9_im,tf.data.Dataset.from_tensor_slices(tf.ones(len(neg_1_im)))))\n",
    "data1=data1.concatenate(q)\n",
    "q = tf.data.Dataset.zip((anc_6_im,pos_6_10_im,tf.data.Dataset.from_tensor_slices(tf.ones(len(neg_1_im)))))\n",
    "data1=data1.concatenate(q)\n",
    "q = tf.data.Dataset.zip((anc_6_im,pos_6_11_im,tf.data.Dataset.from_tensor_slices(tf.ones(len(neg_1_im)))))\n",
    "data1=data1.concatenate(q)\n",
    "q = tf.data.Dataset.zip((anc_6_im,pos_6_12_im,tf.data.Dataset.from_tensor_slices(tf.ones(len(neg_1_im)))))\n",
    "data1=data1.concatenate(q)\n",
    "q = tf.data.Dataset.zip((anc_6_im,pos_6_13_im,tf.data.Dataset.from_tensor_slices(tf.ones(len(neg_1_im)))))\n",
    "data1=data1.concatenate(q)\n",
    "q = tf.data.Dataset.zip((anc_6_im,pos_6_14_im,tf.data.Dataset.from_tensor_slices(tf.ones(len(neg_1_im)))))\n",
    "data1=data1.concatenate(q)\n",
    "q = tf.data.Dataset.zip((anc_6_im,pos_6_15_im,tf.data.Dataset.from_tensor_slices(tf.ones(len(neg_1_im)))))\n",
    "data1=data1.concatenate(q)\n",
    "q = tf.data.Dataset.zip((anc_6_im,pos_6_16_im,tf.data.Dataset.from_tensor_slices(tf.ones(len(neg_1_im)))))\n",
    "data1=data1.concatenate(q)\n",
    "print(len(data1))"
   ]
  },
  {
   "cell_type": "code",
   "execution_count": 78,
   "id": "2c6fe8f9",
   "metadata": {},
   "outputs": [
    {
     "name": "stdout",
     "output_type": "stream",
     "text": [
      "4430\n"
     ]
    }
   ],
   "source": [
    "q = tf.data.Dataset.zip((anc_7_im,pos_7_0_im,tf.data.Dataset.from_tensor_slices(tf.ones(len(neg_1_im)))))\n",
    "data1=data1.concatenate(q)\n",
    "q = tf.data.Dataset.zip((anc_7_im,pos_7_1_im,tf.data.Dataset.from_tensor_slices(tf.ones(len(neg_1_im)))))\n",
    "data1=data1.concatenate(q)\n",
    "q = tf.data.Dataset.zip((anc_7_im,pos_7_2_im,tf.data.Dataset.from_tensor_slices(tf.ones(len(neg_1_im)))))\n",
    "data1=data1.concatenate(q)\n",
    "q = tf.data.Dataset.zip((anc_7_im,pos_7_3_im,tf.data.Dataset.from_tensor_slices(tf.ones(len(neg_1_im)))))\n",
    "data1=data1.concatenate(q)\n",
    "q = tf.data.Dataset.zip((anc_7_im,pos_7_4_im,tf.data.Dataset.from_tensor_slices(tf.ones(len(neg_1_im)))))\n",
    "data1=data1.concatenate(q)\n",
    "q = tf.data.Dataset.zip((anc_7_im,pos_7_5_im,tf.data.Dataset.from_tensor_slices(tf.ones(len(neg_1_im)))))\n",
    "data1=data1.concatenate(q)\n",
    "q = tf.data.Dataset.zip((anc_7_im,pos_7_6_im,tf.data.Dataset.from_tensor_slices(tf.ones(len(neg_1_im)))))\n",
    "data1=data1.concatenate(q)\n",
    "q = tf.data.Dataset.zip((anc_7_im,pos_7_7_im,tf.data.Dataset.from_tensor_slices(tf.ones(len(neg_1_im)))))\n",
    "data1=data1.concatenate(q)\n",
    "q = tf.data.Dataset.zip((anc_7_im,pos_7_8_im,tf.data.Dataset.from_tensor_slices(tf.ones(len(neg_1_im)))))\n",
    "data1=data1.concatenate(q)\n",
    "q = tf.data.Dataset.zip((anc_7_im,pos_7_9_im,tf.data.Dataset.from_tensor_slices(tf.ones(len(neg_1_im)))))\n",
    "data1=data1.concatenate(q)\n",
    "q = tf.data.Dataset.zip((anc_7_im,pos_7_10_im,tf.data.Dataset.from_tensor_slices(tf.ones(len(neg_1_im)))))\n",
    "data1=data1.concatenate(q)\n",
    "q = tf.data.Dataset.zip((anc_7_im,pos_7_11_im,tf.data.Dataset.from_tensor_slices(tf.ones(len(neg_1_im)))))\n",
    "data1=data1.concatenate(q)\n",
    "q = tf.data.Dataset.zip((anc_7_im,pos_7_12_im,tf.data.Dataset.from_tensor_slices(tf.ones(len(neg_1_im)))))\n",
    "data1=data1.concatenate(q)\n",
    "q = tf.data.Dataset.zip((anc_7_im,pos_7_13_im,tf.data.Dataset.from_tensor_slices(tf.ones(len(neg_1_im)))))\n",
    "data1=data1.concatenate(q)\n",
    "q = tf.data.Dataset.zip((anc_7_im,pos_7_14_im,tf.data.Dataset.from_tensor_slices(tf.ones(len(neg_1_im)))))\n",
    "data1=data1.concatenate(q)\n",
    "q = tf.data.Dataset.zip((anc_7_im,pos_7_15_im,tf.data.Dataset.from_tensor_slices(tf.ones(len(neg_1_im)))))\n",
    "data1=data1.concatenate(q)\n",
    "q = tf.data.Dataset.zip((anc_7_im,pos_7_16_im,tf.data.Dataset.from_tensor_slices(tf.ones(len(neg_1_im)))))\n",
    "data1=data1.concatenate(q)\n",
    "print(len(data1))"
   ]
  },
  {
   "cell_type": "code",
   "execution_count": 79,
   "id": "56792088",
   "metadata": {},
   "outputs": [
    {
     "name": "stdout",
     "output_type": "stream",
     "text": [
      "4600\n"
     ]
    }
   ],
   "source": [
    "#pos_8_0_im,anc_8_im\n",
    "q = tf.data.Dataset.zip((anc_8_im,pos_8_0_im,tf.data.Dataset.from_tensor_slices(tf.ones(len(neg_1_im)))))\n",
    "data1=data1.concatenate(q)\n",
    "q = tf.data.Dataset.zip((anc_8_im,pos_8_1_im,tf.data.Dataset.from_tensor_slices(tf.ones(len(neg_1_im)))))\n",
    "data1=data1.concatenate(q)\n",
    "q = tf.data.Dataset.zip((anc_8_im,pos_8_2_im,tf.data.Dataset.from_tensor_slices(tf.ones(len(neg_1_im)))))\n",
    "data1=data1.concatenate(q)\n",
    "q = tf.data.Dataset.zip((anc_8_im,pos_8_3_im,tf.data.Dataset.from_tensor_slices(tf.ones(len(neg_1_im)))))\n",
    "data1=data1.concatenate(q)\n",
    "q = tf.data.Dataset.zip((anc_8_im,pos_8_4_im,tf.data.Dataset.from_tensor_slices(tf.ones(len(neg_1_im)))))\n",
    "data1=data1.concatenate(q)\n",
    "q = tf.data.Dataset.zip((anc_8_im,pos_8_5_im,tf.data.Dataset.from_tensor_slices(tf.ones(len(neg_1_im)))))\n",
    "data1=data1.concatenate(q)\n",
    "q = tf.data.Dataset.zip((anc_8_im,pos_8_6_im,tf.data.Dataset.from_tensor_slices(tf.ones(len(neg_1_im)))))\n",
    "data1=data1.concatenate(q)\n",
    "q = tf.data.Dataset.zip((anc_8_im,pos_8_7_im,tf.data.Dataset.from_tensor_slices(tf.ones(len(neg_1_im)))))\n",
    "data1=data1.concatenate(q)\n",
    "q = tf.data.Dataset.zip((anc_8_im,pos_8_8_im,tf.data.Dataset.from_tensor_slices(tf.ones(len(neg_1_im)))))\n",
    "data1=data1.concatenate(q)\n",
    "q = tf.data.Dataset.zip((anc_8_im,pos_8_9_im,tf.data.Dataset.from_tensor_slices(tf.ones(len(neg_1_im)))))\n",
    "data1=data1.concatenate(q)\n",
    "q = tf.data.Dataset.zip((anc_8_im,pos_8_10_im,tf.data.Dataset.from_tensor_slices(tf.ones(len(neg_1_im)))))\n",
    "data1=data1.concatenate(q)\n",
    "q = tf.data.Dataset.zip((anc_8_im,pos_8_11_im,tf.data.Dataset.from_tensor_slices(tf.ones(len(neg_1_im)))))\n",
    "data1=data1.concatenate(q)\n",
    "q = tf.data.Dataset.zip((anc_8_im,pos_8_12_im,tf.data.Dataset.from_tensor_slices(tf.ones(len(neg_1_im)))))\n",
    "data1=data1.concatenate(q)\n",
    "q = tf.data.Dataset.zip((anc_8_im,pos_8_13_im,tf.data.Dataset.from_tensor_slices(tf.ones(len(neg_1_im)))))\n",
    "data1=data1.concatenate(q)\n",
    "q = tf.data.Dataset.zip((anc_8_im,pos_8_14_im,tf.data.Dataset.from_tensor_slices(tf.ones(len(neg_1_im)))))\n",
    "data1=data1.concatenate(q)\n",
    "q = tf.data.Dataset.zip((anc_8_im,pos_8_15_im,tf.data.Dataset.from_tensor_slices(tf.ones(len(neg_1_im)))))\n",
    "data1=data1.concatenate(q)\n",
    "q = tf.data.Dataset.zip((anc_8_im,pos_8_16_im,tf.data.Dataset.from_tensor_slices(tf.ones(len(neg_1_im)))))\n",
    "data1=data1.concatenate(q)\n",
    "print(len(data1))"
   ]
  },
  {
   "cell_type": "code",
   "execution_count": 80,
   "id": "6790daa2",
   "metadata": {},
   "outputs": [
    {
     "name": "stdout",
     "output_type": "stream",
     "text": [
      "4770\n"
     ]
    }
   ],
   "source": [
    "#pos_9_0_im,anc_9_im\n",
    "q = tf.data.Dataset.zip((anc_9_im,pos_9_0_im,tf.data.Dataset.from_tensor_slices(tf.ones(len(neg_1_im)))))\n",
    "data1=data1.concatenate(q)\n",
    "q = tf.data.Dataset.zip((anc_9_im,pos_9_1_im,tf.data.Dataset.from_tensor_slices(tf.ones(len(neg_1_im)))))\n",
    "data1=data1.concatenate(q)\n",
    "q = tf.data.Dataset.zip((anc_9_im,pos_9_2_im,tf.data.Dataset.from_tensor_slices(tf.ones(len(neg_1_im)))))\n",
    "data1=data1.concatenate(q)\n",
    "q = tf.data.Dataset.zip((anc_9_im,pos_9_3_im,tf.data.Dataset.from_tensor_slices(tf.ones(len(neg_1_im)))))\n",
    "data1=data1.concatenate(q)\n",
    "q = tf.data.Dataset.zip((anc_9_im,pos_9_4_im,tf.data.Dataset.from_tensor_slices(tf.ones(len(neg_1_im)))))\n",
    "data1=data1.concatenate(q)\n",
    "q = tf.data.Dataset.zip((anc_9_im,pos_9_5_im,tf.data.Dataset.from_tensor_slices(tf.ones(len(neg_1_im)))))\n",
    "data1=data1.concatenate(q)\n",
    "q = tf.data.Dataset.zip((anc_9_im,pos_9_6_im,tf.data.Dataset.from_tensor_slices(tf.ones(len(neg_1_im)))))\n",
    "data1=data1.concatenate(q)\n",
    "q = tf.data.Dataset.zip((anc_9_im,pos_9_7_im,tf.data.Dataset.from_tensor_slices(tf.ones(len(neg_1_im)))))\n",
    "data1=data1.concatenate(q)\n",
    "q = tf.data.Dataset.zip((anc_9_im,pos_9_8_im,tf.data.Dataset.from_tensor_slices(tf.ones(len(neg_1_im)))))\n",
    "data1=data1.concatenate(q)\n",
    "q = tf.data.Dataset.zip((anc_9_im,pos_9_9_im,tf.data.Dataset.from_tensor_slices(tf.ones(len(neg_1_im)))))\n",
    "data1=data1.concatenate(q)\n",
    "q = tf.data.Dataset.zip((anc_9_im,pos_9_10_im,tf.data.Dataset.from_tensor_slices(tf.ones(len(neg_1_im)))))\n",
    "data1=data1.concatenate(q)\n",
    "q = tf.data.Dataset.zip((anc_9_im,pos_9_11_im,tf.data.Dataset.from_tensor_slices(tf.ones(len(neg_1_im)))))\n",
    "data1=data1.concatenate(q)\n",
    "q = tf.data.Dataset.zip((anc_9_im,pos_9_12_im,tf.data.Dataset.from_tensor_slices(tf.ones(len(neg_1_im)))))\n",
    "data1=data1.concatenate(q)\n",
    "q = tf.data.Dataset.zip((anc_9_im,pos_9_13_im,tf.data.Dataset.from_tensor_slices(tf.ones(len(neg_1_im)))))\n",
    "data1=data1.concatenate(q)\n",
    "q = tf.data.Dataset.zip((anc_9_im,pos_9_14_im,tf.data.Dataset.from_tensor_slices(tf.ones(len(neg_1_im)))))\n",
    "data1=data1.concatenate(q)\n",
    "q = tf.data.Dataset.zip((anc_9_im,pos_9_15_im,tf.data.Dataset.from_tensor_slices(tf.ones(len(neg_1_im)))))\n",
    "data1=data1.concatenate(q)\n",
    "q = tf.data.Dataset.zip((anc_9_im,pos_9_16_im,tf.data.Dataset.from_tensor_slices(tf.ones(len(neg_1_im)))))\n",
    "data1=data1.concatenate(q)\n",
    "print(len(data1))"
   ]
  },
  {
   "cell_type": "code",
   "execution_count": 81,
   "id": "fd7f1c5f",
   "metadata": {},
   "outputs": [
    {
     "name": "stdout",
     "output_type": "stream",
     "text": [
      "4940\n"
     ]
    }
   ],
   "source": [
    "#pos_10_0_im,anc_10_im\n",
    "q = tf.data.Dataset.zip((anc_10_im,pos_10_0_im,tf.data.Dataset.from_tensor_slices(tf.ones(len(neg_1_im)))))\n",
    "data1=data1.concatenate(q)\n",
    "q = tf.data.Dataset.zip((anc_10_im,pos_10_1_im,tf.data.Dataset.from_tensor_slices(tf.ones(len(neg_1_im)))))\n",
    "data1=data1.concatenate(q)\n",
    "q = tf.data.Dataset.zip((anc_10_im,pos_10_2_im,tf.data.Dataset.from_tensor_slices(tf.ones(len(neg_1_im)))))\n",
    "data1=data1.concatenate(q)\n",
    "q = tf.data.Dataset.zip((anc_10_im,pos_10_3_im,tf.data.Dataset.from_tensor_slices(tf.ones(len(neg_1_im)))))\n",
    "data1=data1.concatenate(q)\n",
    "q = tf.data.Dataset.zip((anc_10_im,pos_10_4_im,tf.data.Dataset.from_tensor_slices(tf.ones(len(neg_1_im)))))\n",
    "data1=data1.concatenate(q)\n",
    "q = tf.data.Dataset.zip((anc_10_im,pos_10_5_im,tf.data.Dataset.from_tensor_slices(tf.ones(len(neg_1_im)))))\n",
    "data1=data1.concatenate(q)\n",
    "q = tf.data.Dataset.zip((anc_10_im,pos_10_6_im,tf.data.Dataset.from_tensor_slices(tf.ones(len(neg_1_im)))))\n",
    "data1=data1.concatenate(q)\n",
    "q = tf.data.Dataset.zip((anc_10_im,pos_10_7_im,tf.data.Dataset.from_tensor_slices(tf.ones(len(neg_1_im)))))\n",
    "data1=data1.concatenate(q)\n",
    "q = tf.data.Dataset.zip((anc_10_im,pos_10_8_im,tf.data.Dataset.from_tensor_slices(tf.ones(len(neg_1_im)))))\n",
    "data1=data1.concatenate(q)\n",
    "q = tf.data.Dataset.zip((anc_10_im,pos_10_9_im,tf.data.Dataset.from_tensor_slices(tf.ones(len(neg_1_im)))))\n",
    "data1=data1.concatenate(q)\n",
    "q = tf.data.Dataset.zip((anc_10_im,pos_10_10_im,tf.data.Dataset.from_tensor_slices(tf.ones(len(neg_1_im)))))\n",
    "data1=data1.concatenate(q)\n",
    "q = tf.data.Dataset.zip((anc_10_im,pos_10_11_im,tf.data.Dataset.from_tensor_slices(tf.ones(len(neg_1_im)))))\n",
    "data1=data1.concatenate(q)\n",
    "q = tf.data.Dataset.zip((anc_10_im,pos_10_12_im,tf.data.Dataset.from_tensor_slices(tf.ones(len(neg_1_im)))))\n",
    "data1=data1.concatenate(q)\n",
    "q = tf.data.Dataset.zip((anc_10_im,pos_10_13_im,tf.data.Dataset.from_tensor_slices(tf.ones(len(neg_1_im)))))\n",
    "data1=data1.concatenate(q)\n",
    "q = tf.data.Dataset.zip((anc_10_im,pos_10_14_im,tf.data.Dataset.from_tensor_slices(tf.ones(len(neg_1_im)))))\n",
    "data1=data1.concatenate(q)\n",
    "q = tf.data.Dataset.zip((anc_10_im,pos_10_15_im,tf.data.Dataset.from_tensor_slices(tf.ones(len(neg_1_im)))))\n",
    "data1=data1.concatenate(q)\n",
    "q = tf.data.Dataset.zip((anc_10_im,pos_10_16_im,tf.data.Dataset.from_tensor_slices(tf.ones(len(neg_1_im)))))\n",
    "data1=data1.concatenate(q)\n",
    "print(len(data1))"
   ]
  },
  {
   "cell_type": "code",
   "execution_count": 82,
   "id": "54a380d8",
   "metadata": {},
   "outputs": [
    {
     "name": "stdout",
     "output_type": "stream",
     "text": [
      "5110\n"
     ]
    }
   ],
   "source": [
    "#pos_11_0_im,anc_11_im\n",
    "q = tf.data.Dataset.zip((anc_11_im,pos_11_0_im,tf.data.Dataset.from_tensor_slices(tf.ones(len(neg_1_im)))))\n",
    "data1=data1.concatenate(q)\n",
    "q = tf.data.Dataset.zip((anc_11_im,pos_11_1_im,tf.data.Dataset.from_tensor_slices(tf.ones(len(neg_1_im)))))\n",
    "data1=data1.concatenate(q)\n",
    "q = tf.data.Dataset.zip((anc_11_im,pos_11_2_im,tf.data.Dataset.from_tensor_slices(tf.ones(len(neg_1_im)))))\n",
    "data1=data1.concatenate(q)\n",
    "q = tf.data.Dataset.zip((anc_11_im,pos_11_3_im,tf.data.Dataset.from_tensor_slices(tf.ones(len(neg_1_im)))))\n",
    "data1=data1.concatenate(q)\n",
    "q = tf.data.Dataset.zip((anc_11_im,pos_11_4_im,tf.data.Dataset.from_tensor_slices(tf.ones(len(neg_1_im)))))\n",
    "data1=data1.concatenate(q)\n",
    "q = tf.data.Dataset.zip((anc_11_im,pos_11_5_im,tf.data.Dataset.from_tensor_slices(tf.ones(len(neg_1_im)))))\n",
    "data1=data1.concatenate(q)\n",
    "q = tf.data.Dataset.zip((anc_11_im,pos_11_6_im,tf.data.Dataset.from_tensor_slices(tf.ones(len(neg_1_im)))))\n",
    "data1=data1.concatenate(q)\n",
    "q = tf.data.Dataset.zip((anc_11_im,pos_11_7_im,tf.data.Dataset.from_tensor_slices(tf.ones(len(neg_1_im)))))\n",
    "data1=data1.concatenate(q)\n",
    "q = tf.data.Dataset.zip((anc_11_im,pos_11_8_im,tf.data.Dataset.from_tensor_slices(tf.ones(len(neg_1_im)))))\n",
    "data1=data1.concatenate(q)\n",
    "q = tf.data.Dataset.zip((anc_11_im,pos_11_9_im,tf.data.Dataset.from_tensor_slices(tf.ones(len(neg_1_im)))))\n",
    "data1=data1.concatenate(q)\n",
    "q = tf.data.Dataset.zip((anc_11_im,pos_11_10_im,tf.data.Dataset.from_tensor_slices(tf.ones(len(neg_1_im)))))\n",
    "data1=data1.concatenate(q)\n",
    "q = tf.data.Dataset.zip((anc_11_im,pos_11_11_im,tf.data.Dataset.from_tensor_slices(tf.ones(len(neg_1_im)))))\n",
    "data1=data1.concatenate(q)\n",
    "q = tf.data.Dataset.zip((anc_11_im,pos_11_12_im,tf.data.Dataset.from_tensor_slices(tf.ones(len(neg_1_im)))))\n",
    "data1=data1.concatenate(q)\n",
    "q = tf.data.Dataset.zip((anc_11_im,pos_11_13_im,tf.data.Dataset.from_tensor_slices(tf.ones(len(neg_1_im)))))\n",
    "data1=data1.concatenate(q)\n",
    "q = tf.data.Dataset.zip((anc_11_im,pos_11_14_im,tf.data.Dataset.from_tensor_slices(tf.ones(len(neg_1_im)))))\n",
    "data1=data1.concatenate(q)\n",
    "q = tf.data.Dataset.zip((anc_11_im,pos_11_15_im,tf.data.Dataset.from_tensor_slices(tf.ones(len(neg_1_im)))))\n",
    "data1=data1.concatenate(q)\n",
    "q = tf.data.Dataset.zip((anc_11_im,pos_11_16_im,tf.data.Dataset.from_tensor_slices(tf.ones(len(neg_1_im)))))\n",
    "data1=data1.concatenate(q)\n",
    "print(len(data1))"
   ]
  },
  {
   "cell_type": "code",
   "execution_count": 83,
   "id": "881e489b",
   "metadata": {},
   "outputs": [
    {
     "name": "stdout",
     "output_type": "stream",
     "text": [
      "5280\n"
     ]
    }
   ],
   "source": [
    "#pos_12_0_im,anc_12_im\n",
    "q = tf.data.Dataset.zip((anc_12_im,pos_12_0_im,tf.data.Dataset.from_tensor_slices(tf.ones(len(neg_1_im)))))\n",
    "data1=data1.concatenate(q)\n",
    "q = tf.data.Dataset.zip((anc_12_im,pos_12_1_im,tf.data.Dataset.from_tensor_slices(tf.ones(len(neg_1_im)))))\n",
    "data1=data1.concatenate(q)\n",
    "q = tf.data.Dataset.zip((anc_12_im,pos_12_2_im,tf.data.Dataset.from_tensor_slices(tf.ones(len(neg_1_im)))))\n",
    "data1=data1.concatenate(q)\n",
    "q = tf.data.Dataset.zip((anc_12_im,pos_12_3_im,tf.data.Dataset.from_tensor_slices(tf.ones(len(neg_1_im)))))\n",
    "data1=data1.concatenate(q)\n",
    "q = tf.data.Dataset.zip((anc_12_im,pos_12_4_im,tf.data.Dataset.from_tensor_slices(tf.ones(len(neg_1_im)))))\n",
    "data1=data1.concatenate(q)\n",
    "q = tf.data.Dataset.zip((anc_12_im,pos_12_5_im,tf.data.Dataset.from_tensor_slices(tf.ones(len(neg_1_im)))))\n",
    "data1=data1.concatenate(q)\n",
    "q = tf.data.Dataset.zip((anc_12_im,pos_12_6_im,tf.data.Dataset.from_tensor_slices(tf.ones(len(neg_1_im)))))\n",
    "data1=data1.concatenate(q)\n",
    "q = tf.data.Dataset.zip((anc_12_im,pos_12_7_im,tf.data.Dataset.from_tensor_slices(tf.ones(len(neg_1_im)))))\n",
    "data1=data1.concatenate(q)\n",
    "q = tf.data.Dataset.zip((anc_12_im,pos_12_8_im,tf.data.Dataset.from_tensor_slices(tf.ones(len(neg_1_im)))))\n",
    "data1=data1.concatenate(q)\n",
    "q = tf.data.Dataset.zip((anc_12_im,pos_12_9_im,tf.data.Dataset.from_tensor_slices(tf.ones(len(neg_1_im)))))\n",
    "data1=data1.concatenate(q)\n",
    "q = tf.data.Dataset.zip((anc_12_im,pos_12_10_im,tf.data.Dataset.from_tensor_slices(tf.ones(len(neg_1_im)))))\n",
    "data1=data1.concatenate(q)\n",
    "q = tf.data.Dataset.zip((anc_12_im,pos_12_11_im,tf.data.Dataset.from_tensor_slices(tf.ones(len(neg_1_im)))))\n",
    "data1=data1.concatenate(q)\n",
    "q = tf.data.Dataset.zip((anc_12_im,pos_12_12_im,tf.data.Dataset.from_tensor_slices(tf.ones(len(neg_1_im)))))\n",
    "data1=data1.concatenate(q)\n",
    "q = tf.data.Dataset.zip((anc_12_im,pos_12_13_im,tf.data.Dataset.from_tensor_slices(tf.ones(len(neg_1_im)))))\n",
    "data1=data1.concatenate(q)\n",
    "q = tf.data.Dataset.zip((anc_12_im,pos_12_14_im,tf.data.Dataset.from_tensor_slices(tf.ones(len(neg_1_im)))))\n",
    "data1=data1.concatenate(q)\n",
    "q = tf.data.Dataset.zip((anc_12_im,pos_12_15_im,tf.data.Dataset.from_tensor_slices(tf.ones(len(neg_1_im)))))\n",
    "data1=data1.concatenate(q)\n",
    "q = tf.data.Dataset.zip((anc_12_im,pos_12_16_im,tf.data.Dataset.from_tensor_slices(tf.ones(len(neg_1_im)))))\n",
    "data1=data1.concatenate(q)\n",
    "print(len(data1))"
   ]
  },
  {
   "cell_type": "code",
   "execution_count": 84,
   "id": "75f24cab",
   "metadata": {},
   "outputs": [
    {
     "name": "stdout",
     "output_type": "stream",
     "text": [
      "5450\n"
     ]
    }
   ],
   "source": [
    "#pos_13_0_im,anc_13_im\n",
    "q = tf.data.Dataset.zip((anc_13_im,pos_13_0_im,tf.data.Dataset.from_tensor_slices(tf.ones(len(neg_1_im)))))\n",
    "data1=data1.concatenate(q)\n",
    "q = tf.data.Dataset.zip((anc_13_im,pos_13_1_im,tf.data.Dataset.from_tensor_slices(tf.ones(len(neg_1_im)))))\n",
    "data1=data1.concatenate(q)\n",
    "q = tf.data.Dataset.zip((anc_13_im,pos_13_2_im,tf.data.Dataset.from_tensor_slices(tf.ones(len(neg_1_im)))))\n",
    "data1=data1.concatenate(q)\n",
    "q = tf.data.Dataset.zip((anc_13_im,pos_13_3_im,tf.data.Dataset.from_tensor_slices(tf.ones(len(neg_1_im)))))\n",
    "data1=data1.concatenate(q)\n",
    "q = tf.data.Dataset.zip((anc_13_im,pos_13_4_im,tf.data.Dataset.from_tensor_slices(tf.ones(len(neg_1_im)))))\n",
    "data1=data1.concatenate(q)\n",
    "q = tf.data.Dataset.zip((anc_13_im,pos_13_5_im,tf.data.Dataset.from_tensor_slices(tf.ones(len(neg_1_im)))))\n",
    "data1=data1.concatenate(q)\n",
    "q = tf.data.Dataset.zip((anc_13_im,pos_13_6_im,tf.data.Dataset.from_tensor_slices(tf.ones(len(neg_1_im)))))\n",
    "data1=data1.concatenate(q)\n",
    "q = tf.data.Dataset.zip((anc_13_im,pos_13_7_im,tf.data.Dataset.from_tensor_slices(tf.ones(len(neg_1_im)))))\n",
    "data1=data1.concatenate(q)\n",
    "q = tf.data.Dataset.zip((anc_13_im,pos_13_8_im,tf.data.Dataset.from_tensor_slices(tf.ones(len(neg_1_im)))))\n",
    "data1=data1.concatenate(q)\n",
    "q = tf.data.Dataset.zip((anc_13_im,pos_13_9_im,tf.data.Dataset.from_tensor_slices(tf.ones(len(neg_1_im)))))\n",
    "data1=data1.concatenate(q)\n",
    "q = tf.data.Dataset.zip((anc_13_im,pos_13_10_im,tf.data.Dataset.from_tensor_slices(tf.ones(len(neg_1_im)))))\n",
    "data1=data1.concatenate(q)\n",
    "q = tf.data.Dataset.zip((anc_13_im,pos_13_11_im,tf.data.Dataset.from_tensor_slices(tf.ones(len(neg_1_im)))))\n",
    "data1=data1.concatenate(q)\n",
    "q = tf.data.Dataset.zip((anc_13_im,pos_13_12_im,tf.data.Dataset.from_tensor_slices(tf.ones(len(neg_1_im)))))\n",
    "data1=data1.concatenate(q)\n",
    "q = tf.data.Dataset.zip((anc_13_im,pos_13_13_im,tf.data.Dataset.from_tensor_slices(tf.ones(len(neg_1_im)))))\n",
    "data1=data1.concatenate(q)\n",
    "q = tf.data.Dataset.zip((anc_13_im,pos_13_14_im,tf.data.Dataset.from_tensor_slices(tf.ones(len(neg_1_im)))))\n",
    "data1=data1.concatenate(q)\n",
    "q = tf.data.Dataset.zip((anc_13_im,pos_13_15_im,tf.data.Dataset.from_tensor_slices(tf.ones(len(neg_1_im)))))\n",
    "data1=data1.concatenate(q)\n",
    "q = tf.data.Dataset.zip((anc_13_im,pos_13_16_im,tf.data.Dataset.from_tensor_slices(tf.ones(len(neg_1_im)))))\n",
    "data1=data1.concatenate(q)\n",
    "print(len(data1))"
   ]
  },
  {
   "cell_type": "code",
   "execution_count": 85,
   "id": "09a7b5d5",
   "metadata": {},
   "outputs": [
    {
     "name": "stdout",
     "output_type": "stream",
     "text": [
      "5620\n"
     ]
    }
   ],
   "source": [
    "#pos_14_0_im,anc_14_im\n",
    "q = tf.data.Dataset.zip((anc_14_im,pos_14_0_im,tf.data.Dataset.from_tensor_slices(tf.ones(len(neg_1_im)))))\n",
    "data1=data1.concatenate(q)\n",
    "q = tf.data.Dataset.zip((anc_14_im,pos_14_1_im,tf.data.Dataset.from_tensor_slices(tf.ones(len(neg_1_im)))))\n",
    "data1=data1.concatenate(q)\n",
    "q = tf.data.Dataset.zip((anc_14_im,pos_14_2_im,tf.data.Dataset.from_tensor_slices(tf.ones(len(neg_1_im)))))\n",
    "data1=data1.concatenate(q)\n",
    "q = tf.data.Dataset.zip((anc_14_im,pos_14_3_im,tf.data.Dataset.from_tensor_slices(tf.ones(len(neg_1_im)))))\n",
    "data1=data1.concatenate(q)\n",
    "q = tf.data.Dataset.zip((anc_14_im,pos_14_4_im,tf.data.Dataset.from_tensor_slices(tf.ones(len(neg_1_im)))))\n",
    "data1=data1.concatenate(q)\n",
    "q = tf.data.Dataset.zip((anc_14_im,pos_14_5_im,tf.data.Dataset.from_tensor_slices(tf.ones(len(neg_1_im)))))\n",
    "data1=data1.concatenate(q)\n",
    "q = tf.data.Dataset.zip((anc_14_im,pos_14_6_im,tf.data.Dataset.from_tensor_slices(tf.ones(len(neg_1_im)))))\n",
    "data1=data1.concatenate(q)\n",
    "q = tf.data.Dataset.zip((anc_14_im,pos_14_7_im,tf.data.Dataset.from_tensor_slices(tf.ones(len(neg_1_im)))))\n",
    "data1=data1.concatenate(q)\n",
    "q = tf.data.Dataset.zip((anc_14_im,pos_14_8_im,tf.data.Dataset.from_tensor_slices(tf.ones(len(neg_1_im)))))\n",
    "data1=data1.concatenate(q)\n",
    "q = tf.data.Dataset.zip((anc_14_im,pos_14_9_im,tf.data.Dataset.from_tensor_slices(tf.ones(len(neg_1_im)))))\n",
    "data1=data1.concatenate(q)\n",
    "q = tf.data.Dataset.zip((anc_14_im,pos_14_10_im,tf.data.Dataset.from_tensor_slices(tf.ones(len(neg_1_im)))))\n",
    "data1=data1.concatenate(q)\n",
    "q = tf.data.Dataset.zip((anc_14_im,pos_14_11_im,tf.data.Dataset.from_tensor_slices(tf.ones(len(neg_1_im)))))\n",
    "data1=data1.concatenate(q)\n",
    "q = tf.data.Dataset.zip((anc_14_im,pos_14_12_im,tf.data.Dataset.from_tensor_slices(tf.ones(len(neg_1_im)))))\n",
    "data1=data1.concatenate(q)\n",
    "q = tf.data.Dataset.zip((anc_14_im,pos_14_13_im,tf.data.Dataset.from_tensor_slices(tf.ones(len(neg_1_im)))))\n",
    "data1=data1.concatenate(q)\n",
    "q = tf.data.Dataset.zip((anc_14_im,pos_14_14_im,tf.data.Dataset.from_tensor_slices(tf.ones(len(neg_1_im)))))\n",
    "data1=data1.concatenate(q)\n",
    "q = tf.data.Dataset.zip((anc_14_im,pos_14_15_im,tf.data.Dataset.from_tensor_slices(tf.ones(len(neg_1_im)))))\n",
    "data1=data1.concatenate(q)\n",
    "q = tf.data.Dataset.zip((anc_14_im,pos_14_16_im,tf.data.Dataset.from_tensor_slices(tf.ones(len(neg_1_im)))))\n",
    "data1=data1.concatenate(q)\n",
    "print(len(data1))"
   ]
  },
  {
   "cell_type": "code",
   "execution_count": 86,
   "id": "a33fd1e7",
   "metadata": {},
   "outputs": [
    {
     "name": "stdout",
     "output_type": "stream",
     "text": [
      "5790\n"
     ]
    }
   ],
   "source": [
    "#pos_15_0_im,anc_15_im\n",
    "q = tf.data.Dataset.zip((anc_15_im,pos_15_0_im,tf.data.Dataset.from_tensor_slices(tf.ones(len(neg_1_im)))))\n",
    "data1=data1.concatenate(q)\n",
    "q = tf.data.Dataset.zip((anc_15_im,pos_15_1_im,tf.data.Dataset.from_tensor_slices(tf.ones(len(neg_1_im)))))\n",
    "data1=data1.concatenate(q)\n",
    "q = tf.data.Dataset.zip((anc_15_im,pos_15_2_im,tf.data.Dataset.from_tensor_slices(tf.ones(len(neg_1_im)))))\n",
    "data1=data1.concatenate(q)\n",
    "q = tf.data.Dataset.zip((anc_15_im,pos_15_3_im,tf.data.Dataset.from_tensor_slices(tf.ones(len(neg_1_im)))))\n",
    "data1=data1.concatenate(q)\n",
    "q = tf.data.Dataset.zip((anc_15_im,pos_15_4_im,tf.data.Dataset.from_tensor_slices(tf.ones(len(neg_1_im)))))\n",
    "data1=data1.concatenate(q)\n",
    "q = tf.data.Dataset.zip((anc_15_im,pos_15_5_im,tf.data.Dataset.from_tensor_slices(tf.ones(len(neg_1_im)))))\n",
    "data1=data1.concatenate(q)\n",
    "q = tf.data.Dataset.zip((anc_15_im,pos_15_6_im,tf.data.Dataset.from_tensor_slices(tf.ones(len(neg_1_im)))))\n",
    "data1=data1.concatenate(q)\n",
    "q = tf.data.Dataset.zip((anc_15_im,pos_15_7_im,tf.data.Dataset.from_tensor_slices(tf.ones(len(neg_1_im)))))\n",
    "data1=data1.concatenate(q)\n",
    "q = tf.data.Dataset.zip((anc_15_im,pos_15_8_im,tf.data.Dataset.from_tensor_slices(tf.ones(len(neg_1_im)))))\n",
    "data1=data1.concatenate(q)\n",
    "q = tf.data.Dataset.zip((anc_15_im,pos_15_9_im,tf.data.Dataset.from_tensor_slices(tf.ones(len(neg_1_im)))))\n",
    "data1=data1.concatenate(q)\n",
    "q = tf.data.Dataset.zip((anc_15_im,pos_15_10_im,tf.data.Dataset.from_tensor_slices(tf.ones(len(neg_1_im)))))\n",
    "data1=data1.concatenate(q)\n",
    "q = tf.data.Dataset.zip((anc_15_im,pos_15_11_im,tf.data.Dataset.from_tensor_slices(tf.ones(len(neg_1_im)))))\n",
    "data1=data1.concatenate(q)\n",
    "q = tf.data.Dataset.zip((anc_15_im,pos_15_12_im,tf.data.Dataset.from_tensor_slices(tf.ones(len(neg_1_im)))))\n",
    "data1=data1.concatenate(q)\n",
    "q = tf.data.Dataset.zip((anc_15_im,pos_15_13_im,tf.data.Dataset.from_tensor_slices(tf.ones(len(neg_1_im)))))\n",
    "data1=data1.concatenate(q)\n",
    "q = tf.data.Dataset.zip((anc_15_im,pos_15_14_im,tf.data.Dataset.from_tensor_slices(tf.ones(len(neg_1_im)))))\n",
    "data1=data1.concatenate(q)\n",
    "q = tf.data.Dataset.zip((anc_15_im,pos_15_15_im,tf.data.Dataset.from_tensor_slices(tf.ones(len(neg_1_im)))))\n",
    "data1=data1.concatenate(q)\n",
    "q = tf.data.Dataset.zip((anc_15_im,pos_15_16_im,tf.data.Dataset.from_tensor_slices(tf.ones(len(neg_1_im)))))\n",
    "data1=data1.concatenate(q)\n",
    "print(len(data1))"
   ]
  },
  {
   "cell_type": "code",
   "execution_count": 87,
   "id": "e6510759",
   "metadata": {},
   "outputs": [
    {
     "name": "stdout",
     "output_type": "stream",
     "text": [
      "5960\n"
     ]
    }
   ],
   "source": [
    "#pos_16_0_im,anc_16_im\n",
    "q = tf.data.Dataset.zip((anc_16_im,pos_16_0_im,tf.data.Dataset.from_tensor_slices(tf.ones(len(neg_1_im)))))\n",
    "data1=data1.concatenate(q)\n",
    "q = tf.data.Dataset.zip((anc_16_im,pos_16_1_im,tf.data.Dataset.from_tensor_slices(tf.ones(len(neg_1_im)))))\n",
    "data1=data1.concatenate(q)\n",
    "q = tf.data.Dataset.zip((anc_16_im,pos_16_2_im,tf.data.Dataset.from_tensor_slices(tf.ones(len(neg_1_im)))))\n",
    "data1=data1.concatenate(q)\n",
    "q = tf.data.Dataset.zip((anc_16_im,pos_16_3_im,tf.data.Dataset.from_tensor_slices(tf.ones(len(neg_1_im)))))\n",
    "data1=data1.concatenate(q)\n",
    "q = tf.data.Dataset.zip((anc_16_im,pos_16_4_im,tf.data.Dataset.from_tensor_slices(tf.ones(len(neg_1_im)))))\n",
    "data1=data1.concatenate(q)\n",
    "q = tf.data.Dataset.zip((anc_16_im,pos_16_5_im,tf.data.Dataset.from_tensor_slices(tf.ones(len(neg_1_im)))))\n",
    "data1=data1.concatenate(q)\n",
    "q = tf.data.Dataset.zip((anc_16_im,pos_16_6_im,tf.data.Dataset.from_tensor_slices(tf.ones(len(neg_1_im)))))\n",
    "data1=data1.concatenate(q)\n",
    "q = tf.data.Dataset.zip((anc_16_im,pos_16_7_im,tf.data.Dataset.from_tensor_slices(tf.ones(len(neg_1_im)))))\n",
    "data1=data1.concatenate(q)\n",
    "q = tf.data.Dataset.zip((anc_16_im,pos_16_8_im,tf.data.Dataset.from_tensor_slices(tf.ones(len(neg_1_im)))))\n",
    "data1=data1.concatenate(q)\n",
    "q = tf.data.Dataset.zip((anc_16_im,pos_16_9_im,tf.data.Dataset.from_tensor_slices(tf.ones(len(neg_1_im)))))\n",
    "data1=data1.concatenate(q)\n",
    "q = tf.data.Dataset.zip((anc_16_im,pos_16_10_im,tf.data.Dataset.from_tensor_slices(tf.ones(len(neg_1_im)))))\n",
    "data1=data1.concatenate(q)\n",
    "q = tf.data.Dataset.zip((anc_16_im,pos_16_11_im,tf.data.Dataset.from_tensor_slices(tf.ones(len(neg_1_im)))))\n",
    "data1=data1.concatenate(q)\n",
    "q = tf.data.Dataset.zip((anc_16_im,pos_16_12_im,tf.data.Dataset.from_tensor_slices(tf.ones(len(neg_1_im)))))\n",
    "data1=data1.concatenate(q)\n",
    "q = tf.data.Dataset.zip((anc_16_im,pos_16_13_im,tf.data.Dataset.from_tensor_slices(tf.ones(len(neg_1_im)))))\n",
    "data1=data1.concatenate(q)\n",
    "q = tf.data.Dataset.zip((anc_16_im,pos_16_14_im,tf.data.Dataset.from_tensor_slices(tf.ones(len(neg_1_im)))))\n",
    "data1=data1.concatenate(q)\n",
    "q = tf.data.Dataset.zip((anc_16_im,pos_16_15_im,tf.data.Dataset.from_tensor_slices(tf.ones(len(neg_1_im)))))\n",
    "data1=data1.concatenate(q)\n",
    "q = tf.data.Dataset.zip((anc_16_im,pos_16_16_im,tf.data.Dataset.from_tensor_slices(tf.ones(len(neg_1_im)))))\n",
    "data1=data1.concatenate(q)\n",
    "print(len(data1))"
   ]
  },
  {
   "cell_type": "code",
   "execution_count": 88,
   "id": "35480eb3",
   "metadata": {},
   "outputs": [
    {
     "name": "stdout",
     "output_type": "stream",
     "text": [
      "6130\n"
     ]
    }
   ],
   "source": [
    "#pos_17_0_im,anc_17_im\n",
    "q = tf.data.Dataset.zip((anc_17_im,pos_17_0_im,tf.data.Dataset.from_tensor_slices(tf.ones(len(neg_1_im)))))\n",
    "data1=data1.concatenate(q)\n",
    "q = tf.data.Dataset.zip((anc_17_im,pos_17_1_im,tf.data.Dataset.from_tensor_slices(tf.ones(len(neg_1_im)))))\n",
    "data1=data1.concatenate(q)\n",
    "q = tf.data.Dataset.zip((anc_17_im,pos_17_2_im,tf.data.Dataset.from_tensor_slices(tf.ones(len(neg_1_im)))))\n",
    "data1=data1.concatenate(q)\n",
    "q = tf.data.Dataset.zip((anc_17_im,pos_17_3_im,tf.data.Dataset.from_tensor_slices(tf.ones(len(neg_1_im)))))\n",
    "data1=data1.concatenate(q)\n",
    "q = tf.data.Dataset.zip((anc_17_im,pos_17_4_im,tf.data.Dataset.from_tensor_slices(tf.ones(len(neg_1_im)))))\n",
    "data1=data1.concatenate(q)\n",
    "q = tf.data.Dataset.zip((anc_17_im,pos_17_5_im,tf.data.Dataset.from_tensor_slices(tf.ones(len(neg_1_im)))))\n",
    "data1=data1.concatenate(q)\n",
    "q = tf.data.Dataset.zip((anc_17_im,pos_17_6_im,tf.data.Dataset.from_tensor_slices(tf.ones(len(neg_1_im)))))\n",
    "data1=data1.concatenate(q)\n",
    "q = tf.data.Dataset.zip((anc_17_im,pos_17_7_im,tf.data.Dataset.from_tensor_slices(tf.ones(len(neg_1_im)))))\n",
    "data1=data1.concatenate(q)\n",
    "q = tf.data.Dataset.zip((anc_17_im,pos_17_8_im,tf.data.Dataset.from_tensor_slices(tf.ones(len(neg_1_im)))))\n",
    "data1=data1.concatenate(q)\n",
    "q = tf.data.Dataset.zip((anc_17_im,pos_17_9_im,tf.data.Dataset.from_tensor_slices(tf.ones(len(neg_1_im)))))\n",
    "data1=data1.concatenate(q)\n",
    "q = tf.data.Dataset.zip((anc_17_im,pos_17_10_im,tf.data.Dataset.from_tensor_slices(tf.ones(len(neg_1_im)))))\n",
    "data1=data1.concatenate(q)\n",
    "q = tf.data.Dataset.zip((anc_17_im,pos_17_11_im,tf.data.Dataset.from_tensor_slices(tf.ones(len(neg_1_im)))))\n",
    "data1=data1.concatenate(q)\n",
    "q = tf.data.Dataset.zip((anc_17_im,pos_17_12_im,tf.data.Dataset.from_tensor_slices(tf.ones(len(neg_1_im)))))\n",
    "data1=data1.concatenate(q)\n",
    "q = tf.data.Dataset.zip((anc_17_im,pos_17_13_im,tf.data.Dataset.from_tensor_slices(tf.ones(len(neg_1_im)))))\n",
    "data1=data1.concatenate(q)\n",
    "q = tf.data.Dataset.zip((anc_17_im,pos_17_14_im,tf.data.Dataset.from_tensor_slices(tf.ones(len(neg_1_im)))))\n",
    "data1=data1.concatenate(q)\n",
    "q = tf.data.Dataset.zip((anc_17_im,pos_17_15_im,tf.data.Dataset.from_tensor_slices(tf.ones(len(neg_1_im)))))\n",
    "data1=data1.concatenate(q)\n",
    "q = tf.data.Dataset.zip((anc_17_im,pos_17_16_im,tf.data.Dataset.from_tensor_slices(tf.ones(len(neg_1_im)))))\n",
    "data1=data1.concatenate(q)\n",
    "print(len(data1))"
   ]
  },
  {
   "cell_type": "code",
   "execution_count": 89,
   "id": "df776629",
   "metadata": {},
   "outputs": [
    {
     "name": "stdout",
     "output_type": "stream",
     "text": [
      "6300\n"
     ]
    }
   ],
   "source": [
    "#pos_18_0_im,anc_18_im\n",
    "q = tf.data.Dataset.zip((anc_18_im,pos_18_0_im,tf.data.Dataset.from_tensor_slices(tf.ones(len(neg_1_im)))))\n",
    "data1=data1.concatenate(q)\n",
    "q = tf.data.Dataset.zip((anc_18_im,pos_18_1_im,tf.data.Dataset.from_tensor_slices(tf.ones(len(neg_1_im)))))\n",
    "data1=data1.concatenate(q)\n",
    "q = tf.data.Dataset.zip((anc_18_im,pos_18_2_im,tf.data.Dataset.from_tensor_slices(tf.ones(len(neg_1_im)))))\n",
    "data1=data1.concatenate(q)\n",
    "q = tf.data.Dataset.zip((anc_18_im,pos_18_3_im,tf.data.Dataset.from_tensor_slices(tf.ones(len(neg_1_im)))))\n",
    "data1=data1.concatenate(q)\n",
    "q = tf.data.Dataset.zip((anc_18_im,pos_18_4_im,tf.data.Dataset.from_tensor_slices(tf.ones(len(neg_1_im)))))\n",
    "data1=data1.concatenate(q)\n",
    "q = tf.data.Dataset.zip((anc_18_im,pos_18_5_im,tf.data.Dataset.from_tensor_slices(tf.ones(len(neg_1_im)))))\n",
    "data1=data1.concatenate(q)\n",
    "q = tf.data.Dataset.zip((anc_18_im,pos_18_6_im,tf.data.Dataset.from_tensor_slices(tf.ones(len(neg_1_im)))))\n",
    "data1=data1.concatenate(q)\n",
    "q = tf.data.Dataset.zip((anc_18_im,pos_18_7_im,tf.data.Dataset.from_tensor_slices(tf.ones(len(neg_1_im)))))\n",
    "data1=data1.concatenate(q)\n",
    "q = tf.data.Dataset.zip((anc_18_im,pos_18_8_im,tf.data.Dataset.from_tensor_slices(tf.ones(len(neg_1_im)))))\n",
    "data1=data1.concatenate(q)\n",
    "q = tf.data.Dataset.zip((anc_18_im,pos_18_9_im,tf.data.Dataset.from_tensor_slices(tf.ones(len(neg_1_im)))))\n",
    "data1=data1.concatenate(q)\n",
    "q = tf.data.Dataset.zip((anc_18_im,pos_18_10_im,tf.data.Dataset.from_tensor_slices(tf.ones(len(neg_1_im)))))\n",
    "data1=data1.concatenate(q)\n",
    "q = tf.data.Dataset.zip((anc_18_im,pos_18_11_im,tf.data.Dataset.from_tensor_slices(tf.ones(len(neg_1_im)))))\n",
    "data1=data1.concatenate(q)\n",
    "q = tf.data.Dataset.zip((anc_18_im,pos_18_12_im,tf.data.Dataset.from_tensor_slices(tf.ones(len(neg_1_im)))))\n",
    "data1=data1.concatenate(q)\n",
    "q = tf.data.Dataset.zip((anc_18_im,pos_18_13_im,tf.data.Dataset.from_tensor_slices(tf.ones(len(neg_1_im)))))\n",
    "data1=data1.concatenate(q)\n",
    "q = tf.data.Dataset.zip((anc_18_im,pos_18_14_im,tf.data.Dataset.from_tensor_slices(tf.ones(len(neg_1_im)))))\n",
    "data1=data1.concatenate(q)\n",
    "q = tf.data.Dataset.zip((anc_18_im,pos_18_15_im,tf.data.Dataset.from_tensor_slices(tf.ones(len(neg_1_im)))))\n",
    "data1=data1.concatenate(q)\n",
    "q = tf.data.Dataset.zip((anc_18_im,pos_18_16_im,tf.data.Dataset.from_tensor_slices(tf.ones(len(neg_1_im)))))\n",
    "data1=data1.concatenate(q)\n",
    "print(len(data1))"
   ]
  },
  {
   "cell_type": "code",
   "execution_count": 90,
   "id": "f28b6387",
   "metadata": {},
   "outputs": [
    {
     "name": "stdout",
     "output_type": "stream",
     "text": [
      "6470\n"
     ]
    }
   ],
   "source": [
    "#pos_19_0_im,anc_19_im\n",
    "q = tf.data.Dataset.zip((anc_19_im,pos_19_0_im,tf.data.Dataset.from_tensor_slices(tf.ones(len(neg_1_im)))))\n",
    "data1=data1.concatenate(q)\n",
    "q = tf.data.Dataset.zip((anc_19_im,pos_19_1_im,tf.data.Dataset.from_tensor_slices(tf.ones(len(neg_1_im)))))\n",
    "data1=data1.concatenate(q)\n",
    "q = tf.data.Dataset.zip((anc_19_im,pos_19_2_im,tf.data.Dataset.from_tensor_slices(tf.ones(len(neg_1_im)))))\n",
    "data1=data1.concatenate(q)\n",
    "q = tf.data.Dataset.zip((anc_19_im,pos_19_3_im,tf.data.Dataset.from_tensor_slices(tf.ones(len(neg_1_im)))))\n",
    "data1=data1.concatenate(q)\n",
    "q = tf.data.Dataset.zip((anc_19_im,pos_19_4_im,tf.data.Dataset.from_tensor_slices(tf.ones(len(neg_1_im)))))\n",
    "data1=data1.concatenate(q)\n",
    "q = tf.data.Dataset.zip((anc_19_im,pos_19_5_im,tf.data.Dataset.from_tensor_slices(tf.ones(len(neg_1_im)))))\n",
    "data1=data1.concatenate(q)\n",
    "q = tf.data.Dataset.zip((anc_19_im,pos_19_6_im,tf.data.Dataset.from_tensor_slices(tf.ones(len(neg_1_im)))))\n",
    "data1=data1.concatenate(q)\n",
    "q = tf.data.Dataset.zip((anc_19_im,pos_19_7_im,tf.data.Dataset.from_tensor_slices(tf.ones(len(neg_1_im)))))\n",
    "data1=data1.concatenate(q)\n",
    "q = tf.data.Dataset.zip((anc_19_im,pos_19_8_im,tf.data.Dataset.from_tensor_slices(tf.ones(len(neg_1_im)))))\n",
    "data1=data1.concatenate(q)\n",
    "q = tf.data.Dataset.zip((anc_19_im,pos_19_9_im,tf.data.Dataset.from_tensor_slices(tf.ones(len(neg_1_im)))))\n",
    "data1=data1.concatenate(q)\n",
    "q = tf.data.Dataset.zip((anc_19_im,pos_19_10_im,tf.data.Dataset.from_tensor_slices(tf.ones(len(neg_1_im)))))\n",
    "data1=data1.concatenate(q)\n",
    "q = tf.data.Dataset.zip((anc_19_im,pos_19_11_im,tf.data.Dataset.from_tensor_slices(tf.ones(len(neg_1_im)))))\n",
    "data1=data1.concatenate(q)\n",
    "q = tf.data.Dataset.zip((anc_19_im,pos_19_12_im,tf.data.Dataset.from_tensor_slices(tf.ones(len(neg_1_im)))))\n",
    "data1=data1.concatenate(q)\n",
    "q = tf.data.Dataset.zip((anc_19_im,pos_19_13_im,tf.data.Dataset.from_tensor_slices(tf.ones(len(neg_1_im)))))\n",
    "data1=data1.concatenate(q)\n",
    "q = tf.data.Dataset.zip((anc_19_im,pos_19_14_im,tf.data.Dataset.from_tensor_slices(tf.ones(len(neg_1_im)))))\n",
    "data1=data1.concatenate(q)\n",
    "q = tf.data.Dataset.zip((anc_19_im,pos_19_15_im,tf.data.Dataset.from_tensor_slices(tf.ones(len(neg_1_im)))))\n",
    "data1=data1.concatenate(q)\n",
    "q = tf.data.Dataset.zip((anc_19_im,pos_19_16_im,tf.data.Dataset.from_tensor_slices(tf.ones(len(neg_1_im)))))\n",
    "data1=data1.concatenate(q)\n",
    "print(len(data1))"
   ]
  },
  {
   "cell_type": "code",
   "execution_count": 91,
   "id": "3fd7e40e",
   "metadata": {},
   "outputs": [
    {
     "name": "stdout",
     "output_type": "stream",
     "text": [
      "6470\n"
     ]
    }
   ],
   "source": [
    "print(len(data1))"
   ]
  },
  {
   "cell_type": "code",
   "execution_count": 92,
   "id": "12ad912c",
   "metadata": {},
   "outputs": [],
   "source": [
    "samples=negatives.as_numpy_iterator()"
   ]
  },
  {
   "cell_type": "code",
   "execution_count": 93,
   "id": "edb653b3",
   "metadata": {},
   "outputs": [
    {
     "data": {
      "text/plain": [
       "(b'data\\\\anchor\\\\01\\\\00001_5.jpg', b'data\\\\negative\\\\02\\\\00002_10.jpg', 0.0)"
      ]
     },
     "execution_count": 93,
     "metadata": {},
     "output_type": "execute_result"
    }
   ],
   "source": [
    "samples.next()"
   ]
  },
  {
   "cell_type": "code",
   "execution_count": 94,
   "id": "37d13fc8",
   "metadata": {},
   "outputs": [],
   "source": [
    "def preprocess_twin(input_img, validation_img, label):\n",
    "    return(preprocess(input_img), preprocess(validation_img), label)"
   ]
  },
  {
   "cell_type": "code",
   "execution_count": 95,
   "id": "ff2dbb21",
   "metadata": {},
   "outputs": [],
   "source": [
    "example = samples.next()"
   ]
  },
  {
   "cell_type": "code",
   "execution_count": 96,
   "id": "5a1d7075",
   "metadata": {},
   "outputs": [],
   "source": [
    "res = preprocess_twin(*example)"
   ]
  },
  {
   "cell_type": "code",
   "execution_count": 97,
   "id": "9c547c2a",
   "metadata": {},
   "outputs": [
    {
     "data": {
      "text/plain": [
       "<matplotlib.image.AxesImage at 0x260723062e0>"
      ]
     },
     "execution_count": 97,
     "metadata": {},
     "output_type": "execute_result"
    },
    {
     "data": {
      "image/png": "[encoded data removed]",
      "text/plain": [
       "<Figure size 432x288 with 1 Axes>"
      ]
     },
     "metadata": {
      "needs_background": "light"
     },
     "output_type": "display_data"
    }
   ],
   "source": [
    "plt.imshow(res[1])"
   ]
  },
  {
   "cell_type": "code",
   "execution_count": 98,
   "id": "7b8d8608",
   "metadata": {},
   "outputs": [],
   "source": [
    "data1=data1.map(preprocess_twin)"
   ]
  },
  {
   "cell_type": "code",
   "execution_count": 101,
   "id": "44842a10",
   "metadata": {},
   "outputs": [],
   "source": [
    "data1=data1.cache()\n",
    "data1 = data1.shuffle(buffer_size=7000)\n"
   ]
  },
  {
   "cell_type": "code",
   "execution_count": 104,
   "id": "29d676a5",
   "metadata": {},
   "outputs": [],
   "source": [
    "train_data = data1.take(round(len(data1)*.7))\n",
    "train_data = train_data.batch(16)\n",
    "train_data = train_data.prefetch(8)"
   ]
  },
  {
   "cell_type": "code",
   "execution_count": 106,
   "id": "6427f55c",
   "metadata": {},
   "outputs": [],
   "source": [
    "test_data = data1.skip(round(len(data1)*.7))\n",
    "test_data = test_data.take(round(len(data1)*.3))\n",
    "test_data = test_data.batch(16)\n",
    "test_data = test_data.prefetch(8)"
   ]
  },
  {
   "cell_type": "code",
   "execution_count": 107,
   "id": "39726ab6",
   "metadata": {},
   "outputs": [],
   "source": [
    "inp = Input(shape=(100,100,1), name='input_image')"
   ]
  },
  {
   "cell_type": "code",
   "execution_count": 108,
   "id": "10c13949",
   "metadata": {},
   "outputs": [
    {
     "name": "stdout",
     "output_type": "stream",
     "text": [
      "Model: \"embedding\"\n",
      "_________________________________________________________________\n",
      "Layer (type)                 Output Shape              Param #   \n",
      "=================================================================\n",
      "input_image (InputLayer)     [(None, 100, 100, 1)]     0         \n",
      "_________________________________________________________________\n",
      "conv2d (Conv2D)              (None, 91, 91, 64)        6464      \n",
      "_________________________________________________________________\n",
      "max_pooling2d (MaxPooling2D) (None, 46, 46, 64)        0         \n",
      "_________________________________________________________________\n",
      "conv2d_1 (Conv2D)            (None, 40, 40, 128)       401536    \n",
      "_________________________________________________________________\n",
      "max_pooling2d_1 (MaxPooling2 (None, 20, 20, 128)       0         \n",
      "_________________________________________________________________\n",
      "conv2d_2 (Conv2D)            (None, 17, 17, 128)       262272    \n",
      "_________________________________________________________________\n",
      "max_pooling2d_2 (MaxPooling2 (None, 9, 9, 128)         0         \n",
      "_________________________________________________________________\n",
      "conv2d_3 (Conv2D)            (None, 6, 6, 256)         524544    \n",
      "_________________________________________________________________\n",
      "flatten (Flatten)            (None, 9216)              0         \n",
      "_________________________________________________________________\n",
      "dense (Dense)                (None, 4096)              37752832  \n",
      "=================================================================\n",
      "Total params: 38,947,648\n",
      "Trainable params: 38,947,648\n",
      "Non-trainable params: 0\n",
      "_________________________________________________________________\n"
     ]
    }
   ],
   "source": [
    "c1 = Conv2D(64, (10,10), activation='relu')(inp)\n",
    "m1 = MaxPooling2D(64, (2,2), padding='same')(c1)\n",
    "c2 = Conv2D(128, (7,7), activation='relu')(m1)\n",
    "m2 = MaxPooling2D(64, (2,2), padding='same')(c2)\n",
    "c3 = Conv2D(128, (4,4), activation='relu')(m2)\n",
    "m3 = MaxPooling2D(64, (2,2), padding='same')(c3)\n",
    "c4 = Conv2D(256, (4,4), activation='relu')(m3)\n",
    "f1 = Flatten()(c4)\n",
    "d1 = Dense(4096, activation='sigmoid')(f1)\n",
    "mod = Model(inputs=[inp], outputs=[d1], name='embedding')\n",
    "mod.summary()"
   ]
  },
  {
   "cell_type": "code",
   "execution_count": 110,
   "id": "67de7681",
   "metadata": {},
   "outputs": [],
   "source": [
    "def make_embedding():\n",
    "    inp = Input(shape=(100,100,1),name='input image')\n",
    "    c1=Conv2D(64,(10,10),activation='relu')(inp)\n",
    "    m1 = MaxPooling2D(64, (2,2), padding='same')(c1)\n",
    "\n",
    "    c2 = Conv2D(128, (7,7), activation='relu')(m1)\n",
    "    m2 = MaxPooling2D(64, (2,2), padding='same')(c2)\n",
    "    \n",
    "    c3 = Conv2D(128, (4,4), activation='relu')(m2)\n",
    "    m3 = MaxPooling2D(64, (2,2), padding='same')(c3)\n",
    "    \n",
    "    c4 = Conv2D(256, (4,4), activation='relu')(m3)\n",
    "    f1 = Flatten()(c4)\n",
    "    d1 = Dense(4096, activation='sigmoid')(f1)\n",
    "    \n",
    "    \n",
    "    return Model(inputs=[inp], outputs=[d1], name='embedding')"
   ]
  },
  {
   "cell_type": "code",
   "execution_count": 111,
   "id": "f4518eac",
   "metadata": {},
   "outputs": [
    {
     "name": "stdout",
     "output_type": "stream",
     "text": [
      "Model: \"embedding\"\n",
      "_________________________________________________________________\n",
      "Layer (type)                 Output Shape              Param #   \n",
      "=================================================================\n",
      "input image (InputLayer)     [(None, 100, 100, 1)]     0         \n",
      "_________________________________________________________________\n",
      "conv2d_4 (Conv2D)            (None, 91, 91, 64)        6464      \n",
      "_________________________________________________________________\n",
      "max_pooling2d_3 (MaxPooling2 (None, 46, 46, 64)        0         \n",
      "_________________________________________________________________\n",
      "conv2d_5 (Conv2D)            (None, 40, 40, 128)       401536    \n",
      "_________________________________________________________________\n",
      "max_pooling2d_4 (MaxPooling2 (None, 20, 20, 128)       0         \n",
      "_________________________________________________________________\n",
      "conv2d_6 (Conv2D)            (None, 17, 17, 128)       262272    \n",
      "_________________________________________________________________\n",
      "max_pooling2d_5 (MaxPooling2 (None, 9, 9, 128)         0         \n",
      "_________________________________________________________________\n",
      "conv2d_7 (Conv2D)            (None, 6, 6, 256)         524544    \n",
      "_________________________________________________________________\n",
      "flatten_1 (Flatten)          (None, 9216)              0         \n",
      "_________________________________________________________________\n",
      "dense_1 (Dense)              (None, 4096)              37752832  \n",
      "=================================================================\n",
      "Total params: 38,947,648\n",
      "Trainable params: 38,947,648\n",
      "Non-trainable params: 0\n",
      "_________________________________________________________________\n"
     ]
    }
   ],
   "source": [
    "embedding = make_embedding()\n",
    "embedding.summary()"
   ]
  },
  {
   "cell_type": "code",
   "execution_count": 112,
   "id": "84ce2e2c",
   "metadata": {},
   "outputs": [],
   "source": [
    "class L1Dist(Layer):\n",
    "    \n",
    "    # Init method - inheritance\n",
    "    def __init__(self, **kwargs):\n",
    "        super().__init__()\n",
    "       \n",
    "    # Magic happens here - similarity calculation\n",
    "    def call(self, input_embedding, validation_embedding):\n",
    "        return tf.math.abs(input_embedding - validation_embedding)"
   ]
  },
  {
   "cell_type": "code",
   "execution_count": 113,
   "id": "628964ef",
   "metadata": {},
   "outputs": [],
   "source": [
    " l1 = L1Dist()"
   ]
  },
  {
   "cell_type": "code",
   "execution_count": 114,
   "id": "1e791001",
   "metadata": {},
   "outputs": [
    {
     "data": {
      "text/plain": [
       "<__main__.L1Dist at 0x26072544550>"
      ]
     },
     "execution_count": 114,
     "metadata": {},
     "output_type": "execute_result"
    }
   ],
   "source": [
    "l1"
   ]
  },
  {
   "cell_type": "code",
   "execution_count": 115,
   "id": "07a8b205",
   "metadata": {},
   "outputs": [],
   "source": [
    "input_image = Input(name='input_img', shape=(100,100,1))\n",
    "validation_image = Input(name='validation_img', shape=(100,100,1))"
   ]
  },
  {
   "cell_type": "code",
   "execution_count": 116,
   "id": "42f4c9a7",
   "metadata": {},
   "outputs": [],
   "source": [
    "inp_embedding = embedding(input_image)\n",
    "val_embedding = embedding(validation_image)"
   ]
  },
  {
   "cell_type": "code",
   "execution_count": 117,
   "id": "641b745e",
   "metadata": {},
   "outputs": [],
   "source": [
    "siamese_layer = L1Dist()"
   ]
  },
  {
   "cell_type": "code",
   "execution_count": 118,
   "id": "3f9e7247",
   "metadata": {},
   "outputs": [
    {
     "data": {
      "text/plain": [
       "<KerasTensor: shape=(None, 4096) dtype=float32 (created by layer 'l1_dist_1')>"
      ]
     },
     "execution_count": 118,
     "metadata": {},
     "output_type": "execute_result"
    }
   ],
   "source": [
    "distances = siamese_layer(inp_embedding, val_embedding)\n",
    "distances"
   ]
  },
  {
   "cell_type": "code",
   "execution_count": 119,
   "id": "35cad13e",
   "metadata": {},
   "outputs": [],
   "source": [
    "classifier = Dense(1, activation='sigmoid')(distances)"
   ]
  },
  {
   "cell_type": "code",
   "execution_count": 120,
   "id": "508374ba",
   "metadata": {},
   "outputs": [
    {
     "data": {
      "text/plain": [
       "<KerasTensor: shape=(None, 1) dtype=float32 (created by layer 'dense_2')>"
      ]
     },
     "execution_count": 120,
     "metadata": {},
     "output_type": "execute_result"
    }
   ],
   "source": [
    "classifier"
   ]
  },
  {
   "cell_type": "code",
   "execution_count": 121,
   "id": "a303e102",
   "metadata": {},
   "outputs": [
    {
     "name": "stdout",
     "output_type": "stream",
     "text": [
      "Model: \"SiameseNetwork\"\n",
      "__________________________________________________________________________________________________\n",
      "Layer (type)                    Output Shape         Param #     Connected to                     \n",
      "==================================================================================================\n",
      "input_img (InputLayer)          [(None, 100, 100, 1) 0                                            \n",
      "__________________________________________________________________________________________________\n",
      "validation_img (InputLayer)     [(None, 100, 100, 1) 0                                            \n",
      "__________________________________________________________________________________________________\n",
      "embedding (Functional)          (None, 4096)         38947648    input_img[0][0]                  \n",
      "                                                                 validation_img[0][0]             \n",
      "__________________________________________________________________________________________________\n",
      "l1_dist_1 (L1Dist)              (None, 4096)         0           embedding[0][0]                  \n",
      "                                                                 embedding[1][0]                  \n",
      "__________________________________________________________________________________________________\n",
      "dense_2 (Dense)                 (None, 1)            4097        l1_dist_1[0][0]                  \n",
      "==================================================================================================\n",
      "Total params: 38,951,745\n",
      "Trainable params: 38,951,745\n",
      "Non-trainable params: 0\n",
      "__________________________________________________________________________________________________\n"
     ]
    }
   ],
   "source": [
    "siamese_network = Model(inputs=[input_image, validation_image], outputs=classifier, name='SiameseNetwork')\n",
    "siamese_network.summary()"
   ]
  },
  {
   "cell_type": "code",
   "execution_count": 124,
   "id": "19890564",
   "metadata": {},
   "outputs": [],
   "source": [
    "def make_siamese_model(): \n",
    "    \n",
    "    # Anchor image input in the network\n",
    "    input_image = Input(name='input_img', shape=(100,100,1))\n",
    "    \n",
    "    # Validation image in the network \n",
    "    validation_image = Input(name='validation_img', shape=(100,100,1))\n",
    "    \n",
    "    # Combine siamese distance components\n",
    "    siamese_layer = L1Dist()\n",
    "    siamese_layer._name = 'distance'\n",
    "    distances = siamese_layer(embedding(input_image), embedding(validation_image))\n",
    "    \n",
    "    # Classification layer \n",
    "    classifier = Dense(1, activation='sigmoid')(distances)\n",
    "    \n",
    "    return Model(inputs=[input_image, validation_image], outputs=classifier, name='SiameseNetwork')"
   ]
  },
  {
   "cell_type": "code",
   "execution_count": 125,
   "id": "f43c2272",
   "metadata": {},
   "outputs": [],
   "source": [
    "siamese_model = make_siamese_model()"
   ]
  },
  {
   "cell_type": "code",
   "execution_count": 126,
   "id": "76a8f355",
   "metadata": {},
   "outputs": [
    {
     "name": "stdout",
     "output_type": "stream",
     "text": [
      "Model: \"SiameseNetwork\"\n",
      "__________________________________________________________________________________________________\n",
      "Layer (type)                    Output Shape         Param #     Connected to                     \n",
      "==================================================================================================\n",
      "input_img (InputLayer)          [(None, 100, 100, 1) 0                                            \n",
      "__________________________________________________________________________________________________\n",
      "validation_img (InputLayer)     [(None, 100, 100, 1) 0                                            \n",
      "__________________________________________________________________________________________________\n",
      "embedding (Functional)          (None, 4096)         38947648    input_img[0][0]                  \n",
      "                                                                 validation_img[0][0]             \n",
      "__________________________________________________________________________________________________\n",
      "distance (L1Dist)               (None, 4096)         0           embedding[2][0]                  \n",
      "                                                                 embedding[3][0]                  \n",
      "__________________________________________________________________________________________________\n",
      "dense_3 (Dense)                 (None, 1)            4097        distance[0][0]                   \n",
      "==================================================================================================\n",
      "Total params: 38,951,745\n",
      "Trainable params: 38,951,745\n",
      "Non-trainable params: 0\n",
      "__________________________________________________________________________________________________\n"
     ]
    }
   ],
   "source": [
    "siamese_model.summary()"
   ]
  },
  {
   "cell_type": "code",
   "execution_count": 127,
   "id": "3d261c8c",
   "metadata": {},
   "outputs": [],
   "source": [
    "binary_cross_loss = tf.losses.BinaryCrossentropy()"
   ]
  },
  {
   "cell_type": "code",
   "execution_count": 128,
   "id": "b516392b",
   "metadata": {},
   "outputs": [],
   "source": [
    "opt = tf.keras.optimizers.Adam(1e-4) # 0.0001"
   ]
  },
  {
   "cell_type": "code",
   "execution_count": 129,
   "id": "0ca66006",
   "metadata": {},
   "outputs": [],
   "source": [
    "checkpoint_dir = './training_checkpoints'\n",
    "checkpoint_prefix = os.path.join(checkpoint_dir, 'ckpt')\n",
    "checkpoint = tf.train.Checkpoint(opt=opt, siamese_model=siamese_model)"
   ]
  },
  {
   "cell_type": "code",
   "execution_count": 130,
   "id": "02dc1023",
   "metadata": {},
   "outputs": [],
   "source": [
    "test_batch = train_data.as_numpy_iterator()"
   ]
  },
  {
   "cell_type": "code",
   "execution_count": 131,
   "id": "e9c684f2",
   "metadata": {},
   "outputs": [],
   "source": [
    "batch_1 = test_batch.next()"
   ]
  },
  {
   "cell_type": "code",
   "execution_count": 132,
   "id": "eb5a92da",
   "metadata": {},
   "outputs": [],
   "source": [
    "X = batch_1[:2]\n",
    "y = batch_1[2]"
   ]
  },
  {
   "cell_type": "code",
   "execution_count": 133,
   "id": "a18257e3",
   "metadata": {},
   "outputs": [
    {
     "data": {
      "text/plain": [
       "array([1., 0., 1., 0., 0., 1., 1., 1., 0., 0., 1., 1., 0., 1., 1., 0.],\n",
       "      dtype=float32)"
      ]
     },
     "execution_count": 133,
     "metadata": {},
     "output_type": "execute_result"
    }
   ],
   "source": [
    "y"
   ]
  },
  {
   "cell_type": "code",
   "execution_count": 134,
   "id": "f156d3cf",
   "metadata": {},
   "outputs": [],
   "source": [
    "@tf.function\n",
    "def train_step(batch):\n",
    "    \n",
    "    # Record all of our operations \n",
    "    with tf.GradientTape() as tape:     \n",
    "        # Get anchor and positive/negative image\n",
    "        X = batch[:2]\n",
    "        # Get label\n",
    "        y = batch[2]\n",
    "        \n",
    "        # Forward pass\n",
    "        yhat = siamese_model(X, training=True)\n",
    "        # Calculate loss\n",
    "        loss = binary_cross_loss(y, yhat)\n",
    "    print(loss)\n",
    "        \n",
    "    # Calculate gradients\n",
    "    grad = tape.gradient(loss, siamese_model.trainable_variables)\n",
    "    \n",
    "    # Calculate updated weights and apply to siamese model\n",
    "    opt.apply_gradients(zip(grad, siamese_model.trainable_variables))\n",
    "    \n",
    "    # Return loss\n",
    "    return loss"
   ]
  },
  {
   "cell_type": "code",
   "execution_count": 135,
   "id": "6a05588d",
   "metadata": {},
   "outputs": [],
   "source": [
    "def train(data, EPOCHS):\n",
    "    # Loop through epochs\n",
    "    for epoch in range(1, EPOCHS+1):\n",
    "        print('\\n Epoch {}/{}'.format(epoch, EPOCHS))\n",
    "        progbar = tf.keras.utils.Progbar(len(data))\n",
    "        \n",
    "        # Loop through each batch\n",
    "        for idx, batch in enumerate(data):\n",
    "            # Run train step here\n",
    "            train_step(batch)\n",
    "            progbar.update(idx+1)\n",
    "        \n",
    "        # Save checkpoints\n",
    "        if epoch % 10 == 0: \n",
    "            checkpoint.save(file_prefix=checkpoint_prefix)"
   ]
  },
  {
   "cell_type": "code",
   "execution_count": 137,
   "id": "ba27695b",
   "metadata": {},
   "outputs": [],
   "source": [
    "EPOCHS = 10"
   ]
  },
  {
   "cell_type": "code",
   "execution_count": 138,
   "id": "ce5fbf44",
   "metadata": {},
   "outputs": [
    {
     "name": "stdout",
     "output_type": "stream",
     "text": [
      "\n",
      " Epoch 1/10\n",
      "Tensor(\"binary_crossentropy/weighted_loss/value:0\", shape=(), dtype=float32)\n",
      "Tensor(\"binary_crossentropy/weighted_loss/value:0\", shape=(), dtype=float32)\n",
      "283/284 [============================>.] - ETA: 1sTensor(\"binary_crossentropy/weighted_loss/value:0\", shape=(), dtype=float32)\n",
      "284/284 [==============================] - 496s 2s/step\n",
      "\n",
      " Epoch 2/10\n",
      "284/284 [==============================] - 450s 2s/step\n",
      "\n",
      " Epoch 3/10\n",
      "284/284 [==============================] - 457s 2s/step\n",
      "\n",
      " Epoch 4/10\n",
      "284/284 [==============================] - 451s 2s/step\n",
      "\n",
      " Epoch 5/10\n",
      "284/284 [==============================] - 445s 2s/step\n",
      "\n",
      " Epoch 6/10\n",
      "284/284 [==============================] - 436s 2s/step\n",
      "\n",
      " Epoch 7/10\n",
      "284/284 [==============================] - 488s 2s/step\n",
      "\n",
      " Epoch 8/10\n",
      "284/284 [==============================] - 471s 2s/step\n",
      "\n",
      " Epoch 9/10\n",
      "284/284 [==============================] - 449s 2s/step\n",
      "\n",
      " Epoch 10/10\n",
      "284/284 [==============================] - 432s 2s/step\n"
     ]
    }
   ],
   "source": [
    "train(train_data, EPOCHS)"
   ]
  },
  {
   "cell_type": "code",
   "execution_count": 139,
   "id": "7e669014",
   "metadata": {},
   "outputs": [],
   "source": [
    "from tensorflow.keras.metrics import Precision, Recall"
   ]
  },
  {
   "cell_type": "code",
   "execution_count": 140,
   "id": "f3de00f2",
   "metadata": {},
   "outputs": [],
   "source": [
    "test_input, test_val, y_true = test_data.as_numpy_iterator().next()"
   ]
  },
  {
   "cell_type": "code",
   "execution_count": 141,
   "id": "63012a25",
   "metadata": {},
   "outputs": [
    {
     "data": {
      "text/plain": [
       "array([[2.1343684e-23],\n",
       "       [5.9704050e-02],\n",
       "       [5.3711108e-10],\n",
       "       [9.9999905e-01],\n",
       "       [7.7168589e-15],\n",
       "       [1.6068977e-04],\n",
       "       [4.9384914e-07],\n",
       "       [1.0564483e-03],\n",
       "       [2.7774360e-19],\n",
       "       [9.4573033e-07],\n",
       "       [2.7694497e-02],\n",
       "       [9.8023021e-01],\n",
       "       [1.1373905e-01],\n",
       "       [9.9999976e-01],\n",
       "       [1.4696512e-15],\n",
       "       [3.6230627e-29]], dtype=float32)"
      ]
     },
     "execution_count": 141,
     "metadata": {},
     "output_type": "execute_result"
    }
   ],
   "source": [
    "y_hat = siamese_model.predict([test_input, test_val])\n",
    "y_hat"
   ]
  },
  {
   "cell_type": "code",
   "execution_count": 142,
   "id": "a49173f6",
   "metadata": {},
   "outputs": [
    {
     "data": {
      "text/plain": [
       "array([0., 0., 0., 1., 0., 0., 0., 0., 0., 0., 0., 1., 0., 1., 0., 0.],\n",
       "      dtype=float32)"
      ]
     },
     "execution_count": 142,
     "metadata": {},
     "output_type": "execute_result"
    }
   ],
   "source": [
    "y_true"
   ]
  },
  {
   "cell_type": "code",
   "execution_count": 144,
   "id": "de661fae",
   "metadata": {},
   "outputs": [
    {
     "data": {
      "text/plain": [
       "<matplotlib.image.AxesImage at 0x26163427ca0>"
      ]
     },
     "execution_count": 144,
     "metadata": {},
     "output_type": "execute_result"
    },
    {
     "data": {
      "image/png": "[encoded data removed]",
      "text/plain": [
       "<Figure size 432x288 with 1 Axes>"
      ]
     },
     "metadata": {
      "needs_background": "light"
     },
     "output_type": "display_data"
    }
   ],
   "source": [
    "plt.imshow(test_input[0])\n"
   ]
  },
  {
   "cell_type": "code",
   "execution_count": 145,
   "id": "617ef3ca",
   "metadata": {},
   "outputs": [
    {
     "data": {
      "text/plain": [
       "<matplotlib.image.AxesImage at 0x261634869a0>"
      ]
     },
     "execution_count": 145,
     "metadata": {},
     "output_type": "execute_result"
    },
    {
     "data": {
      "image/png": "[encoded data removed]",
      "text/plain": [
       "<Figure size 432x288 with 1 Axes>"
      ]
     },
     "metadata": {
      "needs_background": "light"
     },
     "output_type": "display_data"
    }
   ],
   "source": [
    "plt.imshow(test_val[0])"
   ]
  },
  {
   "cell_type": "code",
   "execution_count": 149,
   "id": "ca3d0d59",
   "metadata": {},
   "outputs": [
    {
     "data": {
      "text/plain": [
       "<matplotlib.image.AxesImage at 0x26163b43100>"
      ]
     },
     "execution_count": 149,
     "metadata": {},
     "output_type": "execute_result"
    },
    {
     "data": {
      "image/png": "[encoded data removed]",
      "text/plain": [
       "<Figure size 432x288 with 1 Axes>"
      ]
     },
     "metadata": {
      "needs_background": "light"
     },
     "output_type": "display_data"
    }
   ],
   "source": [
    "plt.imshow(test_val[3])"
   ]
  },
  {
   "cell_type": "code",
   "execution_count": 148,
   "id": "71390b56",
   "metadata": {},
   "outputs": [
    {
     "data": {
      "text/plain": [
       "<matplotlib.image.AxesImage at 0x26163ae0c70>"
      ]
     },
     "execution_count": 148,
     "metadata": {},
     "output_type": "execute_result"
    },
    {
     "data": {
      "image/png": "[encoded data removed]",
      "text/plain": [
       "<Figure size 432x288 with 1 Axes>"
      ]
     },
     "metadata": {
      "needs_background": "light"
     },
     "output_type": "display_data"
    }
   ],
   "source": [
    "plt.imshow(test_input[3])"
   ]
  },
  {
   "cell_type": "code",
   "execution_count": 152,
   "id": "6b870931",
   "metadata": {},
   "outputs": [
    {
     "data": {
      "text/plain": [
       "1.0"
      ]
     },
     "execution_count": 152,
     "metadata": {},
     "output_type": "execute_result"
    }
   ],
   "source": [
    "m = Recall()\n",
    "y_hat = [0, 0, 0, 1, 0, 0, 0, 0, 0, 0, 0, 1, 0, 1, 0, 0]\n",
    "# Calculating the recall value \n",
    "m.update_state(y_true, y_hat)\n",
    "\n",
    "# Return Recall Result\n",
    "m.result().numpy()"
   ]
  },
  {
   "cell_type": "code",
   "execution_count": 153,
   "id": "be4df196",
   "metadata": {},
   "outputs": [
    {
     "data": {
      "text/plain": [
       "1.0"
      ]
     },
     "execution_count": 153,
     "metadata": {},
     "output_type": "execute_result"
    }
   ],
   "source": [
    "m = Precision()\n",
    "\n",
    "# Calculating the recall value \n",
    "m.update_state(y_true, y_hat)\n",
    "\n",
    "# Return Recall Result\n",
    "m.result().numpy()"
   ]
  },
  {
   "cell_type": "code",
   "execution_count": 157,
   "id": "3e022d43",
   "metadata": {},
   "outputs": [],
   "source": [
    "siamese_model.compile(optimizer='adam', loss='binary_crossentropy')\n",
    "siamese_model.save('siamesemodel.h5')"
   ]
  },
  {
   "cell_type": "code",
   "execution_count": 155,
   "id": "22e16c57",
   "metadata": {},
   "outputs": [
    {
     "data": {
      "text/plain": [
       "__main__.L1Dist"
      ]
     },
     "execution_count": 155,
     "metadata": {},
     "output_type": "execute_result"
    }
   ],
   "source": [
    "L1Dist"
   ]
  },
  {
   "cell_type": "code",
   "execution_count": 158,
   "id": "593f58ac",
   "metadata": {},
   "outputs": [],
   "source": [
    "model = tf.keras.models.load_model('siamesemodel.h5', \n",
    "                                   custom_objects={'L1Dist':L1Dist, 'BinaryCrossentropy':tf.losses.BinaryCrossentropy})"
   ]
  },
  {
   "cell_type": "code",
   "execution_count": 159,
   "id": "1c1d74d9",
   "metadata": {},
   "outputs": [
    {
     "data": {
      "text/plain": [
       "array([[2.1343684e-23],\n",
       "       [5.9704050e-02],\n",
       "       [5.3711108e-10],\n",
       "       [9.9999905e-01],\n",
       "       [7.7168589e-15],\n",
       "       [1.6068977e-04],\n",
       "       [4.9384914e-07],\n",
       "       [1.0564483e-03],\n",
       "       [2.7774360e-19],\n",
       "       [9.4573033e-07],\n",
       "       [2.7694497e-02],\n",
       "       [9.8023021e-01],\n",
       "       [1.1373905e-01],\n",
       "       [9.9999976e-01],\n",
       "       [1.4696512e-15],\n",
       "       [3.6230627e-29]], dtype=float32)"
      ]
     },
     "execution_count": 159,
     "metadata": {},
     "output_type": "execute_result"
    }
   ],
   "source": [
    "model.predict([test_input, test_val])"
   ]
  },
  {
   "cell_type": "code",
   "execution_count": null,
   "id": "3f3d356c",
   "metadata": {},
   "outputs": [],
   "source": []
  }
 ],
 "metadata": {
  "kernelspec": {
   "display_name": "Python 3 (ipykernel)",
   "language": "python",
   "name": "python3"
  },
  "language_info": {
   "codemirror_mode": {
    "name": "ipython",
    "version": 3
   },
   "file_extension": ".py",
   "mimetype": "text/x-python",
   "name": "python",
   "nbconvert_exporter": "python",
   "pygments_lexer": "ipython3",
   "version": "3.9.12"
  }
 },
 "nbformat": 4,
 "nbformat_minor": 5
}
